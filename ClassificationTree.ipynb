{
 "cells": [
  {
   "cell_type": "code",
   "execution_count": 115,
   "metadata": {},
   "outputs": [
    {
     "data": {
      "text/plain": [
       "'\\nThis notebook is oriented to use a given dataset customized to contains 6 features and training a classification tree\\nThis features are: cqt, rmse, energy, mfccs, chromagram and spectral contrast\\nThis notebook is currently in development phase, so contains a considerably quantity of test code\\n\\n'"
      ]
     },
     "execution_count": 115,
     "metadata": {},
     "output_type": "execute_result"
    }
   ],
   "source": [
    "'''\n",
    "This notebook is oriented to use a given dataset customized to contains 6 features and training a classification tree\n",
    "This features are: cqt, rmse, energy, mfccs, chromagram and spectral contrast\n",
    "This notebook is currently in development phase, so contains a considerably quantity of test code\n",
    "\n",
    "'''"
   ]
  },
  {
   "cell_type": "code",
   "execution_count": 11,
   "metadata": {},
   "outputs": [
    {
     "name": "stdout",
     "output_type": "stream",
     "text": [
      "   Unnamed: 0  Genre  Energy_Mean  RMSE_Mean  ZCR_Mean  CQT_Mean  \\\n",
      "0           0  Blues    40.490492   0.130192     55050  0.001573   \n",
      "1           1  Blues    23.686239   0.095925     37156  0.003940   \n",
      "2           2  Blues    68.631996   0.175582     50560  0.007814   \n",
      "3           3  Blues    53.671735   0.141053     22060  0.003624   \n",
      "4           4  Blues    21.844622   0.091499     67244  0.001955   \n",
      "\n",
      "   Spectral_Contrast_Mean  Chromagram_Mean  Tempo_Mean  STFT_Mean  ...  \\\n",
      "0               20.526699         0.278385  123.046875   0.000037  ...   \n",
      "1               20.676128         0.266356  107.666016   0.000021  ...   \n",
      "2               22.197517         0.272697  161.499023   0.000009  ...   \n",
      "3               21.426268         0.252442  172.265625   0.000005  ...   \n",
      "4               21.466338         0.269720  135.999178   0.000014  ...   \n",
      "\n",
      "   MFCCS3  MFCCS4  MFCCS5  MFCCS6  MFCCS7  MFCCS8  MFCCS9  MFCCS10  MFCCS11  \\\n",
      "0     226     125     114      82      44      39      31       57       60   \n",
      "1     774     341     139      94      82      75      64       83       81   \n",
      "2     197     252      85      80      59      34      39       40       40   \n",
      "3     327     183     108      50      55      36      82       48       40   \n",
      "4     187     150      54      76      52      26     107       66       49   \n",
      "\n",
      "   MFCCS12  \n",
      "0       35  \n",
      "1       55  \n",
      "2       51  \n",
      "3       35  \n",
      "4       37  \n",
      "\n",
      "[5 rows x 39 columns]\n",
      "done\n"
     ]
    }
   ],
   "source": [
    "import tensorflow as tf\n",
    "import pandas as pd\n",
    "from pathlib import Path\n",
    "import librosa, librosa.display\n",
    "import matplotlib.pyplot as plt\n",
    "import numpy as np\n",
    "import gc\n",
    "\n",
    "# Reading Audio Data\n",
    "\n",
    "\n",
    "# features = pd.read_csv('Datasets/2000Spoti.csv', encoding='latin-1', thousands=',')\n",
    "\n",
    "features = pd.read_csv('Dataframes/var_mean_dict.csv', encoding='latin-1', thousands=',') # Media genera 0.62-0.67 con todas las caracteristicas **best result2**\n",
    "\n",
    "print(features.head(5))\n",
    "\n",
    "print('done')"
   ]
  },
  {
   "cell_type": "code",
   "execution_count": 12,
   "metadata": {},
   "outputs": [
    {
     "name": "stdout",
     "output_type": "stream",
     "text": [
      "['Blues' 'Classical' 'Country' 'Disco' 'Hiphop' 'Jazz' 'Metal' 'Pop'\n",
      " 'Reggae' 'Rock']\n",
      "The labels of out dataset are: ['Blues' 'Classical' 'Country' 'Disco' 'Hiphop' 'Jazz' 'Metal' 'Pop'\n",
      " 'Reggae' 'Rock']\n",
      "And their shape is: (1000,)\n",
      "The features of out dataset are:\n"
     ]
    },
    {
     "data": {
      "text/html": [
       "<div>\n",
       "<style scoped>\n",
       "    .dataframe tbody tr th:only-of-type {\n",
       "        vertical-align: middle;\n",
       "    }\n",
       "\n",
       "    .dataframe tbody tr th {\n",
       "        vertical-align: top;\n",
       "    }\n",
       "\n",
       "    .dataframe thead th {\n",
       "        text-align: right;\n",
       "    }\n",
       "</style>\n",
       "<table border=\"1\" class=\"dataframe\">\n",
       "  <thead>\n",
       "    <tr style=\"text-align: right;\">\n",
       "      <th></th>\n",
       "      <th>Energy_Mean</th>\n",
       "      <th>RMSE_Mean</th>\n",
       "      <th>ZCR_Mean</th>\n",
       "      <th>Spectral_Contrast_Mean</th>\n",
       "      <th>Chromagram_Mean</th>\n",
       "      <th>Tempo_Mean</th>\n",
       "      <th>Spectral_Centroid_Mean</th>\n",
       "      <th>MFCCS0</th>\n",
       "      <th>MFCCS1</th>\n",
       "      <th>MFCCS2</th>\n",
       "      <th>MFCCS3</th>\n",
       "      <th>MFCCS4</th>\n",
       "      <th>MFCCS5</th>\n",
       "      <th>MFCCS6</th>\n",
       "      <th>MFCCS7</th>\n",
       "      <th>MFCCS8</th>\n",
       "      <th>MFCCS9</th>\n",
       "      <th>MFCCS10</th>\n",
       "      <th>MFCCS11</th>\n",
       "      <th>MFCCS12</th>\n",
       "    </tr>\n",
       "  </thead>\n",
       "  <tbody>\n",
       "    <tr>\n",
       "      <th>0</th>\n",
       "      <td>40.490492</td>\n",
       "      <td>0.130192</td>\n",
       "      <td>55050</td>\n",
       "      <td>20.526699</td>\n",
       "      <td>0.278385</td>\n",
       "      <td>123.046875</td>\n",
       "      <td>1784.165850</td>\n",
       "      <td>2524</td>\n",
       "      <td>331</td>\n",
       "      <td>260</td>\n",
       "      <td>226</td>\n",
       "      <td>125</td>\n",
       "      <td>114</td>\n",
       "      <td>82</td>\n",
       "      <td>44</td>\n",
       "      <td>39</td>\n",
       "      <td>31</td>\n",
       "      <td>57</td>\n",
       "      <td>60</td>\n",
       "      <td>35</td>\n",
       "    </tr>\n",
       "    <tr>\n",
       "      <th>1</th>\n",
       "      <td>23.686239</td>\n",
       "      <td>0.095925</td>\n",
       "      <td>37156</td>\n",
       "      <td>20.676128</td>\n",
       "      <td>0.266356</td>\n",
       "      <td>107.666016</td>\n",
       "      <td>1530.176679</td>\n",
       "      <td>8081</td>\n",
       "      <td>670</td>\n",
       "      <td>787</td>\n",
       "      <td>774</td>\n",
       "      <td>341</td>\n",
       "      <td>139</td>\n",
       "      <td>94</td>\n",
       "      <td>82</td>\n",
       "      <td>75</td>\n",
       "      <td>64</td>\n",
       "      <td>83</td>\n",
       "      <td>81</td>\n",
       "      <td>55</td>\n",
       "    </tr>\n",
       "    <tr>\n",
       "      <th>2</th>\n",
       "      <td>68.631996</td>\n",
       "      <td>0.175582</td>\n",
       "      <td>50560</td>\n",
       "      <td>22.197517</td>\n",
       "      <td>0.272697</td>\n",
       "      <td>161.499023</td>\n",
       "      <td>1552.811865</td>\n",
       "      <td>3447</td>\n",
       "      <td>397</td>\n",
       "      <td>491</td>\n",
       "      <td>197</td>\n",
       "      <td>252</td>\n",
       "      <td>85</td>\n",
       "      <td>80</td>\n",
       "      <td>59</td>\n",
       "      <td>34</td>\n",
       "      <td>39</td>\n",
       "      <td>40</td>\n",
       "      <td>40</td>\n",
       "      <td>51</td>\n",
       "    </tr>\n",
       "    <tr>\n",
       "      <th>3</th>\n",
       "      <td>53.671735</td>\n",
       "      <td>0.141053</td>\n",
       "      <td>22060</td>\n",
       "      <td>21.426268</td>\n",
       "      <td>0.252442</td>\n",
       "      <td>172.265625</td>\n",
       "      <td>1070.106615</td>\n",
       "      <td>5910</td>\n",
       "      <td>378</td>\n",
       "      <td>852</td>\n",
       "      <td>327</td>\n",
       "      <td>183</td>\n",
       "      <td>108</td>\n",
       "      <td>50</td>\n",
       "      <td>55</td>\n",
       "      <td>36</td>\n",
       "      <td>82</td>\n",
       "      <td>48</td>\n",
       "      <td>40</td>\n",
       "      <td>35</td>\n",
       "    </tr>\n",
       "    <tr>\n",
       "      <th>4</th>\n",
       "      <td>21.844622</td>\n",
       "      <td>0.091499</td>\n",
       "      <td>67244</td>\n",
       "      <td>21.466338</td>\n",
       "      <td>0.269720</td>\n",
       "      <td>135.999178</td>\n",
       "      <td>1835.004266</td>\n",
       "      <td>5897</td>\n",
       "      <td>372</td>\n",
       "      <td>1344</td>\n",
       "      <td>187</td>\n",
       "      <td>150</td>\n",
       "      <td>54</td>\n",
       "      <td>76</td>\n",
       "      <td>52</td>\n",
       "      <td>26</td>\n",
       "      <td>107</td>\n",
       "      <td>66</td>\n",
       "      <td>49</td>\n",
       "      <td>37</td>\n",
       "    </tr>\n",
       "  </tbody>\n",
       "</table>\n",
       "</div>"
      ],
      "text/plain": [
       "   Energy_Mean  RMSE_Mean  ZCR_Mean  Spectral_Contrast_Mean  Chromagram_Mean  \\\n",
       "0    40.490492   0.130192     55050               20.526699         0.278385   \n",
       "1    23.686239   0.095925     37156               20.676128         0.266356   \n",
       "2    68.631996   0.175582     50560               22.197517         0.272697   \n",
       "3    53.671735   0.141053     22060               21.426268         0.252442   \n",
       "4    21.844622   0.091499     67244               21.466338         0.269720   \n",
       "\n",
       "   Tempo_Mean  Spectral_Centroid_Mean  MFCCS0  MFCCS1  MFCCS2  MFCCS3  MFCCS4  \\\n",
       "0  123.046875             1784.165850    2524     331     260     226     125   \n",
       "1  107.666016             1530.176679    8081     670     787     774     341   \n",
       "2  161.499023             1552.811865    3447     397     491     197     252   \n",
       "3  172.265625             1070.106615    5910     378     852     327     183   \n",
       "4  135.999178             1835.004266    5897     372    1344     187     150   \n",
       "\n",
       "   MFCCS5  MFCCS6  MFCCS7  MFCCS8  MFCCS9  MFCCS10  MFCCS11  MFCCS12  \n",
       "0     114      82      44      39      31       57       60       35  \n",
       "1     139      94      82      75      64       83       81       55  \n",
       "2      85      80      59      34      39       40       40       51  \n",
       "3     108      50      55      36      82       48       40       35  \n",
       "4      54      76      52      26     107       66       49       37  "
      ]
     },
     "execution_count": 12,
     "metadata": {},
     "output_type": "execute_result"
    }
   ],
   "source": [
    "\n",
    "#extracting labels and features\n",
    "\n",
    "labelColumn = 'Genre'\n",
    "\n",
    "labels = np.array(features[labelColumn])\n",
    "print(np.unique(labels))\n",
    "\n",
    "print(\"The labels of out dataset are:\", np.unique(labels))\n",
    "print(\"And their shape is:\", labels.shape)\n",
    "\n",
    "\n",
    "# Only var no CQT\n",
    "# featureColumsToDrop = ['Unnamed: 0','STFT_Mean.1', 'CQT_Var', 'STFT_Var.1', 'Genre', 'Energy_Mean', 'RMSE_Mean', 'ZCR_Mean', 'CQT_Mean', 'Spectral_Contrast_Mean', 'Chromagram_Mean', 'Tempo_Mean', 'STFT_Mean', \n",
    "#                       'Autocorrelation_Mean', 'STFT_Mean', 'Spectral_Centroid_Mean', 'Rolloff_Mean']\n",
    "\n",
    "# Only var with CQT\n",
    "# featureColumsToDrop = ['Unnamed: 0', 'Energy_Mean', 'CQT_Var', 'ZCR_Mean', 'CQT_Mean', 'Spectral_Contrast_Mean', 'Chromagram_Mean', 'Tempo_Mean', 'STFT_Mean', \n",
    "#                       'Autocorrelation_Mean', 'STFT_Mean', 'Spectral_Centroid_Mean', 'Rolloff_Mean','STFT_Mean.1', 'STFT_Var.1', 'Genre']\n",
    "\n",
    "# Only mean no CQT\n",
    "\n",
    "# featureColumsToDrop = ['Unnamed: 0','Energy_Var', 'RMSE_Var', 'ZCR_Var', 'CQT_Var', 'Spectral_Contrast_Var', 'Chromagram_Var', 'Tempo_Var', 'STFT_Var',\n",
    "#                       'Autocorrelation_Var', 'STFT_Var', 'Spectral_Centroid_Var', 'Rolloff_Var', 'CQT_Mean', 'STFT_Mean.1', 'STFT_Var.1', 'Genre']\n",
    "\n",
    "# Only mean with CQT\n",
    "# featureColumsToDrop = ['Unnamed: 0', 'Energy_Var', 'RMSE_Var', 'ZCR_Var', 'CQT_Var', 'Spectral_Contrast_Var', 'Chromagram_Var', 'Tempo_Var', 'STFT_Var',\n",
    "#                       'Autocorrelation_Var', 'STFT_Var', 'Spectral_Centroid_Var', 'Rolloff_Var',  'STFT_Mean.1', 'STFT_Var.1', 'Genre']\n",
    "\n",
    "\n",
    "# Mean and var with CQT\n",
    "\n",
    "# featureColumsToDrop = ['Unnamed: 0', 'STFT_Mean.1', 'STFT_Var.1', 'Genre']\n",
    "\n",
    "\n",
    "# NO MFCCS mean and var\n",
    "\n",
    "# featureColumsToDrop = ['Unnamed: 0', 'STFT_Mean.1', 'STFT_Var.1', 'Genre',\n",
    "#                        'Energy_Mean', 'RMSE_Mean', 'ZCR_Mean', 'CQT_Mean', 'Spectral_Contrast_Mean', 'Chromagram_Mean', 'Tempo_Mean', 'STFT_Mean', \n",
    "#                       'Autocorrelation_Mean', 'STFT_Mean', 'Spectral_Centroid_Mean', 'Rolloff_Mean',\n",
    "#                        'MFCCS0','MFCCS1','MFCCS2','MFCCS3','MFCCS4','MFCCS5','MFCCS6','MFCCS7','MFCCS8','MFCCS9','MFCCS10', 'CQT_Mean','MFCCS11','MFCCS12', 'CQT_Var', 'STFT_Var.1', 'Genre']  \n",
    "\n",
    "\n",
    "# First prove that was made\n",
    "\n",
    "featureColumsToDrop = ['Unnamed: 0', 'Autocorrelation_Mean', 'STFT_Mean', 'Rolloff_Mean', 'Energy_Var', 'RMSE_Var', 'ZCR_Var', 'CQT_Var', 'Spectral_Contrast_Var', 'Chromagram_Var', 'Tempo_Var', 'STFT_Var',\n",
    "                      'Autocorrelation_Var', 'STFT_Var', 'Spectral_Centroid_Var', 'Rolloff_Var', 'CQT_Mean', 'STFT_Mean.1', 'STFT_Var.1', 'Genre']\n",
    "\n",
    "features = features.drop(featureColumsToDrop, 1)\n",
    "\n",
    "print(\"The features of out dataset are:\")\n",
    "\n",
    "features.head(5)"
   ]
  },
  {
   "cell_type": "code",
   "execution_count": 13,
   "metadata": {
    "collapsed": true,
    "jupyter": {
     "outputs_hidden": true
    }
   },
   "outputs": [
    {
     "name": "stdout",
     "output_type": "stream",
     "text": [
      "Training Features Shape: (750, 20)\n",
      "Training Labels Shape: (750,)\n",
      "Testing Features Shape: (250, 20)\n",
      "Testing Labels Shape: (250,)\n",
      "Features Importances\n",
      "[0.07026758 0.06880423 0.06845423 0.07243751 0.06002534 0.03327459\n",
      " 0.0844036  0.05021744 0.04416483 0.03276663 0.04147238 0.03660785\n",
      " 0.03735368 0.04618366 0.038992   0.04276944 0.04384677 0.04530622\n",
      " 0.04244486 0.04020716]\n",
      "Training Features Shape: (750, 20)\n",
      "Training Labels Shape: (750,)\n",
      "Testing Features Shape: (250, 20)\n",
      "Testing Labels Shape: (250,)\n"
     ]
    },
    {
     "name": "stderr",
     "output_type": "stream",
     "text": [
      "C:\\Users\\alvar\\anaconda3\\envs\\python37\\lib\\site-packages\\sklearn\\utils\\validation.py:70: FutureWarning: Pass labels=['Blues' 'Classical' 'Country' 'Disco' 'Hiphop' 'Jazz' 'Metal' 'Pop'\n",
      " 'Reggae' 'Rock'] as keyword args. From version 0.25 passing these as positional arguments will result in an error\n",
      "  FutureWarning)\n"
     ]
    },
    {
     "name": "stdout",
     "output_type": "stream",
     "text": [
      "Features Importances\n",
      "[0.07775207 0.07412395 0.06578988 0.07340566 0.05482348 0.02982598\n",
      " 0.07914209 0.05140985 0.04362068 0.03333578 0.04325811 0.03579028\n",
      " 0.03685841 0.04277814 0.03761179 0.04132874 0.04535562 0.04430233\n",
      " 0.04632263 0.04316454]\n",
      "Training Features Shape: (750, 20)\n",
      "Training Labels Shape: (750,)\n",
      "Testing Features Shape: (250, 20)\n",
      "Testing Labels Shape: (250,)\n"
     ]
    },
    {
     "name": "stderr",
     "output_type": "stream",
     "text": [
      "C:\\Users\\alvar\\anaconda3\\envs\\python37\\lib\\site-packages\\sklearn\\utils\\validation.py:70: FutureWarning: Pass labels=['Blues' 'Classical' 'Country' 'Disco' 'Hiphop' 'Jazz' 'Metal' 'Pop'\n",
      " 'Reggae' 'Rock'] as keyword args. From version 0.25 passing these as positional arguments will result in an error\n",
      "  FutureWarning)\n"
     ]
    },
    {
     "name": "stdout",
     "output_type": "stream",
     "text": [
      "Features Importances\n",
      "[0.0728232  0.06973357 0.0636381  0.07079769 0.05746299 0.03361969\n",
      " 0.08374497 0.05511369 0.04603271 0.03432642 0.04482731 0.03732477\n",
      " 0.03476016 0.04438808 0.03803899 0.04161934 0.04581867 0.0439903\n",
      " 0.04589097 0.03604837]\n",
      "Training Features Shape: (750, 20)\n",
      "Training Labels Shape: (750,)\n",
      "Testing Features Shape: (250, 20)\n",
      "Testing Labels Shape: (250,)\n"
     ]
    },
    {
     "name": "stderr",
     "output_type": "stream",
     "text": [
      "C:\\Users\\alvar\\anaconda3\\envs\\python37\\lib\\site-packages\\sklearn\\utils\\validation.py:70: FutureWarning: Pass labels=['Blues' 'Classical' 'Country' 'Disco' 'Hiphop' 'Jazz' 'Metal' 'Pop'\n",
      " 'Reggae' 'Rock'] as keyword args. From version 0.25 passing these as positional arguments will result in an error\n",
      "  FutureWarning)\n"
     ]
    },
    {
     "name": "stdout",
     "output_type": "stream",
     "text": [
      "Features Importances\n",
      "[0.07395805 0.07209598 0.06700839 0.07246371 0.05652099 0.03574105\n",
      " 0.08093946 0.05317285 0.04415304 0.03371374 0.04264135 0.03738328\n",
      " 0.03482014 0.04322224 0.03776311 0.0394541  0.0468139  0.04337742\n",
      " 0.04424445 0.04051277]\n",
      "Training Features Shape: (750, 20)\n",
      "Training Labels Shape: (750,)\n",
      "Testing Features Shape: (250, 20)\n",
      "Testing Labels Shape: (250,)\n"
     ]
    },
    {
     "name": "stderr",
     "output_type": "stream",
     "text": [
      "C:\\Users\\alvar\\anaconda3\\envs\\python37\\lib\\site-packages\\sklearn\\utils\\validation.py:70: FutureWarning: Pass labels=['Blues' 'Classical' 'Country' 'Disco' 'Hiphop' 'Jazz' 'Metal' 'Pop'\n",
      " 'Reggae' 'Rock'] as keyword args. From version 0.25 passing these as positional arguments will result in an error\n",
      "  FutureWarning)\n"
     ]
    },
    {
     "name": "stdout",
     "output_type": "stream",
     "text": [
      "Features Importances\n",
      "[0.0777891  0.07512768 0.06088956 0.07071339 0.05380582 0.03492172\n",
      " 0.0848563  0.05499298 0.04577628 0.03260252 0.04347276 0.03621637\n",
      " 0.03684262 0.0452042  0.03791498 0.03949201 0.0432749  0.04158916\n",
      " 0.0436619  0.04085575]\n",
      "Training Features Shape: (750, 20)\n",
      "Training Labels Shape: (750,)\n",
      "Testing Features Shape: (250, 20)\n",
      "Testing Labels Shape: (250,)\n"
     ]
    },
    {
     "name": "stderr",
     "output_type": "stream",
     "text": [
      "C:\\Users\\alvar\\anaconda3\\envs\\python37\\lib\\site-packages\\sklearn\\utils\\validation.py:70: FutureWarning: Pass labels=['Blues' 'Classical' 'Country' 'Disco' 'Hiphop' 'Jazz' 'Metal' 'Pop'\n",
      " 'Reggae' 'Rock'] as keyword args. From version 0.25 passing these as positional arguments will result in an error\n",
      "  FutureWarning)\n"
     ]
    },
    {
     "name": "stdout",
     "output_type": "stream",
     "text": [
      "Features Importances\n",
      "[0.07234283 0.06742479 0.06752469 0.0723727  0.06071966 0.03619607\n",
      " 0.08626748 0.05593212 0.04367482 0.03192756 0.04461445 0.03489927\n",
      " 0.03437384 0.04161703 0.0376475  0.03908253 0.04794305 0.04171671\n",
      " 0.04317748 0.04054541]\n",
      "Training Features Shape: (750, 20)\n",
      "Training Labels Shape: (750,)\n",
      "Testing Features Shape: (250, 20)\n",
      "Testing Labels Shape: (250,)\n"
     ]
    },
    {
     "name": "stderr",
     "output_type": "stream",
     "text": [
      "C:\\Users\\alvar\\anaconda3\\envs\\python37\\lib\\site-packages\\sklearn\\utils\\validation.py:70: FutureWarning: Pass labels=['Blues' 'Classical' 'Country' 'Disco' 'Hiphop' 'Jazz' 'Metal' 'Pop'\n",
      " 'Reggae' 'Rock'] as keyword args. From version 0.25 passing these as positional arguments will result in an error\n",
      "  FutureWarning)\n"
     ]
    },
    {
     "name": "stdout",
     "output_type": "stream",
     "text": [
      "Features Importances\n",
      "[0.07711796 0.07368422 0.06631131 0.07146154 0.05711631 0.03400642\n",
      " 0.08745358 0.05194893 0.04378413 0.03104113 0.04176172 0.03515626\n",
      " 0.03328214 0.04201209 0.03701989 0.03768895 0.04412521 0.0439013\n",
      " 0.04740914 0.04371777]\n",
      "Training Features Shape: (750, 20)\n",
      "Training Labels Shape: (750,)\n",
      "Testing Features Shape: (250, 20)\n",
      "Testing Labels Shape: (250,)\n"
     ]
    },
    {
     "name": "stderr",
     "output_type": "stream",
     "text": [
      "C:\\Users\\alvar\\anaconda3\\envs\\python37\\lib\\site-packages\\sklearn\\utils\\validation.py:70: FutureWarning: Pass labels=['Blues' 'Classical' 'Country' 'Disco' 'Hiphop' 'Jazz' 'Metal' 'Pop'\n",
      " 'Reggae' 'Rock'] as keyword args. From version 0.25 passing these as positional arguments will result in an error\n",
      "  FutureWarning)\n"
     ]
    },
    {
     "name": "stdout",
     "output_type": "stream",
     "text": [
      "Features Importances\n",
      "[0.07501681 0.07208249 0.06835938 0.0743984  0.06071388 0.03625609\n",
      " 0.08070062 0.0515689  0.04312476 0.03176609 0.04172124 0.03497589\n",
      " 0.03356578 0.04035073 0.03784037 0.03896787 0.0481934  0.04664536\n",
      " 0.04651379 0.03723814]\n",
      "Training Features Shape: (750, 20)\n",
      "Training Labels Shape: (750,)\n",
      "Testing Features Shape: (250, 20)\n",
      "Testing Labels Shape: (250,)\n"
     ]
    },
    {
     "name": "stderr",
     "output_type": "stream",
     "text": [
      "C:\\Users\\alvar\\anaconda3\\envs\\python37\\lib\\site-packages\\sklearn\\utils\\validation.py:70: FutureWarning: Pass labels=['Blues' 'Classical' 'Country' 'Disco' 'Hiphop' 'Jazz' 'Metal' 'Pop'\n",
      " 'Reggae' 'Rock'] as keyword args. From version 0.25 passing these as positional arguments will result in an error\n",
      "  FutureWarning)\n"
     ]
    },
    {
     "name": "stdout",
     "output_type": "stream",
     "text": [
      "Features Importances\n",
      "[0.07779269 0.07146826 0.06658502 0.07416973 0.05575957 0.03379798\n",
      " 0.08271389 0.05248308 0.04154844 0.03491932 0.03988467 0.0353125\n",
      " 0.03427879 0.04172409 0.04100903 0.04419701 0.04556333 0.04206338\n",
      " 0.04439429 0.04033494]\n",
      "Training Features Shape: (750, 20)\n",
      "Training Labels Shape: (750,)\n",
      "Testing Features Shape: (250, 20)\n",
      "Testing Labels Shape: (250,)\n"
     ]
    },
    {
     "name": "stderr",
     "output_type": "stream",
     "text": [
      "C:\\Users\\alvar\\anaconda3\\envs\\python37\\lib\\site-packages\\sklearn\\utils\\validation.py:70: FutureWarning: Pass labels=['Blues' 'Classical' 'Country' 'Disco' 'Hiphop' 'Jazz' 'Metal' 'Pop'\n",
      " 'Reggae' 'Rock'] as keyword args. From version 0.25 passing these as positional arguments will result in an error\n",
      "  FutureWarning)\n"
     ]
    },
    {
     "name": "stdout",
     "output_type": "stream",
     "text": [
      "Features Importances\n",
      "[0.07574943 0.06891985 0.06606747 0.06875248 0.05566437 0.03670012\n",
      " 0.08217061 0.05029491 0.04511375 0.03485817 0.04312106 0.036256\n",
      " 0.03517225 0.04360561 0.03991121 0.04136226 0.04533884 0.04508784\n",
      " 0.04490798 0.04094579]\n",
      "Training Features Shape: (750, 20)\n",
      "Training Labels Shape: (750,)\n",
      "Testing Features Shape: (250, 20)\n",
      "Testing Labels Shape: (250,)\n"
     ]
    },
    {
     "name": "stderr",
     "output_type": "stream",
     "text": [
      "C:\\Users\\alvar\\anaconda3\\envs\\python37\\lib\\site-packages\\sklearn\\utils\\validation.py:70: FutureWarning: Pass labels=['Blues' 'Classical' 'Country' 'Disco' 'Hiphop' 'Jazz' 'Metal' 'Pop'\n",
      " 'Reggae' 'Rock'] as keyword args. From version 0.25 passing these as positional arguments will result in an error\n",
      "  FutureWarning)\n"
     ]
    },
    {
     "name": "stdout",
     "output_type": "stream",
     "text": [
      "Features Importances\n",
      "[0.07554458 0.07319513 0.06591886 0.07030689 0.05629262 0.03195518\n",
      " 0.08547212 0.05230655 0.04778831 0.03374458 0.04334445 0.0363856\n",
      " 0.03570528 0.04196452 0.03683353 0.04092473 0.04097232 0.04210866\n",
      " 0.04652374 0.04271235]\n",
      "Training Features Shape: (750, 20)\n",
      "Training Labels Shape: (750,)\n",
      "Testing Features Shape: (250, 20)\n",
      "Testing Labels Shape: (250,)\n"
     ]
    },
    {
     "name": "stderr",
     "output_type": "stream",
     "text": [
      "C:\\Users\\alvar\\anaconda3\\envs\\python37\\lib\\site-packages\\sklearn\\utils\\validation.py:70: FutureWarning: Pass labels=['Blues' 'Classical' 'Country' 'Disco' 'Hiphop' 'Jazz' 'Metal' 'Pop'\n",
      " 'Reggae' 'Rock'] as keyword args. From version 0.25 passing these as positional arguments will result in an error\n",
      "  FutureWarning)\n"
     ]
    },
    {
     "name": "stdout",
     "output_type": "stream",
     "text": [
      "Features Importances\n",
      "[0.07294296 0.07287587 0.06388058 0.07066962 0.05610048 0.03338033\n",
      " 0.08093824 0.05551686 0.04468603 0.03238278 0.04399312 0.0360787\n",
      " 0.03350231 0.03958834 0.03873995 0.04326094 0.04454256 0.04666139\n",
      " 0.04562362 0.04463532]\n",
      "Training Features Shape: (750, 20)\n",
      "Training Labels Shape: (750,)\n",
      "Testing Features Shape: (250, 20)\n",
      "Testing Labels Shape: (250,)\n"
     ]
    },
    {
     "name": "stderr",
     "output_type": "stream",
     "text": [
      "C:\\Users\\alvar\\anaconda3\\envs\\python37\\lib\\site-packages\\sklearn\\utils\\validation.py:70: FutureWarning: Pass labels=['Blues' 'Classical' 'Country' 'Disco' 'Hiphop' 'Jazz' 'Metal' 'Pop'\n",
      " 'Reggae' 'Rock'] as keyword args. From version 0.25 passing these as positional arguments will result in an error\n",
      "  FutureWarning)\n"
     ]
    },
    {
     "name": "stdout",
     "output_type": "stream",
     "text": [
      "Features Importances\n",
      "[0.07428149 0.07265514 0.06902434 0.07360719 0.05574756 0.03568761\n",
      " 0.08677634 0.05180904 0.04229784 0.03220281 0.04260001 0.03728652\n",
      " 0.03500363 0.04146626 0.03607288 0.03960515 0.04320757 0.0432063\n",
      " 0.04326137 0.04420094]\n",
      "Training Features Shape: (750, 20)\n",
      "Training Labels Shape: (750,)\n",
      "Testing Features Shape: (250, 20)\n",
      "Testing Labels Shape: (250,)\n"
     ]
    },
    {
     "name": "stderr",
     "output_type": "stream",
     "text": [
      "C:\\Users\\alvar\\anaconda3\\envs\\python37\\lib\\site-packages\\sklearn\\utils\\validation.py:70: FutureWarning: Pass labels=['Blues' 'Classical' 'Country' 'Disco' 'Hiphop' 'Jazz' 'Metal' 'Pop'\n",
      " 'Reggae' 'Rock'] as keyword args. From version 0.25 passing these as positional arguments will result in an error\n",
      "  FutureWarning)\n"
     ]
    },
    {
     "name": "stdout",
     "output_type": "stream",
     "text": [
      "Features Importances\n",
      "[0.07652662 0.07354925 0.06574147 0.07640752 0.05359854 0.03423146\n",
      " 0.08476924 0.05194973 0.04473268 0.03181304 0.04105455 0.03629152\n",
      " 0.03334834 0.0397184  0.040223   0.04063232 0.0418342  0.04722985\n",
      " 0.04507031 0.04127797]\n",
      "Training Features Shape: (750, 20)\n",
      "Training Labels Shape: (750,)\n",
      "Testing Features Shape: (250, 20)\n",
      "Testing Labels Shape: (250,)\n"
     ]
    },
    {
     "name": "stderr",
     "output_type": "stream",
     "text": [
      "C:\\Users\\alvar\\anaconda3\\envs\\python37\\lib\\site-packages\\sklearn\\utils\\validation.py:70: FutureWarning: Pass labels=['Blues' 'Classical' 'Country' 'Disco' 'Hiphop' 'Jazz' 'Metal' 'Pop'\n",
      " 'Reggae' 'Rock'] as keyword args. From version 0.25 passing these as positional arguments will result in an error\n",
      "  FutureWarning)\n"
     ]
    },
    {
     "name": "stdout",
     "output_type": "stream",
     "text": [
      "Features Importances\n",
      "[0.07123933 0.07476539 0.06429505 0.0731321  0.05906657 0.03730464\n",
      " 0.08074536 0.05303286 0.04409728 0.0335704  0.04380721 0.03567641\n",
      " 0.03529336 0.04342337 0.03880069 0.03919086 0.04532834 0.0404766\n",
      " 0.04482148 0.04193272]\n",
      "Training Features Shape: (750, 20)\n",
      "Training Labels Shape: (750,)\n",
      "Testing Features Shape: (250, 20)\n",
      "Testing Labels Shape: (250,)\n"
     ]
    },
    {
     "name": "stderr",
     "output_type": "stream",
     "text": [
      "C:\\Users\\alvar\\anaconda3\\envs\\python37\\lib\\site-packages\\sklearn\\utils\\validation.py:70: FutureWarning: Pass labels=['Blues' 'Classical' 'Country' 'Disco' 'Hiphop' 'Jazz' 'Metal' 'Pop'\n",
      " 'Reggae' 'Rock'] as keyword args. From version 0.25 passing these as positional arguments will result in an error\n",
      "  FutureWarning)\n"
     ]
    },
    {
     "name": "stdout",
     "output_type": "stream",
     "text": [
      "Features Importances\n",
      "[0.07473562 0.07432903 0.06307651 0.07347274 0.05708165 0.03210958\n",
      " 0.08461826 0.05432448 0.04732509 0.03338841 0.04179247 0.03657783\n",
      " 0.03377554 0.0426074  0.03928953 0.03822156 0.0434907  0.04494209\n",
      " 0.04490632 0.03993518]\n",
      "Training Features Shape: (750, 20)\n",
      "Training Labels Shape: (750,)\n",
      "Testing Features Shape: (250, 20)\n",
      "Testing Labels Shape: (250,)\n"
     ]
    },
    {
     "name": "stderr",
     "output_type": "stream",
     "text": [
      "C:\\Users\\alvar\\anaconda3\\envs\\python37\\lib\\site-packages\\sklearn\\utils\\validation.py:70: FutureWarning: Pass labels=['Blues' 'Classical' 'Country' 'Disco' 'Hiphop' 'Jazz' 'Metal' 'Pop'\n",
      " 'Reggae' 'Rock'] as keyword args. From version 0.25 passing these as positional arguments will result in an error\n",
      "  FutureWarning)\n"
     ]
    },
    {
     "name": "stdout",
     "output_type": "stream",
     "text": [
      "Features Importances\n",
      "[0.07640055 0.07284383 0.06230318 0.07190567 0.05879686 0.03273806\n",
      " 0.08277505 0.04952091 0.04455098 0.03293253 0.04296424 0.0346862\n",
      " 0.03471627 0.04301515 0.03582704 0.0408624  0.04444422 0.04696666\n",
      " 0.04653679 0.04521342]\n",
      "Training Features Shape: (750, 20)\n",
      "Training Labels Shape: (750,)\n",
      "Testing Features Shape: (250, 20)\n",
      "Testing Labels Shape: (250,)\n"
     ]
    },
    {
     "name": "stderr",
     "output_type": "stream",
     "text": [
      "C:\\Users\\alvar\\anaconda3\\envs\\python37\\lib\\site-packages\\sklearn\\utils\\validation.py:70: FutureWarning: Pass labels=['Blues' 'Classical' 'Country' 'Disco' 'Hiphop' 'Jazz' 'Metal' 'Pop'\n",
      " 'Reggae' 'Rock'] as keyword args. From version 0.25 passing these as positional arguments will result in an error\n",
      "  FutureWarning)\n"
     ]
    },
    {
     "name": "stdout",
     "output_type": "stream",
     "text": [
      "Features Importances\n",
      "[0.07498965 0.07410896 0.06524406 0.07504214 0.05551879 0.03549582\n",
      " 0.08215494 0.05446647 0.0443536  0.0322198  0.04233458 0.03649101\n",
      " 0.03472631 0.04347864 0.03680917 0.04199677 0.04609264 0.04004851\n",
      " 0.04164839 0.04277975]\n",
      "Training Features Shape: (750, 20)\n",
      "Training Labels Shape: (750,)\n",
      "Testing Features Shape: (250, 20)\n",
      "Testing Labels Shape: (250,)\n"
     ]
    },
    {
     "name": "stderr",
     "output_type": "stream",
     "text": [
      "C:\\Users\\alvar\\anaconda3\\envs\\python37\\lib\\site-packages\\sklearn\\utils\\validation.py:70: FutureWarning: Pass labels=['Blues' 'Classical' 'Country' 'Disco' 'Hiphop' 'Jazz' 'Metal' 'Pop'\n",
      " 'Reggae' 'Rock'] as keyword args. From version 0.25 passing these as positional arguments will result in an error\n",
      "  FutureWarning)\n"
     ]
    },
    {
     "name": "stdout",
     "output_type": "stream",
     "text": [
      "Features Importances\n",
      "[0.07414019 0.07234993 0.06613501 0.07582715 0.05736772 0.03018398\n",
      " 0.08254909 0.05316747 0.04500326 0.03337027 0.04397479 0.03550639\n",
      " 0.03495195 0.04333583 0.03738592 0.04136496 0.04611159 0.04447265\n",
      " 0.04615871 0.03664315]\n",
      "Training Features Shape: (750, 20)\n",
      "Training Labels Shape: (750,)\n",
      "Testing Features Shape: (250, 20)\n",
      "Testing Labels Shape: (250,)\n"
     ]
    },
    {
     "name": "stderr",
     "output_type": "stream",
     "text": [
      "C:\\Users\\alvar\\anaconda3\\envs\\python37\\lib\\site-packages\\sklearn\\utils\\validation.py:70: FutureWarning: Pass labels=['Blues' 'Classical' 'Country' 'Disco' 'Hiphop' 'Jazz' 'Metal' 'Pop'\n",
      " 'Reggae' 'Rock'] as keyword args. From version 0.25 passing these as positional arguments will result in an error\n",
      "  FutureWarning)\n"
     ]
    },
    {
     "name": "stdout",
     "output_type": "stream",
     "text": [
      "Features Importances\n",
      "[0.07158526 0.07163529 0.06334567 0.07774159 0.05414847 0.03374014\n",
      " 0.07971491 0.05452155 0.04570995 0.03338308 0.04047177 0.03816181\n",
      " 0.03665539 0.04253658 0.03899812 0.04488283 0.04299695 0.042975\n",
      " 0.04354138 0.04325425]\n",
      "Training Features Shape: (750, 20)\n",
      "Training Labels Shape: (750,)\n",
      "Testing Features Shape: (250, 20)\n",
      "Testing Labels Shape: (250,)\n"
     ]
    },
    {
     "name": "stderr",
     "output_type": "stream",
     "text": [
      "C:\\Users\\alvar\\anaconda3\\envs\\python37\\lib\\site-packages\\sklearn\\utils\\validation.py:70: FutureWarning: Pass labels=['Blues' 'Classical' 'Country' 'Disco' 'Hiphop' 'Jazz' 'Metal' 'Pop'\n",
      " 'Reggae' 'Rock'] as keyword args. From version 0.25 passing these as positional arguments will result in an error\n",
      "  FutureWarning)\n"
     ]
    },
    {
     "name": "stdout",
     "output_type": "stream",
     "text": [
      "Features Importances\n",
      "[0.07407417 0.06866987 0.06854273 0.06904362 0.05683158 0.03348016\n",
      " 0.08472746 0.05242948 0.0421909  0.03148617 0.04462284 0.03604882\n",
      " 0.03625173 0.04651798 0.03843836 0.04231074 0.04820006 0.04287788\n",
      " 0.04395609 0.03929938]\n"
     ]
    },
    {
     "name": "stderr",
     "output_type": "stream",
     "text": [
      "C:\\Users\\alvar\\anaconda3\\envs\\python37\\lib\\site-packages\\sklearn\\utils\\validation.py:70: FutureWarning: Pass labels=['Blues' 'Classical' 'Country' 'Disco' 'Hiphop' 'Jazz' 'Metal' 'Pop'\n",
      " 'Reggae' 'Rock'] as keyword args. From version 0.25 passing these as positional arguments will result in an error\n",
      "  FutureWarning)\n"
     ]
    },
    {
     "name": "stdout",
     "output_type": "stream",
     "text": [
      "Training Features Shape: (750, 20)\n",
      "Training Labels Shape: (750,)\n",
      "Testing Features Shape: (250, 20)\n",
      "Testing Labels Shape: (250,)\n",
      "Features Importances\n",
      "[0.07634778 0.07390464 0.06590332 0.07007651 0.05426843 0.03588242\n",
      " 0.08479151 0.05523747 0.04869778 0.03376548 0.0410025  0.0377797\n",
      " 0.03613104 0.04176983 0.0380177  0.04000948 0.04150464 0.04380602\n",
      " 0.04212324 0.03898051]\n",
      "Training Features Shape: (750, 20)\n",
      "Training Labels Shape: (750,)\n",
      "Testing Features Shape: (250, 20)\n",
      "Testing Labels Shape: (250,)\n"
     ]
    },
    {
     "name": "stderr",
     "output_type": "stream",
     "text": [
      "C:\\Users\\alvar\\anaconda3\\envs\\python37\\lib\\site-packages\\sklearn\\utils\\validation.py:70: FutureWarning: Pass labels=['Blues' 'Classical' 'Country' 'Disco' 'Hiphop' 'Jazz' 'Metal' 'Pop'\n",
      " 'Reggae' 'Rock'] as keyword args. From version 0.25 passing these as positional arguments will result in an error\n",
      "  FutureWarning)\n"
     ]
    },
    {
     "name": "stdout",
     "output_type": "stream",
     "text": [
      "Features Importances\n",
      "[0.07676097 0.07264185 0.06571616 0.07399524 0.05856803 0.03355019\n",
      " 0.08154488 0.053921   0.04429311 0.03230931 0.04176846 0.03612314\n",
      " 0.03398738 0.04114874 0.03791344 0.04063447 0.04421786 0.04423533\n",
      " 0.04481205 0.04185837]\n",
      "Training Features Shape: (750, 20)\n",
      "Training Labels Shape: (750,)\n",
      "Testing Features Shape: (250, 20)\n",
      "Testing Labels Shape: (250,)\n"
     ]
    },
    {
     "name": "stderr",
     "output_type": "stream",
     "text": [
      "C:\\Users\\alvar\\anaconda3\\envs\\python37\\lib\\site-packages\\sklearn\\utils\\validation.py:70: FutureWarning: Pass labels=['Blues' 'Classical' 'Country' 'Disco' 'Hiphop' 'Jazz' 'Metal' 'Pop'\n",
      " 'Reggae' 'Rock'] as keyword args. From version 0.25 passing these as positional arguments will result in an error\n",
      "  FutureWarning)\n"
     ]
    },
    {
     "name": "stdout",
     "output_type": "stream",
     "text": [
      "Features Importances\n",
      "[0.07373027 0.07130477 0.06611745 0.07273081 0.05965672 0.03277963\n",
      " 0.08315911 0.05350361 0.04388873 0.03246056 0.0414724  0.03377597\n",
      " 0.03511756 0.04196842 0.04034689 0.04221151 0.04689866 0.04455282\n",
      " 0.04508069 0.03924345]\n",
      "Training Features Shape: (750, 20)\n",
      "Training Labels Shape: (750,)\n",
      "Testing Features Shape: (250, 20)\n",
      "Testing Labels Shape: (250,)\n"
     ]
    },
    {
     "name": "stderr",
     "output_type": "stream",
     "text": [
      "C:\\Users\\alvar\\anaconda3\\envs\\python37\\lib\\site-packages\\sklearn\\utils\\validation.py:70: FutureWarning: Pass labels=['Blues' 'Classical' 'Country' 'Disco' 'Hiphop' 'Jazz' 'Metal' 'Pop'\n",
      " 'Reggae' 'Rock'] as keyword args. From version 0.25 passing these as positional arguments will result in an error\n",
      "  FutureWarning)\n"
     ]
    },
    {
     "name": "stdout",
     "output_type": "stream",
     "text": [
      "Features Importances\n",
      "[0.07386072 0.0719319  0.06398413 0.07282054 0.06016696 0.0366133\n",
      " 0.08153822 0.05568196 0.04605598 0.03225951 0.04159303 0.03474881\n",
      " 0.03498655 0.04049032 0.03866821 0.03955245 0.04452121 0.04656943\n",
      " 0.04296952 0.04098726]\n",
      "Training Features Shape: (750, 20)\n",
      "Training Labels Shape: (750,)\n",
      "Testing Features Shape: (250, 20)\n",
      "Testing Labels Shape: (250,)\n"
     ]
    },
    {
     "name": "stderr",
     "output_type": "stream",
     "text": [
      "C:\\Users\\alvar\\anaconda3\\envs\\python37\\lib\\site-packages\\sklearn\\utils\\validation.py:70: FutureWarning: Pass labels=['Blues' 'Classical' 'Country' 'Disco' 'Hiphop' 'Jazz' 'Metal' 'Pop'\n",
      " 'Reggae' 'Rock'] as keyword args. From version 0.25 passing these as positional arguments will result in an error\n",
      "  FutureWarning)\n"
     ]
    },
    {
     "name": "stdout",
     "output_type": "stream",
     "text": [
      "Features Importances\n",
      "[0.07785567 0.0765483  0.06310554 0.07107296 0.0543904  0.03421261\n",
      " 0.08088951 0.05024275 0.04426919 0.03291471 0.04385426 0.03812756\n",
      " 0.03650583 0.04341866 0.03961858 0.03842989 0.0486594  0.04195278\n",
      " 0.04302239 0.04090901]\n",
      "Training Features Shape: (750, 20)\n",
      "Training Labels Shape: (750,)\n",
      "Testing Features Shape: (250, 20)\n",
      "Testing Labels Shape: (250,)\n"
     ]
    },
    {
     "name": "stderr",
     "output_type": "stream",
     "text": [
      "C:\\Users\\alvar\\anaconda3\\envs\\python37\\lib\\site-packages\\sklearn\\utils\\validation.py:70: FutureWarning: Pass labels=['Blues' 'Classical' 'Country' 'Disco' 'Hiphop' 'Jazz' 'Metal' 'Pop'\n",
      " 'Reggae' 'Rock'] as keyword args. From version 0.25 passing these as positional arguments will result in an error\n",
      "  FutureWarning)\n"
     ]
    },
    {
     "name": "stdout",
     "output_type": "stream",
     "text": [
      "Features Importances\n",
      "[0.07399668 0.06920216 0.06300035 0.07408346 0.05635794 0.03292293\n",
      " 0.08439365 0.0522714  0.04564433 0.03268395 0.04322224 0.03612504\n",
      " 0.03483875 0.04302071 0.03804037 0.04114064 0.04486017 0.04700719\n",
      " 0.04489572 0.04229233]\n",
      "Training Features Shape: (750, 20)\n",
      "Training Labels Shape: (750,)\n",
      "Testing Features Shape: (250, 20)\n",
      "Testing Labels Shape: (250,)\n"
     ]
    },
    {
     "name": "stderr",
     "output_type": "stream",
     "text": [
      "C:\\Users\\alvar\\anaconda3\\envs\\python37\\lib\\site-packages\\sklearn\\utils\\validation.py:70: FutureWarning: Pass labels=['Blues' 'Classical' 'Country' 'Disco' 'Hiphop' 'Jazz' 'Metal' 'Pop'\n",
      " 'Reggae' 'Rock'] as keyword args. From version 0.25 passing these as positional arguments will result in an error\n",
      "  FutureWarning)\n"
     ]
    },
    {
     "name": "stdout",
     "output_type": "stream",
     "text": [
      "Features Importances\n",
      "[0.0765076  0.07270565 0.06274971 0.07327486 0.05812795 0.03332852\n",
      " 0.08540964 0.05244976 0.0430981  0.0336197  0.04282763 0.03501304\n",
      " 0.03570699 0.04364295 0.03846651 0.03981346 0.04763285 0.04370273\n",
      " 0.04258461 0.03933776]\n",
      "Training Features Shape: (750, 20)\n",
      "Training Labels Shape: (750,)\n",
      "Testing Features Shape: (250, 20)\n",
      "Testing Labels Shape: (250,)\n"
     ]
    },
    {
     "name": "stderr",
     "output_type": "stream",
     "text": [
      "C:\\Users\\alvar\\anaconda3\\envs\\python37\\lib\\site-packages\\sklearn\\utils\\validation.py:70: FutureWarning: Pass labels=['Blues' 'Classical' 'Country' 'Disco' 'Hiphop' 'Jazz' 'Metal' 'Pop'\n",
      " 'Reggae' 'Rock'] as keyword args. From version 0.25 passing these as positional arguments will result in an error\n",
      "  FutureWarning)\n"
     ]
    },
    {
     "name": "stdout",
     "output_type": "stream",
     "text": [
      "Features Importances\n",
      "[0.07796473 0.07554863 0.06645858 0.0701613  0.05720659 0.03375452\n",
      " 0.08311741 0.05192766 0.04377414 0.03271902 0.04300667 0.0367259\n",
      " 0.03506235 0.04243068 0.03567193 0.04033201 0.04344037 0.04416657\n",
      " 0.04627528 0.04025567]\n",
      "Training Features Shape: (750, 20)\n",
      "Training Labels Shape: (750,)\n",
      "Testing Features Shape: (250, 20)\n",
      "Testing Labels Shape: (250,)\n"
     ]
    },
    {
     "name": "stderr",
     "output_type": "stream",
     "text": [
      "C:\\Users\\alvar\\anaconda3\\envs\\python37\\lib\\site-packages\\sklearn\\utils\\validation.py:70: FutureWarning: Pass labels=['Blues' 'Classical' 'Country' 'Disco' 'Hiphop' 'Jazz' 'Metal' 'Pop'\n",
      " 'Reggae' 'Rock'] as keyword args. From version 0.25 passing these as positional arguments will result in an error\n",
      "  FutureWarning)\n"
     ]
    },
    {
     "name": "stdout",
     "output_type": "stream",
     "text": [
      "Features Importances\n",
      "[0.07633161 0.07475798 0.06609334 0.06899449 0.05571278 0.0341432\n",
      " 0.08128145 0.0513582  0.04544325 0.03276727 0.04392966 0.03583136\n",
      " 0.03487022 0.04156856 0.03835364 0.04065482 0.04982176 0.04317872\n",
      " 0.04320882 0.04169888]\n",
      "Training Features Shape: (750, 20)\n",
      "Training Labels Shape: (750,)\n",
      "Testing Features Shape: (250, 20)\n",
      "Testing Labels Shape: (250,)\n"
     ]
    },
    {
     "name": "stderr",
     "output_type": "stream",
     "text": [
      "C:\\Users\\alvar\\anaconda3\\envs\\python37\\lib\\site-packages\\sklearn\\utils\\validation.py:70: FutureWarning: Pass labels=['Blues' 'Classical' 'Country' 'Disco' 'Hiphop' 'Jazz' 'Metal' 'Pop'\n",
      " 'Reggae' 'Rock'] as keyword args. From version 0.25 passing these as positional arguments will result in an error\n",
      "  FutureWarning)\n"
     ]
    },
    {
     "name": "stdout",
     "output_type": "stream",
     "text": [
      "Features Importances\n",
      "[0.06743089 0.06472132 0.06727988 0.07423192 0.05701422 0.03240335\n",
      " 0.0853665  0.05774033 0.04512432 0.03298683 0.04194766 0.03652934\n",
      " 0.03555334 0.0425707  0.03789092 0.04153142 0.04463174 0.0443526\n",
      " 0.04868997 0.04200273]\n",
      "Training Features Shape: (750, 20)\n",
      "Training Labels Shape: (750,)\n",
      "Testing Features Shape: (250, 20)\n",
      "Testing Labels Shape: (250,)\n"
     ]
    },
    {
     "name": "stderr",
     "output_type": "stream",
     "text": [
      "C:\\Users\\alvar\\anaconda3\\envs\\python37\\lib\\site-packages\\sklearn\\utils\\validation.py:70: FutureWarning: Pass labels=['Blues' 'Classical' 'Country' 'Disco' 'Hiphop' 'Jazz' 'Metal' 'Pop'\n",
      " 'Reggae' 'Rock'] as keyword args. From version 0.25 passing these as positional arguments will result in an error\n",
      "  FutureWarning)\n"
     ]
    },
    {
     "name": "stdout",
     "output_type": "stream",
     "text": [
      "Features Importances\n",
      "[0.07448126 0.07270936 0.06601298 0.07551024 0.05562367 0.03351326\n",
      " 0.08232327 0.05270893 0.04625486 0.03293786 0.0401085  0.03906761\n",
      " 0.03726237 0.04224887 0.03722114 0.03874982 0.04337352 0.04480634\n",
      " 0.04433127 0.04075486]\n",
      "Training Features Shape: (750, 20)\n",
      "Training Labels Shape: (750,)\n",
      "Testing Features Shape: (250, 20)\n",
      "Testing Labels Shape: (250,)\n"
     ]
    },
    {
     "name": "stderr",
     "output_type": "stream",
     "text": [
      "C:\\Users\\alvar\\anaconda3\\envs\\python37\\lib\\site-packages\\sklearn\\utils\\validation.py:70: FutureWarning: Pass labels=['Blues' 'Classical' 'Country' 'Disco' 'Hiphop' 'Jazz' 'Metal' 'Pop'\n",
      " 'Reggae' 'Rock'] as keyword args. From version 0.25 passing these as positional arguments will result in an error\n",
      "  FutureWarning)\n"
     ]
    },
    {
     "name": "stdout",
     "output_type": "stream",
     "text": [
      "Features Importances\n",
      "[0.07628818 0.07519878 0.06187089 0.07614751 0.05475231 0.03089607\n",
      " 0.08151655 0.04940611 0.04387282 0.03287046 0.0429451  0.03663344\n",
      " 0.03691671 0.04542676 0.04055125 0.04627428 0.04340243 0.04406855\n",
      " 0.04366029 0.03730151]\n",
      "Training Features Shape: (750, 20)\n",
      "Training Labels Shape: (750,)\n",
      "Testing Features Shape: (250, 20)\n",
      "Testing Labels Shape: (250,)\n"
     ]
    },
    {
     "name": "stderr",
     "output_type": "stream",
     "text": [
      "C:\\Users\\alvar\\anaconda3\\envs\\python37\\lib\\site-packages\\sklearn\\utils\\validation.py:70: FutureWarning: Pass labels=['Blues' 'Classical' 'Country' 'Disco' 'Hiphop' 'Jazz' 'Metal' 'Pop'\n",
      " 'Reggae' 'Rock'] as keyword args. From version 0.25 passing these as positional arguments will result in an error\n",
      "  FutureWarning)\n"
     ]
    },
    {
     "name": "stdout",
     "output_type": "stream",
     "text": [
      "Features Importances\n",
      "[0.07669933 0.07502752 0.06585507 0.07505593 0.05251543 0.03043144\n",
      " 0.0839108  0.04812887 0.04602927 0.03541726 0.04520991 0.03628327\n",
      " 0.03519923 0.04248009 0.03746635 0.04070277 0.04450061 0.04282385\n",
      " 0.04461015 0.04165285]\n",
      "Training Features Shape: (750, 20)\n",
      "Training Labels Shape: (750,)\n",
      "Testing Features Shape: (250, 20)\n",
      "Testing Labels Shape: (250,)\n"
     ]
    },
    {
     "name": "stderr",
     "output_type": "stream",
     "text": [
      "C:\\Users\\alvar\\anaconda3\\envs\\python37\\lib\\site-packages\\sklearn\\utils\\validation.py:70: FutureWarning: Pass labels=['Blues' 'Classical' 'Country' 'Disco' 'Hiphop' 'Jazz' 'Metal' 'Pop'\n",
      " 'Reggae' 'Rock'] as keyword args. From version 0.25 passing these as positional arguments will result in an error\n",
      "  FutureWarning)\n"
     ]
    },
    {
     "name": "stdout",
     "output_type": "stream",
     "text": [
      "Features Importances\n",
      "[0.07698135 0.0725523  0.06584354 0.06929956 0.05493707 0.03656301\n",
      " 0.08759498 0.05018159 0.04489643 0.03296237 0.04302003 0.03669171\n",
      " 0.03575483 0.04006237 0.03662478 0.03910839 0.04643901 0.04661178\n",
      " 0.041901   0.04197388]\n",
      "Training Features Shape: (750, 20)\n",
      "Training Labels Shape: (750,)\n",
      "Testing Features Shape: (250, 20)\n",
      "Testing Labels Shape: (250,)\n"
     ]
    },
    {
     "name": "stderr",
     "output_type": "stream",
     "text": [
      "C:\\Users\\alvar\\anaconda3\\envs\\python37\\lib\\site-packages\\sklearn\\utils\\validation.py:70: FutureWarning: Pass labels=['Blues' 'Classical' 'Country' 'Disco' 'Hiphop' 'Jazz' 'Metal' 'Pop'\n",
      " 'Reggae' 'Rock'] as keyword args. From version 0.25 passing these as positional arguments will result in an error\n",
      "  FutureWarning)\n"
     ]
    },
    {
     "name": "stdout",
     "output_type": "stream",
     "text": [
      "Features Importances\n",
      "[0.07413013 0.07314705 0.06241942 0.07568621 0.05610877 0.03319216\n",
      " 0.08288768 0.0537266  0.043757   0.03298638 0.04146843 0.03919239\n",
      " 0.03587669 0.04422079 0.03979177 0.0418825  0.04119139 0.04570231\n",
      " 0.04283404 0.03979832]\n",
      "Training Features Shape: (750, 20)\n",
      "Training Labels Shape: (750,)\n",
      "Testing Features Shape: (250, 20)\n",
      "Testing Labels Shape: (250,)\n"
     ]
    },
    {
     "name": "stderr",
     "output_type": "stream",
     "text": [
      "C:\\Users\\alvar\\anaconda3\\envs\\python37\\lib\\site-packages\\sklearn\\utils\\validation.py:70: FutureWarning: Pass labels=['Blues' 'Classical' 'Country' 'Disco' 'Hiphop' 'Jazz' 'Metal' 'Pop'\n",
      " 'Reggae' 'Rock'] as keyword args. From version 0.25 passing these as positional arguments will result in an error\n",
      "  FutureWarning)\n"
     ]
    },
    {
     "name": "stdout",
     "output_type": "stream",
     "text": [
      "Features Importances\n",
      "[0.07735144 0.07499572 0.06206911 0.06915703 0.05688323 0.03273063\n",
      " 0.08291683 0.05284464 0.04366024 0.03242298 0.04177088 0.03721773\n",
      " 0.03612786 0.04217044 0.04088057 0.03953216 0.04416446 0.04898323\n",
      " 0.04424819 0.03987264]\n",
      "Training Features Shape: (750, 20)\n",
      "Training Labels Shape: (750,)\n",
      "Testing Features Shape: (250, 20)\n",
      "Testing Labels Shape: (250,)\n"
     ]
    },
    {
     "name": "stderr",
     "output_type": "stream",
     "text": [
      "C:\\Users\\alvar\\anaconda3\\envs\\python37\\lib\\site-packages\\sklearn\\utils\\validation.py:70: FutureWarning: Pass labels=['Blues' 'Classical' 'Country' 'Disco' 'Hiphop' 'Jazz' 'Metal' 'Pop'\n",
      " 'Reggae' 'Rock'] as keyword args. From version 0.25 passing these as positional arguments will result in an error\n",
      "  FutureWarning)\n"
     ]
    },
    {
     "name": "stdout",
     "output_type": "stream",
     "text": [
      "Features Importances\n",
      "[0.07213326 0.07513345 0.06541423 0.0778848  0.05678193 0.03106425\n",
      " 0.08599096 0.05397937 0.04207127 0.03412366 0.04268959 0.03747762\n",
      " 0.03290846 0.0447259  0.03862048 0.03942941 0.04492985 0.04173284\n",
      " 0.04246086 0.04044781]\n",
      "Training Features Shape: (750, 20)\n",
      "Training Labels Shape: (750,)\n",
      "Testing Features Shape: (250, 20)\n",
      "Testing Labels Shape: (250,)\n"
     ]
    },
    {
     "name": "stderr",
     "output_type": "stream",
     "text": [
      "C:\\Users\\alvar\\anaconda3\\envs\\python37\\lib\\site-packages\\sklearn\\utils\\validation.py:70: FutureWarning: Pass labels=['Blues' 'Classical' 'Country' 'Disco' 'Hiphop' 'Jazz' 'Metal' 'Pop'\n",
      " 'Reggae' 'Rock'] as keyword args. From version 0.25 passing these as positional arguments will result in an error\n",
      "  FutureWarning)\n"
     ]
    },
    {
     "name": "stdout",
     "output_type": "stream",
     "text": [
      "Features Importances\n",
      "[0.07453856 0.06598293 0.06990562 0.0695363  0.05303967 0.03290174\n",
      " 0.08334337 0.05660206 0.04572419 0.03341712 0.0440203  0.03555473\n",
      " 0.03561726 0.04272227 0.04046609 0.04492409 0.04048983 0.04192823\n",
      " 0.04322724 0.04605839]\n",
      "Training Features Shape: (750, 20)\n",
      "Training Labels Shape: (750,)\n",
      "Testing Features Shape: (250, 20)\n",
      "Testing Labels Shape: (250,)\n"
     ]
    },
    {
     "name": "stderr",
     "output_type": "stream",
     "text": [
      "C:\\Users\\alvar\\anaconda3\\envs\\python37\\lib\\site-packages\\sklearn\\utils\\validation.py:70: FutureWarning: Pass labels=['Blues' 'Classical' 'Country' 'Disco' 'Hiphop' 'Jazz' 'Metal' 'Pop'\n",
      " 'Reggae' 'Rock'] as keyword args. From version 0.25 passing these as positional arguments will result in an error\n",
      "  FutureWarning)\n"
     ]
    },
    {
     "name": "stdout",
     "output_type": "stream",
     "text": [
      "Features Importances\n",
      "[0.07427797 0.0735574  0.06742057 0.0693169  0.05655117 0.03638614\n",
      " 0.08075106 0.05360727 0.04562312 0.03347537 0.04319613 0.03683909\n",
      " 0.0343372  0.04280901 0.03914136 0.04170329 0.04145553 0.04444899\n",
      " 0.0431507  0.04195172]\n",
      "Training Features Shape: (750, 20)\n",
      "Training Labels Shape: (750,)\n",
      "Testing Features Shape: (250, 20)\n",
      "Testing Labels Shape: (250,)\n"
     ]
    },
    {
     "name": "stderr",
     "output_type": "stream",
     "text": [
      "C:\\Users\\alvar\\anaconda3\\envs\\python37\\lib\\site-packages\\sklearn\\utils\\validation.py:70: FutureWarning: Pass labels=['Blues' 'Classical' 'Country' 'Disco' 'Hiphop' 'Jazz' 'Metal' 'Pop'\n",
      " 'Reggae' 'Rock'] as keyword args. From version 0.25 passing these as positional arguments will result in an error\n",
      "  FutureWarning)\n"
     ]
    },
    {
     "name": "stdout",
     "output_type": "stream",
     "text": [
      "Features Importances\n",
      "[0.07215994 0.06928579 0.06581088 0.0655522  0.05657844 0.03718455\n",
      " 0.08787806 0.05557463 0.04475949 0.03308325 0.04300211 0.03704148\n",
      " 0.03784931 0.04332278 0.03992358 0.04002257 0.04318697 0.04238525\n",
      " 0.04333505 0.04206367]\n",
      "Training Features Shape: (750, 20)\n",
      "Training Labels Shape: (750,)\n",
      "Testing Features Shape: (250, 20)\n",
      "Testing Labels Shape: (250,)\n"
     ]
    },
    {
     "name": "stderr",
     "output_type": "stream",
     "text": [
      "C:\\Users\\alvar\\anaconda3\\envs\\python37\\lib\\site-packages\\sklearn\\utils\\validation.py:70: FutureWarning: Pass labels=['Blues' 'Classical' 'Country' 'Disco' 'Hiphop' 'Jazz' 'Metal' 'Pop'\n",
      " 'Reggae' 'Rock'] as keyword args. From version 0.25 passing these as positional arguments will result in an error\n",
      "  FutureWarning)\n"
     ]
    },
    {
     "name": "stdout",
     "output_type": "stream",
     "text": [
      "Features Importances\n",
      "[0.07620239 0.0750468  0.06407415 0.07290333 0.05341217 0.02988187\n",
      " 0.08307051 0.0546138  0.04418694 0.03335296 0.04341444 0.03852875\n",
      " 0.03676097 0.04488466 0.03837259 0.03947641 0.04377598 0.04125526\n",
      " 0.04502223 0.0417638 ]\n",
      "Training Features Shape: (750, 20)\n",
      "Training Labels Shape: (750,)\n",
      "Testing Features Shape: (250, 20)\n",
      "Testing Labels Shape: (250,)\n"
     ]
    },
    {
     "name": "stderr",
     "output_type": "stream",
     "text": [
      "C:\\Users\\alvar\\anaconda3\\envs\\python37\\lib\\site-packages\\sklearn\\utils\\validation.py:70: FutureWarning: Pass labels=['Blues' 'Classical' 'Country' 'Disco' 'Hiphop' 'Jazz' 'Metal' 'Pop'\n",
      " 'Reggae' 'Rock'] as keyword args. From version 0.25 passing these as positional arguments will result in an error\n",
      "  FutureWarning)\n"
     ]
    },
    {
     "name": "stdout",
     "output_type": "stream",
     "text": [
      "Features Importances\n",
      "[0.07648634 0.07219686 0.06486549 0.07156942 0.056268   0.03375935\n",
      " 0.07995617 0.05192664 0.04653786 0.03259547 0.04634121 0.03663988\n",
      " 0.03425954 0.04255698 0.03788315 0.04259745 0.04542232 0.0431308\n",
      " 0.04504815 0.03995891]\n",
      "Training Features Shape: (750, 20)\n",
      "Training Labels Shape: (750,)\n",
      "Testing Features Shape: (250, 20)\n",
      "Testing Labels Shape: (250,)\n"
     ]
    },
    {
     "name": "stderr",
     "output_type": "stream",
     "text": [
      "C:\\Users\\alvar\\anaconda3\\envs\\python37\\lib\\site-packages\\sklearn\\utils\\validation.py:70: FutureWarning: Pass labels=['Blues' 'Classical' 'Country' 'Disco' 'Hiphop' 'Jazz' 'Metal' 'Pop'\n",
      " 'Reggae' 'Rock'] as keyword args. From version 0.25 passing these as positional arguments will result in an error\n",
      "  FutureWarning)\n"
     ]
    },
    {
     "name": "stdout",
     "output_type": "stream",
     "text": [
      "Features Importances\n",
      "[0.07423404 0.07465655 0.0661212  0.0736209  0.05422931 0.03993574\n",
      " 0.08433706 0.05188308 0.04511355 0.03344248 0.04359909 0.0354953\n",
      " 0.03335923 0.04136447 0.03602275 0.04069948 0.04678639 0.04149736\n",
      " 0.04459063 0.0390114 ]\n",
      "Training Features Shape: (750, 20)\n",
      "Training Labels Shape: (750,)\n",
      "Testing Features Shape: (250, 20)\n",
      "Testing Labels Shape: (250,)\n"
     ]
    },
    {
     "name": "stderr",
     "output_type": "stream",
     "text": [
      "C:\\Users\\alvar\\anaconda3\\envs\\python37\\lib\\site-packages\\sklearn\\utils\\validation.py:70: FutureWarning: Pass labels=['Blues' 'Classical' 'Country' 'Disco' 'Hiphop' 'Jazz' 'Metal' 'Pop'\n",
      " 'Reggae' 'Rock'] as keyword args. From version 0.25 passing these as positional arguments will result in an error\n",
      "  FutureWarning)\n"
     ]
    },
    {
     "name": "stdout",
     "output_type": "stream",
     "text": [
      "Features Importances\n",
      "[0.07614994 0.07590411 0.0643565  0.07376717 0.05627435 0.03188477\n",
      " 0.08135738 0.0536661  0.04452677 0.03368581 0.04164487 0.03513547\n",
      " 0.03624481 0.04480303 0.03935729 0.038606   0.04444448 0.04212246\n",
      " 0.04077399 0.0452947 ]\n",
      "Training Features Shape: (750, 20)\n",
      "Training Labels Shape: (750,)\n",
      "Testing Features Shape: (250, 20)\n",
      "Testing Labels Shape: (250,)\n"
     ]
    },
    {
     "name": "stderr",
     "output_type": "stream",
     "text": [
      "C:\\Users\\alvar\\anaconda3\\envs\\python37\\lib\\site-packages\\sklearn\\utils\\validation.py:70: FutureWarning: Pass labels=['Blues' 'Classical' 'Country' 'Disco' 'Hiphop' 'Jazz' 'Metal' 'Pop'\n",
      " 'Reggae' 'Rock'] as keyword args. From version 0.25 passing these as positional arguments will result in an error\n",
      "  FutureWarning)\n"
     ]
    },
    {
     "name": "stdout",
     "output_type": "stream",
     "text": [
      "Features Importances\n",
      "[0.07301134 0.07205898 0.06520278 0.07483709 0.05694532 0.03305059\n",
      " 0.08524691 0.05578074 0.04232129 0.03271496 0.03975847 0.03494535\n",
      " 0.03654778 0.04290873 0.03647944 0.04226404 0.04554562 0.04604522\n",
      " 0.04255858 0.04177674]\n",
      "Training Features Shape: (750, 20)\n",
      "Training Labels Shape: (750,)\n",
      "Testing Features Shape: (250, 20)\n",
      "Testing Labels Shape: (250,)\n"
     ]
    },
    {
     "name": "stderr",
     "output_type": "stream",
     "text": [
      "C:\\Users\\alvar\\anaconda3\\envs\\python37\\lib\\site-packages\\sklearn\\utils\\validation.py:70: FutureWarning: Pass labels=['Blues' 'Classical' 'Country' 'Disco' 'Hiphop' 'Jazz' 'Metal' 'Pop'\n",
      " 'Reggae' 'Rock'] as keyword args. From version 0.25 passing these as positional arguments will result in an error\n",
      "  FutureWarning)\n"
     ]
    },
    {
     "name": "stdout",
     "output_type": "stream",
     "text": [
      "Features Importances\n",
      "[0.07458668 0.07118128 0.07038643 0.07439483 0.05386085 0.03224857\n",
      " 0.08146727 0.05544273 0.04539313 0.03277397 0.04502753 0.03692315\n",
      " 0.03549777 0.04183387 0.03942746 0.04165396 0.04498259 0.04306883\n",
      " 0.04101154 0.03883757]\n",
      "Training Features Shape: (750, 20)\n",
      "Training Labels Shape: (750,)\n",
      "Testing Features Shape: (250, 20)\n",
      "Testing Labels Shape: (250,)\n"
     ]
    },
    {
     "name": "stderr",
     "output_type": "stream",
     "text": [
      "C:\\Users\\alvar\\anaconda3\\envs\\python37\\lib\\site-packages\\sklearn\\utils\\validation.py:70: FutureWarning: Pass labels=['Blues' 'Classical' 'Country' 'Disco' 'Hiphop' 'Jazz' 'Metal' 'Pop'\n",
      " 'Reggae' 'Rock'] as keyword args. From version 0.25 passing these as positional arguments will result in an error\n",
      "  FutureWarning)\n"
     ]
    },
    {
     "name": "stdout",
     "output_type": "stream",
     "text": [
      "Features Importances\n",
      "[0.07370246 0.0691154  0.06444522 0.07182225 0.05916992 0.03734664\n",
      " 0.08615122 0.05142684 0.04355043 0.0328791  0.0413665  0.03630589\n",
      " 0.03516521 0.0422364  0.03982679 0.04250136 0.04472855 0.04433039\n",
      " 0.0439531  0.03997636]\n",
      "Training Features Shape: (750, 20)\n",
      "Training Labels Shape: (750,)\n",
      "Testing Features Shape: (250, 20)\n",
      "Testing Labels Shape: (250,)\n"
     ]
    },
    {
     "name": "stderr",
     "output_type": "stream",
     "text": [
      "C:\\Users\\alvar\\anaconda3\\envs\\python37\\lib\\site-packages\\sklearn\\utils\\validation.py:70: FutureWarning: Pass labels=['Blues' 'Classical' 'Country' 'Disco' 'Hiphop' 'Jazz' 'Metal' 'Pop'\n",
      " 'Reggae' 'Rock'] as keyword args. From version 0.25 passing these as positional arguments will result in an error\n",
      "  FutureWarning)\n"
     ]
    },
    {
     "name": "stdout",
     "output_type": "stream",
     "text": [
      "Features Importances\n",
      "[0.07534034 0.07350409 0.06746229 0.07475697 0.05227306 0.03542464\n",
      " 0.08347814 0.05672801 0.04518883 0.03480602 0.04303743 0.03459887\n",
      " 0.03621886 0.04340555 0.03813402 0.03599059 0.04643241 0.04340756\n",
      " 0.04148501 0.03832731]\n",
      "Training Features Shape: (750, 20)\n",
      "Training Labels Shape: (750,)\n",
      "Testing Features Shape: (250, 20)\n",
      "Testing Labels Shape: (250,)\n"
     ]
    },
    {
     "name": "stderr",
     "output_type": "stream",
     "text": [
      "C:\\Users\\alvar\\anaconda3\\envs\\python37\\lib\\site-packages\\sklearn\\utils\\validation.py:70: FutureWarning: Pass labels=['Blues' 'Classical' 'Country' 'Disco' 'Hiphop' 'Jazz' 'Metal' 'Pop'\n",
      " 'Reggae' 'Rock'] as keyword args. From version 0.25 passing these as positional arguments will result in an error\n",
      "  FutureWarning)\n"
     ]
    },
    {
     "name": "stdout",
     "output_type": "stream",
     "text": [
      "Features Importances\n",
      "[0.078838   0.07593961 0.06112445 0.07028531 0.05481826 0.03783098\n",
      " 0.08213876 0.05486741 0.04538836 0.03420619 0.04129459 0.03472838\n",
      " 0.03325978 0.0428439  0.03933139 0.04225706 0.04143651 0.04510498\n",
      " 0.04529053 0.03901556]\n",
      "Training Features Shape: (750, 20)\n",
      "Training Labels Shape: (750,)\n",
      "Testing Features Shape: (250, 20)\n",
      "Testing Labels Shape: (250,)\n"
     ]
    },
    {
     "name": "stderr",
     "output_type": "stream",
     "text": [
      "C:\\Users\\alvar\\anaconda3\\envs\\python37\\lib\\site-packages\\sklearn\\utils\\validation.py:70: FutureWarning: Pass labels=['Blues' 'Classical' 'Country' 'Disco' 'Hiphop' 'Jazz' 'Metal' 'Pop'\n",
      " 'Reggae' 'Rock'] as keyword args. From version 0.25 passing these as positional arguments will result in an error\n",
      "  FutureWarning)\n"
     ]
    },
    {
     "name": "stdout",
     "output_type": "stream",
     "text": [
      "Features Importances\n",
      "[0.07340527 0.06973693 0.06760981 0.07369795 0.05645868 0.0337773\n",
      " 0.08296298 0.0515333  0.04312716 0.03410689 0.04083259 0.03708372\n",
      " 0.03730793 0.04178908 0.03995616 0.04134905 0.04363601 0.04305805\n",
      " 0.04725861 0.04131252]\n",
      "Training Features Shape: (750, 20)\n",
      "Training Labels Shape: (750,)\n",
      "Testing Features Shape: (250, 20)\n",
      "Testing Labels Shape: (250,)\n"
     ]
    },
    {
     "name": "stderr",
     "output_type": "stream",
     "text": [
      "C:\\Users\\alvar\\anaconda3\\envs\\python37\\lib\\site-packages\\sklearn\\utils\\validation.py:70: FutureWarning: Pass labels=['Blues' 'Classical' 'Country' 'Disco' 'Hiphop' 'Jazz' 'Metal' 'Pop'\n",
      " 'Reggae' 'Rock'] as keyword args. From version 0.25 passing these as positional arguments will result in an error\n",
      "  FutureWarning)\n"
     ]
    },
    {
     "name": "stdout",
     "output_type": "stream",
     "text": [
      "Features Importances\n",
      "[0.07554841 0.07169894 0.06588494 0.07283066 0.05243365 0.03165839\n",
      " 0.08541222 0.05105473 0.04335082 0.03438653 0.04262762 0.0354646\n",
      " 0.03760627 0.04451734 0.04078958 0.04247104 0.04447689 0.0438035\n",
      " 0.04258226 0.04140162]\n",
      "Training Features Shape: (750, 20)\n",
      "Training Labels Shape: (750,)\n",
      "Testing Features Shape: (250, 20)\n",
      "Testing Labels Shape: (250,)\n"
     ]
    },
    {
     "name": "stderr",
     "output_type": "stream",
     "text": [
      "C:\\Users\\alvar\\anaconda3\\envs\\python37\\lib\\site-packages\\sklearn\\utils\\validation.py:70: FutureWarning: Pass labels=['Blues' 'Classical' 'Country' 'Disco' 'Hiphop' 'Jazz' 'Metal' 'Pop'\n",
      " 'Reggae' 'Rock'] as keyword args. From version 0.25 passing these as positional arguments will result in an error\n",
      "  FutureWarning)\n"
     ]
    },
    {
     "name": "stdout",
     "output_type": "stream",
     "text": [
      "Features Importances\n",
      "[0.0749161  0.07157541 0.06458473 0.07025499 0.05640573 0.03564743\n",
      " 0.08455574 0.05286477 0.04510809 0.03299064 0.04341607 0.03685932\n",
      " 0.03484453 0.04398057 0.0379528  0.04180023 0.04334709 0.04096457\n",
      " 0.04474294 0.04318825]\n",
      "Training Features Shape: (750, 20)\n",
      "Training Labels Shape: (750,)\n",
      "Testing Features Shape: (250, 20)\n",
      "Testing Labels Shape: (250,)\n"
     ]
    },
    {
     "name": "stderr",
     "output_type": "stream",
     "text": [
      "C:\\Users\\alvar\\anaconda3\\envs\\python37\\lib\\site-packages\\sklearn\\utils\\validation.py:70: FutureWarning: Pass labels=['Blues' 'Classical' 'Country' 'Disco' 'Hiphop' 'Jazz' 'Metal' 'Pop'\n",
      " 'Reggae' 'Rock'] as keyword args. From version 0.25 passing these as positional arguments will result in an error\n",
      "  FutureWarning)\n"
     ]
    },
    {
     "name": "stdout",
     "output_type": "stream",
     "text": [
      "Features Importances\n",
      "[0.07480253 0.07184873 0.06644841 0.07232022 0.05466087 0.03308314\n",
      " 0.0824556  0.05666046 0.04543116 0.03168358 0.03998347 0.03675884\n",
      " 0.03468635 0.04217843 0.04009257 0.04380878 0.04552677 0.04561297\n",
      " 0.04318037 0.03877675]\n",
      "Training Features Shape: (750, 20)\n",
      "Training Labels Shape: (750,)\n",
      "Testing Features Shape: (250, 20)\n",
      "Testing Labels Shape: (250,)\n"
     ]
    },
    {
     "name": "stderr",
     "output_type": "stream",
     "text": [
      "C:\\Users\\alvar\\anaconda3\\envs\\python37\\lib\\site-packages\\sklearn\\utils\\validation.py:70: FutureWarning: Pass labels=['Blues' 'Classical' 'Country' 'Disco' 'Hiphop' 'Jazz' 'Metal' 'Pop'\n",
      " 'Reggae' 'Rock'] as keyword args. From version 0.25 passing these as positional arguments will result in an error\n",
      "  FutureWarning)\n"
     ]
    },
    {
     "name": "stdout",
     "output_type": "stream",
     "text": [
      "Features Importances\n",
      "[0.07112013 0.06847487 0.0645787  0.07325762 0.05824637 0.03612384\n",
      " 0.0808029  0.05532251 0.04541792 0.03312781 0.04209153 0.03308518\n",
      " 0.03420169 0.04051625 0.03875489 0.04399622 0.04619338 0.04655009\n",
      " 0.04730718 0.04083094]\n",
      "Training Features Shape: (750, 20)\n",
      "Training Labels Shape: (750,)\n",
      "Testing Features Shape: (250, 20)\n",
      "Testing Labels Shape: (250,)\n"
     ]
    },
    {
     "name": "stderr",
     "output_type": "stream",
     "text": [
      "C:\\Users\\alvar\\anaconda3\\envs\\python37\\lib\\site-packages\\sklearn\\utils\\validation.py:70: FutureWarning: Pass labels=['Blues' 'Classical' 'Country' 'Disco' 'Hiphop' 'Jazz' 'Metal' 'Pop'\n",
      " 'Reggae' 'Rock'] as keyword args. From version 0.25 passing these as positional arguments will result in an error\n",
      "  FutureWarning)\n"
     ]
    },
    {
     "name": "stdout",
     "output_type": "stream",
     "text": [
      "Features Importances\n",
      "[0.07391274 0.07331179 0.0633073  0.07239293 0.05944415 0.03150217\n",
      " 0.08163274 0.05270811 0.04548669 0.03369705 0.0427792  0.03518499\n",
      " 0.03692923 0.04051001 0.04020615 0.04260772 0.04666878 0.04418537\n",
      " 0.04433154 0.03920132]\n",
      "Training Features Shape: (750, 20)\n",
      "Training Labels Shape: (750,)\n",
      "Testing Features Shape: (250, 20)\n",
      "Testing Labels Shape: (250,)\n"
     ]
    },
    {
     "name": "stderr",
     "output_type": "stream",
     "text": [
      "C:\\Users\\alvar\\anaconda3\\envs\\python37\\lib\\site-packages\\sklearn\\utils\\validation.py:70: FutureWarning: Pass labels=['Blues' 'Classical' 'Country' 'Disco' 'Hiphop' 'Jazz' 'Metal' 'Pop'\n",
      " 'Reggae' 'Rock'] as keyword args. From version 0.25 passing these as positional arguments will result in an error\n",
      "  FutureWarning)\n"
     ]
    },
    {
     "name": "stdout",
     "output_type": "stream",
     "text": [
      "Features Importances\n",
      "[0.07616016 0.07505092 0.06438474 0.06795052 0.06117921 0.03227233\n",
      " 0.08248599 0.04890607 0.04241104 0.0336961  0.04430826 0.03727662\n",
      " 0.03448665 0.04278561 0.04091748 0.04046248 0.04661025 0.04266738\n",
      " 0.0458502  0.04013798]\n",
      "Training Features Shape: (750, 20)\n",
      "Training Labels Shape: (750,)\n",
      "Testing Features Shape: (250, 20)\n",
      "Testing Labels Shape: (250,)\n"
     ]
    },
    {
     "name": "stderr",
     "output_type": "stream",
     "text": [
      "C:\\Users\\alvar\\anaconda3\\envs\\python37\\lib\\site-packages\\sklearn\\utils\\validation.py:70: FutureWarning: Pass labels=['Blues' 'Classical' 'Country' 'Disco' 'Hiphop' 'Jazz' 'Metal' 'Pop'\n",
      " 'Reggae' 'Rock'] as keyword args. From version 0.25 passing these as positional arguments will result in an error\n",
      "  FutureWarning)\n"
     ]
    },
    {
     "name": "stdout",
     "output_type": "stream",
     "text": [
      "Features Importances\n",
      "[0.07192534 0.07092365 0.06462153 0.07156859 0.05263882 0.03456638\n",
      " 0.08673846 0.05581019 0.04441082 0.03316308 0.04497865 0.03625622\n",
      " 0.03440296 0.04273015 0.03926498 0.0413134  0.04548934 0.0446802\n",
      " 0.0428781  0.04163914]\n",
      "Training Features Shape: (750, 20)\n",
      "Training Labels Shape: (750,)\n",
      "Testing Features Shape: (250, 20)\n",
      "Testing Labels Shape: (250,)\n"
     ]
    },
    {
     "name": "stderr",
     "output_type": "stream",
     "text": [
      "C:\\Users\\alvar\\anaconda3\\envs\\python37\\lib\\site-packages\\sklearn\\utils\\validation.py:70: FutureWarning: Pass labels=['Blues' 'Classical' 'Country' 'Disco' 'Hiphop' 'Jazz' 'Metal' 'Pop'\n",
      " 'Reggae' 'Rock'] as keyword args. From version 0.25 passing these as positional arguments will result in an error\n",
      "  FutureWarning)\n"
     ]
    },
    {
     "name": "stdout",
     "output_type": "stream",
     "text": [
      "Features Importances\n",
      "[0.07432866 0.07032264 0.06620144 0.0733397  0.05659303 0.0358017\n",
      " 0.08195655 0.05187382 0.04453842 0.03342447 0.04275195 0.03662346\n",
      " 0.0353728  0.04187477 0.03896663 0.04046954 0.04389998 0.04515977\n",
      " 0.0467099  0.03979077]\n",
      "Training Features Shape: (750, 20)\n",
      "Training Labels Shape: (750,)\n",
      "Testing Features Shape: (250, 20)\n",
      "Testing Labels Shape: (250,)\n"
     ]
    },
    {
     "name": "stderr",
     "output_type": "stream",
     "text": [
      "C:\\Users\\alvar\\anaconda3\\envs\\python37\\lib\\site-packages\\sklearn\\utils\\validation.py:70: FutureWarning: Pass labels=['Blues' 'Classical' 'Country' 'Disco' 'Hiphop' 'Jazz' 'Metal' 'Pop'\n",
      " 'Reggae' 'Rock'] as keyword args. From version 0.25 passing these as positional arguments will result in an error\n",
      "  FutureWarning)\n"
     ]
    },
    {
     "name": "stdout",
     "output_type": "stream",
     "text": [
      "Features Importances\n",
      "[0.07235043 0.07281305 0.06691457 0.07491471 0.05797985 0.03186918\n",
      " 0.08372689 0.05382438 0.04393332 0.03215301 0.04134906 0.03609138\n",
      " 0.03634611 0.04270609 0.03761615 0.0446046  0.04626145 0.04339731\n",
      " 0.04246546 0.038683  ]\n",
      "Training Features Shape: (750, 20)\n",
      "Training Labels Shape: (750,)\n",
      "Testing Features Shape: (250, 20)\n",
      "Testing Labels Shape: (250,)\n"
     ]
    },
    {
     "name": "stderr",
     "output_type": "stream",
     "text": [
      "C:\\Users\\alvar\\anaconda3\\envs\\python37\\lib\\site-packages\\sklearn\\utils\\validation.py:70: FutureWarning: Pass labels=['Blues' 'Classical' 'Country' 'Disco' 'Hiphop' 'Jazz' 'Metal' 'Pop'\n",
      " 'Reggae' 'Rock'] as keyword args. From version 0.25 passing these as positional arguments will result in an error\n",
      "  FutureWarning)\n"
     ]
    },
    {
     "name": "stdout",
     "output_type": "stream",
     "text": [
      "Features Importances\n",
      "[0.07223399 0.07283875 0.06833878 0.07312709 0.05981025 0.03592382\n",
      " 0.0805872  0.0509931  0.04300448 0.03330603 0.04298773 0.03536513\n",
      " 0.03464148 0.03990851 0.03820919 0.04250892 0.04483142 0.04265265\n",
      " 0.04671463 0.04201684]\n",
      "Training Features Shape: (750, 20)\n",
      "Training Labels Shape: (750,)\n",
      "Testing Features Shape: (250, 20)\n",
      "Testing Labels Shape: (250,)\n"
     ]
    },
    {
     "name": "stderr",
     "output_type": "stream",
     "text": [
      "C:\\Users\\alvar\\anaconda3\\envs\\python37\\lib\\site-packages\\sklearn\\utils\\validation.py:70: FutureWarning: Pass labels=['Blues' 'Classical' 'Country' 'Disco' 'Hiphop' 'Jazz' 'Metal' 'Pop'\n",
      " 'Reggae' 'Rock'] as keyword args. From version 0.25 passing these as positional arguments will result in an error\n",
      "  FutureWarning)\n"
     ]
    },
    {
     "name": "stdout",
     "output_type": "stream",
     "text": [
      "Features Importances\n",
      "[0.07458767 0.07295041 0.06608346 0.07218752 0.05482458 0.03483219\n",
      " 0.08157837 0.05439545 0.04401123 0.03336852 0.04148578 0.03728988\n",
      " 0.03504917 0.04433293 0.03748806 0.03975694 0.04314152 0.04584653\n",
      " 0.04492836 0.04186143]\n",
      "Training Features Shape: (750, 20)\n",
      "Training Labels Shape: (750,)\n",
      "Testing Features Shape: (250, 20)\n",
      "Testing Labels Shape: (250,)\n"
     ]
    },
    {
     "name": "stderr",
     "output_type": "stream",
     "text": [
      "C:\\Users\\alvar\\anaconda3\\envs\\python37\\lib\\site-packages\\sklearn\\utils\\validation.py:70: FutureWarning: Pass labels=['Blues' 'Classical' 'Country' 'Disco' 'Hiphop' 'Jazz' 'Metal' 'Pop'\n",
      " 'Reggae' 'Rock'] as keyword args. From version 0.25 passing these as positional arguments will result in an error\n",
      "  FutureWarning)\n"
     ]
    },
    {
     "name": "stdout",
     "output_type": "stream",
     "text": [
      "Features Importances\n",
      "[0.07747259 0.07692702 0.06130975 0.07074514 0.05755426 0.03604383\n",
      " 0.08339769 0.05526948 0.04452103 0.03248632 0.04030637 0.03765682\n",
      " 0.03414714 0.0411945  0.0376242  0.03996877 0.04250755 0.04212845\n",
      " 0.04550876 0.04323033]\n",
      "Training Features Shape: (750, 20)\n",
      "Training Labels Shape: (750,)\n",
      "Testing Features Shape: (250, 20)\n",
      "Testing Labels Shape: (250,)\n"
     ]
    },
    {
     "name": "stderr",
     "output_type": "stream",
     "text": [
      "C:\\Users\\alvar\\anaconda3\\envs\\python37\\lib\\site-packages\\sklearn\\utils\\validation.py:70: FutureWarning: Pass labels=['Blues' 'Classical' 'Country' 'Disco' 'Hiphop' 'Jazz' 'Metal' 'Pop'\n",
      " 'Reggae' 'Rock'] as keyword args. From version 0.25 passing these as positional arguments will result in an error\n",
      "  FutureWarning)\n"
     ]
    },
    {
     "name": "stdout",
     "output_type": "stream",
     "text": [
      "Features Importances\n",
      "[0.07425    0.07430993 0.06262231 0.07431567 0.05897238 0.03242736\n",
      " 0.07606    0.05089806 0.04776558 0.03487005 0.04249338 0.03705749\n",
      " 0.03539518 0.04441007 0.03827752 0.04170008 0.04578283 0.04272826\n",
      " 0.04330902 0.04235484]\n",
      "Training Features Shape: (750, 20)\n",
      "Training Labels Shape: (750,)\n",
      "Testing Features Shape: (250, 20)\n",
      "Testing Labels Shape: (250,)\n"
     ]
    },
    {
     "name": "stderr",
     "output_type": "stream",
     "text": [
      "C:\\Users\\alvar\\anaconda3\\envs\\python37\\lib\\site-packages\\sklearn\\utils\\validation.py:70: FutureWarning: Pass labels=['Blues' 'Classical' 'Country' 'Disco' 'Hiphop' 'Jazz' 'Metal' 'Pop'\n",
      " 'Reggae' 'Rock'] as keyword args. From version 0.25 passing these as positional arguments will result in an error\n",
      "  FutureWarning)\n"
     ]
    },
    {
     "name": "stdout",
     "output_type": "stream",
     "text": [
      "Features Importances\n",
      "[0.07619337 0.06945766 0.06634548 0.07215262 0.05394845 0.03328247\n",
      " 0.08300783 0.0545911  0.04727407 0.03217722 0.04331862 0.03820174\n",
      " 0.03388384 0.04525373 0.03893685 0.04177543 0.04594197 0.0412485\n",
      " 0.04235171 0.04065735]\n",
      "Training Features Shape: (750, 20)\n",
      "Training Labels Shape: (750,)\n",
      "Testing Features Shape: (250, 20)\n",
      "Testing Labels Shape: (250,)\n"
     ]
    },
    {
     "name": "stderr",
     "output_type": "stream",
     "text": [
      "C:\\Users\\alvar\\anaconda3\\envs\\python37\\lib\\site-packages\\sklearn\\utils\\validation.py:70: FutureWarning: Pass labels=['Blues' 'Classical' 'Country' 'Disco' 'Hiphop' 'Jazz' 'Metal' 'Pop'\n",
      " 'Reggae' 'Rock'] as keyword args. From version 0.25 passing these as positional arguments will result in an error\n",
      "  FutureWarning)\n"
     ]
    },
    {
     "name": "stdout",
     "output_type": "stream",
     "text": [
      "Features Importances\n",
      "[0.0773718  0.07926021 0.06557182 0.07073697 0.05784526 0.03285392\n",
      " 0.07774719 0.05007125 0.04214436 0.03221315 0.04305067 0.03602208\n",
      " 0.03420276 0.04438915 0.03879708 0.0415024  0.04423062 0.0434427\n",
      " 0.04817766 0.04036896]\n"
     ]
    },
    {
     "name": "stderr",
     "output_type": "stream",
     "text": [
      "C:\\Users\\alvar\\anaconda3\\envs\\python37\\lib\\site-packages\\sklearn\\utils\\validation.py:70: FutureWarning: Pass labels=['Blues' 'Classical' 'Country' 'Disco' 'Hiphop' 'Jazz' 'Metal' 'Pop'\n",
      " 'Reggae' 'Rock'] as keyword args. From version 0.25 passing these as positional arguments will result in an error\n",
      "  FutureWarning)\n"
     ]
    },
    {
     "name": "stdout",
     "output_type": "stream",
     "text": [
      "Training Features Shape: (750, 20)\n",
      "Training Labels Shape: (750,)\n",
      "Testing Features Shape: (250, 20)\n",
      "Testing Labels Shape: (250,)\n",
      "Features Importances\n",
      "[0.0737483  0.07031036 0.06614499 0.06992211 0.05666213 0.03415191\n",
      " 0.08678674 0.05186177 0.04883192 0.0316212  0.04254292 0.03742285\n",
      " 0.03643773 0.04254617 0.03917768 0.04189629 0.04281127 0.0390959\n",
      " 0.04758266 0.0404451 ]\n",
      "Training Features Shape: (750, 20)\n",
      "Training Labels Shape: (750,)\n",
      "Testing Features Shape: (250, 20)\n",
      "Testing Labels Shape: (250,)\n"
     ]
    },
    {
     "name": "stderr",
     "output_type": "stream",
     "text": [
      "C:\\Users\\alvar\\anaconda3\\envs\\python37\\lib\\site-packages\\sklearn\\utils\\validation.py:70: FutureWarning: Pass labels=['Blues' 'Classical' 'Country' 'Disco' 'Hiphop' 'Jazz' 'Metal' 'Pop'\n",
      " 'Reggae' 'Rock'] as keyword args. From version 0.25 passing these as positional arguments will result in an error\n",
      "  FutureWarning)\n"
     ]
    },
    {
     "name": "stdout",
     "output_type": "stream",
     "text": [
      "Features Importances\n",
      "[0.07303346 0.07337565 0.06837277 0.07145234 0.05393578 0.03491723\n",
      " 0.08123305 0.05664414 0.04399717 0.03297829 0.04350855 0.03542826\n",
      " 0.03512797 0.04415879 0.03781809 0.03913842 0.04624637 0.04334481\n",
      " 0.04521692 0.04007194]\n",
      "Training Features Shape: (750, 20)\n",
      "Training Labels Shape: (750,)\n",
      "Testing Features Shape: (250, 20)\n",
      "Testing Labels Shape: (250,)\n"
     ]
    },
    {
     "name": "stderr",
     "output_type": "stream",
     "text": [
      "C:\\Users\\alvar\\anaconda3\\envs\\python37\\lib\\site-packages\\sklearn\\utils\\validation.py:70: FutureWarning: Pass labels=['Blues' 'Classical' 'Country' 'Disco' 'Hiphop' 'Jazz' 'Metal' 'Pop'\n",
      " 'Reggae' 'Rock'] as keyword args. From version 0.25 passing these as positional arguments will result in an error\n",
      "  FutureWarning)\n"
     ]
    },
    {
     "name": "stdout",
     "output_type": "stream",
     "text": [
      "Features Importances\n",
      "[0.07463797 0.07431424 0.06525805 0.06682914 0.05878915 0.03117141\n",
      " 0.08440418 0.04849215 0.04514038 0.03289909 0.04312975 0.03601781\n",
      " 0.03579719 0.04080633 0.03973571 0.0430099  0.04285165 0.04707381\n",
      " 0.0472725  0.04236958]\n",
      "Training Features Shape: (750, 20)\n",
      "Training Labels Shape: (750,)\n",
      "Testing Features Shape: (250, 20)\n",
      "Testing Labels Shape: (250,)\n"
     ]
    },
    {
     "name": "stderr",
     "output_type": "stream",
     "text": [
      "C:\\Users\\alvar\\anaconda3\\envs\\python37\\lib\\site-packages\\sklearn\\utils\\validation.py:70: FutureWarning: Pass labels=['Blues' 'Classical' 'Country' 'Disco' 'Hiphop' 'Jazz' 'Metal' 'Pop'\n",
      " 'Reggae' 'Rock'] as keyword args. From version 0.25 passing these as positional arguments will result in an error\n",
      "  FutureWarning)\n"
     ]
    },
    {
     "name": "stdout",
     "output_type": "stream",
     "text": [
      "Features Importances\n",
      "[0.07533968 0.0714828  0.06953824 0.07039038 0.0536608  0.03628328\n",
      " 0.08379792 0.05518651 0.04348381 0.03428157 0.04046236 0.03692762\n",
      " 0.03353986 0.04247608 0.03951106 0.0426696  0.04359957 0.04217967\n",
      " 0.04367909 0.0415101 ]\n",
      "Training Features Shape: (750, 20)\n",
      "Training Labels Shape: (750,)\n",
      "Testing Features Shape: (250, 20)\n",
      "Testing Labels Shape: (250,)\n"
     ]
    },
    {
     "name": "stderr",
     "output_type": "stream",
     "text": [
      "C:\\Users\\alvar\\anaconda3\\envs\\python37\\lib\\site-packages\\sklearn\\utils\\validation.py:70: FutureWarning: Pass labels=['Blues' 'Classical' 'Country' 'Disco' 'Hiphop' 'Jazz' 'Metal' 'Pop'\n",
      " 'Reggae' 'Rock'] as keyword args. From version 0.25 passing these as positional arguments will result in an error\n",
      "  FutureWarning)\n"
     ]
    },
    {
     "name": "stdout",
     "output_type": "stream",
     "text": [
      "Features Importances\n",
      "[0.07559778 0.07302763 0.06311947 0.07095485 0.05890058 0.03565689\n",
      " 0.07955676 0.05289406 0.04665834 0.03427171 0.04409782 0.03722483\n",
      " 0.03469903 0.04169023 0.03898422 0.03771081 0.04404335 0.04438555\n",
      " 0.04448482 0.04204125]\n",
      "Training Features Shape: (750, 20)\n",
      "Training Labels Shape: (750,)\n",
      "Testing Features Shape: (250, 20)\n",
      "Testing Labels Shape: (250,)\n"
     ]
    },
    {
     "name": "stderr",
     "output_type": "stream",
     "text": [
      "C:\\Users\\alvar\\anaconda3\\envs\\python37\\lib\\site-packages\\sklearn\\utils\\validation.py:70: FutureWarning: Pass labels=['Blues' 'Classical' 'Country' 'Disco' 'Hiphop' 'Jazz' 'Metal' 'Pop'\n",
      " 'Reggae' 'Rock'] as keyword args. From version 0.25 passing these as positional arguments will result in an error\n",
      "  FutureWarning)\n"
     ]
    },
    {
     "name": "stdout",
     "output_type": "stream",
     "text": [
      "Features Importances\n",
      "[0.0765851  0.07394908 0.06308443 0.07287387 0.05604209 0.03308111\n",
      " 0.08165343 0.04961198 0.04542528 0.03270254 0.04501769 0.03590125\n",
      " 0.03479801 0.04437279 0.03663243 0.04331198 0.04430507 0.04594301\n",
      " 0.04486618 0.03984267]\n",
      "Training Features Shape: (750, 20)\n",
      "Training Labels Shape: (750,)\n",
      "Testing Features Shape: (250, 20)\n",
      "Testing Labels Shape: (250,)\n"
     ]
    },
    {
     "name": "stderr",
     "output_type": "stream",
     "text": [
      "C:\\Users\\alvar\\anaconda3\\envs\\python37\\lib\\site-packages\\sklearn\\utils\\validation.py:70: FutureWarning: Pass labels=['Blues' 'Classical' 'Country' 'Disco' 'Hiphop' 'Jazz' 'Metal' 'Pop'\n",
      " 'Reggae' 'Rock'] as keyword args. From version 0.25 passing these as positional arguments will result in an error\n",
      "  FutureWarning)\n"
     ]
    },
    {
     "name": "stdout",
     "output_type": "stream",
     "text": [
      "Features Importances\n",
      "[0.07610815 0.07900511 0.06743431 0.07003049 0.0531889  0.03431263\n",
      " 0.08177925 0.05191832 0.04529189 0.03217983 0.04270558 0.0357324\n",
      " 0.03424352 0.04194061 0.03743335 0.04336106 0.04466283 0.04656891\n",
      " 0.04425271 0.03785015]\n",
      "Training Features Shape: (750, 20)\n",
      "Training Labels Shape: (750,)\n",
      "Testing Features Shape: (250, 20)\n",
      "Testing Labels Shape: (250,)\n"
     ]
    },
    {
     "name": "stderr",
     "output_type": "stream",
     "text": [
      "C:\\Users\\alvar\\anaconda3\\envs\\python37\\lib\\site-packages\\sklearn\\utils\\validation.py:70: FutureWarning: Pass labels=['Blues' 'Classical' 'Country' 'Disco' 'Hiphop' 'Jazz' 'Metal' 'Pop'\n",
      " 'Reggae' 'Rock'] as keyword args. From version 0.25 passing these as positional arguments will result in an error\n",
      "  FutureWarning)\n"
     ]
    },
    {
     "name": "stdout",
     "output_type": "stream",
     "text": [
      "Features Importances\n",
      "[0.07486911 0.07237516 0.06617907 0.07381337 0.05466552 0.03439505\n",
      " 0.07930015 0.05244925 0.04880982 0.03245739 0.04397439 0.03699161\n",
      " 0.03441464 0.04224576 0.03969273 0.03868126 0.0435958  0.04354725\n",
      " 0.04678283 0.04075984]\n",
      "Training Features Shape: (750, 20)\n",
      "Training Labels Shape: (750,)\n",
      "Testing Features Shape: (250, 20)\n",
      "Testing Labels Shape: (250,)\n"
     ]
    },
    {
     "name": "stderr",
     "output_type": "stream",
     "text": [
      "C:\\Users\\alvar\\anaconda3\\envs\\python37\\lib\\site-packages\\sklearn\\utils\\validation.py:70: FutureWarning: Pass labels=['Blues' 'Classical' 'Country' 'Disco' 'Hiphop' 'Jazz' 'Metal' 'Pop'\n",
      " 'Reggae' 'Rock'] as keyword args. From version 0.25 passing these as positional arguments will result in an error\n",
      "  FutureWarning)\n"
     ]
    },
    {
     "name": "stdout",
     "output_type": "stream",
     "text": [
      "Features Importances\n",
      "[0.07575019 0.0725606  0.06342614 0.07544086 0.05747306 0.03304775\n",
      " 0.07951017 0.05213959 0.0401321  0.03402556 0.04531689 0.03701092\n",
      " 0.03517494 0.04313644 0.03801165 0.04087428 0.04482303 0.04379994\n",
      " 0.04764422 0.04070167]\n",
      "Training Features Shape: (750, 20)\n",
      "Training Labels Shape: (750,)\n",
      "Testing Features Shape: (250, 20)\n",
      "Testing Labels Shape: (250,)\n"
     ]
    },
    {
     "name": "stderr",
     "output_type": "stream",
     "text": [
      "C:\\Users\\alvar\\anaconda3\\envs\\python37\\lib\\site-packages\\sklearn\\utils\\validation.py:70: FutureWarning: Pass labels=['Blues' 'Classical' 'Country' 'Disco' 'Hiphop' 'Jazz' 'Metal' 'Pop'\n",
      " 'Reggae' 'Rock'] as keyword args. From version 0.25 passing these as positional arguments will result in an error\n",
      "  FutureWarning)\n"
     ]
    },
    {
     "name": "stdout",
     "output_type": "stream",
     "text": [
      "Features Importances\n",
      "[0.07719907 0.07135888 0.0640736  0.07481344 0.05584959 0.03486323\n",
      " 0.08277772 0.0518748  0.04374602 0.03245834 0.04267562 0.03535657\n",
      " 0.03583526 0.0441432  0.03773079 0.04407481 0.04453168 0.04056135\n",
      " 0.04331711 0.04275891]\n",
      "Training Features Shape: (750, 20)\n",
      "Training Labels Shape: (750,)\n",
      "Testing Features Shape: (250, 20)\n",
      "Testing Labels Shape: (250,)\n"
     ]
    },
    {
     "name": "stderr",
     "output_type": "stream",
     "text": [
      "C:\\Users\\alvar\\anaconda3\\envs\\python37\\lib\\site-packages\\sklearn\\utils\\validation.py:70: FutureWarning: Pass labels=['Blues' 'Classical' 'Country' 'Disco' 'Hiphop' 'Jazz' 'Metal' 'Pop'\n",
      " 'Reggae' 'Rock'] as keyword args. From version 0.25 passing these as positional arguments will result in an error\n",
      "  FutureWarning)\n"
     ]
    },
    {
     "name": "stdout",
     "output_type": "stream",
     "text": [
      "Features Importances\n",
      "[0.07565348 0.07081715 0.06503654 0.07511501 0.05664826 0.03515468\n",
      " 0.07854869 0.05284605 0.04641662 0.03328872 0.04374968 0.03509965\n",
      " 0.03521841 0.04453396 0.03986872 0.04030706 0.04413814 0.04409236\n",
      " 0.04463966 0.03882715]\n",
      "Training Features Shape: (750, 20)\n",
      "Training Labels Shape: (750,)\n",
      "Testing Features Shape: (250, 20)\n",
      "Testing Labels Shape: (250,)\n"
     ]
    },
    {
     "name": "stderr",
     "output_type": "stream",
     "text": [
      "C:\\Users\\alvar\\anaconda3\\envs\\python37\\lib\\site-packages\\sklearn\\utils\\validation.py:70: FutureWarning: Pass labels=['Blues' 'Classical' 'Country' 'Disco' 'Hiphop' 'Jazz' 'Metal' 'Pop'\n",
      " 'Reggae' 'Rock'] as keyword args. From version 0.25 passing these as positional arguments will result in an error\n",
      "  FutureWarning)\n"
     ]
    },
    {
     "name": "stdout",
     "output_type": "stream",
     "text": [
      "Features Importances\n",
      "[0.07322386 0.07237305 0.06631028 0.07409087 0.06082476 0.0343262\n",
      " 0.07815346 0.05306533 0.04390665 0.03321978 0.0425134  0.03674584\n",
      " 0.03417997 0.04166718 0.03502983 0.04256646 0.04485996 0.0471264\n",
      " 0.04399687 0.04181984]\n",
      "Training Features Shape: (750, 20)\n",
      "Training Labels Shape: (750,)\n",
      "Testing Features Shape: (250, 20)\n",
      "Testing Labels Shape: (250,)\n"
     ]
    },
    {
     "name": "stderr",
     "output_type": "stream",
     "text": [
      "C:\\Users\\alvar\\anaconda3\\envs\\python37\\lib\\site-packages\\sklearn\\utils\\validation.py:70: FutureWarning: Pass labels=['Blues' 'Classical' 'Country' 'Disco' 'Hiphop' 'Jazz' 'Metal' 'Pop'\n",
      " 'Reggae' 'Rock'] as keyword args. From version 0.25 passing these as positional arguments will result in an error\n",
      "  FutureWarning)\n"
     ]
    },
    {
     "name": "stdout",
     "output_type": "stream",
     "text": [
      "Features Importances\n",
      "[0.07343622 0.07222305 0.06530928 0.07294741 0.05679705 0.03432102\n",
      " 0.0822712  0.0536613  0.04573215 0.03304    0.04386542 0.03589188\n",
      " 0.03387165 0.04160229 0.03940647 0.04187177 0.04770926 0.04320579\n",
      " 0.04159388 0.04124288]\n",
      "Training Features Shape: (750, 20)\n",
      "Training Labels Shape: (750,)\n",
      "Testing Features Shape: (250, 20)\n",
      "Testing Labels Shape: (250,)\n"
     ]
    },
    {
     "name": "stderr",
     "output_type": "stream",
     "text": [
      "C:\\Users\\alvar\\anaconda3\\envs\\python37\\lib\\site-packages\\sklearn\\utils\\validation.py:70: FutureWarning: Pass labels=['Blues' 'Classical' 'Country' 'Disco' 'Hiphop' 'Jazz' 'Metal' 'Pop'\n",
      " 'Reggae' 'Rock'] as keyword args. From version 0.25 passing these as positional arguments will result in an error\n",
      "  FutureWarning)\n"
     ]
    },
    {
     "name": "stdout",
     "output_type": "stream",
     "text": [
      "Features Importances\n",
      "[0.07234541 0.07504962 0.06412564 0.07213538 0.05429674 0.03651403\n",
      " 0.08698098 0.05420636 0.04325482 0.0328111  0.04272772 0.03751472\n",
      " 0.03616239 0.03928528 0.0371179  0.0417435  0.04360396 0.04466942\n",
      " 0.0435111  0.04194392]\n",
      "Training Features Shape: (750, 20)\n",
      "Training Labels Shape: (750,)\n",
      "Testing Features Shape: (250, 20)\n",
      "Testing Labels Shape: (250,)\n"
     ]
    },
    {
     "name": "stderr",
     "output_type": "stream",
     "text": [
      "C:\\Users\\alvar\\anaconda3\\envs\\python37\\lib\\site-packages\\sklearn\\utils\\validation.py:70: FutureWarning: Pass labels=['Blues' 'Classical' 'Country' 'Disco' 'Hiphop' 'Jazz' 'Metal' 'Pop'\n",
      " 'Reggae' 'Rock'] as keyword args. From version 0.25 passing these as positional arguments will result in an error\n",
      "  FutureWarning)\n"
     ]
    },
    {
     "name": "stdout",
     "output_type": "stream",
     "text": [
      "Features Importances\n",
      "[0.07097859 0.07068166 0.0666899  0.06927516 0.05934582 0.03277579\n",
      " 0.08296253 0.05253969 0.04609316 0.0320884  0.04454175 0.03687059\n",
      " 0.035854   0.04276879 0.03655294 0.03983915 0.04989736 0.04348029\n",
      " 0.04357086 0.04319358]\n",
      "Training Features Shape: (750, 20)\n",
      "Training Labels Shape: (750,)\n",
      "Testing Features Shape: (250, 20)\n",
      "Testing Labels Shape: (250,)\n"
     ]
    },
    {
     "name": "stderr",
     "output_type": "stream",
     "text": [
      "C:\\Users\\alvar\\anaconda3\\envs\\python37\\lib\\site-packages\\sklearn\\utils\\validation.py:70: FutureWarning: Pass labels=['Blues' 'Classical' 'Country' 'Disco' 'Hiphop' 'Jazz' 'Metal' 'Pop'\n",
      " 'Reggae' 'Rock'] as keyword args. From version 0.25 passing these as positional arguments will result in an error\n",
      "  FutureWarning)\n"
     ]
    },
    {
     "name": "stdout",
     "output_type": "stream",
     "text": [
      "Features Importances\n",
      "[0.07789201 0.07034084 0.06192608 0.07198822 0.05494979 0.0343206\n",
      " 0.08227745 0.05334318 0.04467467 0.03195294 0.04239941 0.03513174\n",
      " 0.03733738 0.04665809 0.04124537 0.0386499  0.04446243 0.04152435\n",
      " 0.04754506 0.04138047]\n",
      "Training Features Shape: (750, 20)\n",
      "Training Labels Shape: (750,)\n",
      "Testing Features Shape: (250, 20)\n",
      "Testing Labels Shape: (250,)\n"
     ]
    },
    {
     "name": "stderr",
     "output_type": "stream",
     "text": [
      "C:\\Users\\alvar\\anaconda3\\envs\\python37\\lib\\site-packages\\sklearn\\utils\\validation.py:70: FutureWarning: Pass labels=['Blues' 'Classical' 'Country' 'Disco' 'Hiphop' 'Jazz' 'Metal' 'Pop'\n",
      " 'Reggae' 'Rock'] as keyword args. From version 0.25 passing these as positional arguments will result in an error\n",
      "  FutureWarning)\n"
     ]
    },
    {
     "name": "stdout",
     "output_type": "stream",
     "text": [
      "Features Importances\n",
      "[0.07167825 0.06847356 0.06828273 0.07451736 0.05547929 0.03258416\n",
      " 0.07908359 0.05347016 0.04615    0.03501792 0.04550644 0.03544052\n",
      " 0.03763884 0.0433328  0.03636391 0.04098501 0.04643185 0.04329789\n",
      " 0.04350101 0.04276474]\n",
      "Training Features Shape: (750, 20)\n",
      "Training Labels Shape: (750,)\n",
      "Testing Features Shape: (250, 20)\n",
      "Testing Labels Shape: (250,)\n"
     ]
    },
    {
     "name": "stderr",
     "output_type": "stream",
     "text": [
      "C:\\Users\\alvar\\anaconda3\\envs\\python37\\lib\\site-packages\\sklearn\\utils\\validation.py:70: FutureWarning: Pass labels=['Blues' 'Classical' 'Country' 'Disco' 'Hiphop' 'Jazz' 'Metal' 'Pop'\n",
      " 'Reggae' 'Rock'] as keyword args. From version 0.25 passing these as positional arguments will result in an error\n",
      "  FutureWarning)\n"
     ]
    },
    {
     "name": "stdout",
     "output_type": "stream",
     "text": [
      "Features Importances\n",
      "[0.07391433 0.07626956 0.06269529 0.07225785 0.05695796 0.03123206\n",
      " 0.08009893 0.05397044 0.04481801 0.03559215 0.04295525 0.03643436\n",
      " 0.0358246  0.0439872  0.03979969 0.03859843 0.04615682 0.04516863\n",
      " 0.0419269  0.04134155]\n",
      "Training Features Shape: (750, 20)\n",
      "Training Labels Shape: (750,)\n",
      "Testing Features Shape: (250, 20)\n",
      "Testing Labels Shape: (250,)\n"
     ]
    },
    {
     "name": "stderr",
     "output_type": "stream",
     "text": [
      "C:\\Users\\alvar\\anaconda3\\envs\\python37\\lib\\site-packages\\sklearn\\utils\\validation.py:70: FutureWarning: Pass labels=['Blues' 'Classical' 'Country' 'Disco' 'Hiphop' 'Jazz' 'Metal' 'Pop'\n",
      " 'Reggae' 'Rock'] as keyword args. From version 0.25 passing these as positional arguments will result in an error\n",
      "  FutureWarning)\n"
     ]
    },
    {
     "name": "stdout",
     "output_type": "stream",
     "text": [
      "Features Importances\n",
      "[0.07574367 0.07534292 0.06602918 0.06942997 0.05549974 0.03472398\n",
      " 0.08284966 0.05222555 0.04489613 0.03310382 0.04230729 0.0368091\n",
      " 0.03514713 0.0404101  0.04023123 0.04083074 0.04558113 0.04622313\n",
      " 0.04406441 0.03855112]\n",
      "Training Features Shape: (750, 20)\n",
      "Training Labels Shape: (750,)\n",
      "Testing Features Shape: (250, 20)\n",
      "Testing Labels Shape: (250,)\n"
     ]
    },
    {
     "name": "stderr",
     "output_type": "stream",
     "text": [
      "C:\\Users\\alvar\\anaconda3\\envs\\python37\\lib\\site-packages\\sklearn\\utils\\validation.py:70: FutureWarning: Pass labels=['Blues' 'Classical' 'Country' 'Disco' 'Hiphop' 'Jazz' 'Metal' 'Pop'\n",
      " 'Reggae' 'Rock'] as keyword args. From version 0.25 passing these as positional arguments will result in an error\n",
      "  FutureWarning)\n"
     ]
    },
    {
     "name": "stdout",
     "output_type": "stream",
     "text": [
      "Features Importances\n",
      "[0.07567849 0.07568529 0.06356481 0.07059374 0.05688676 0.03211131\n",
      " 0.08265854 0.05456859 0.04412381 0.03277786 0.04100219 0.03876581\n",
      " 0.03549616 0.04359782 0.03764086 0.04053964 0.04898289 0.04345776\n",
      " 0.04158421 0.04028347]\n",
      "Training Features Shape: (750, 20)\n",
      "Training Labels Shape: (750,)\n",
      "Testing Features Shape: (250, 20)\n",
      "Testing Labels Shape: (250,)\n"
     ]
    },
    {
     "name": "stderr",
     "output_type": "stream",
     "text": [
      "C:\\Users\\alvar\\anaconda3\\envs\\python37\\lib\\site-packages\\sklearn\\utils\\validation.py:70: FutureWarning: Pass labels=['Blues' 'Classical' 'Country' 'Disco' 'Hiphop' 'Jazz' 'Metal' 'Pop'\n",
      " 'Reggae' 'Rock'] as keyword args. From version 0.25 passing these as positional arguments will result in an error\n",
      "  FutureWarning)\n"
     ]
    },
    {
     "name": "stdout",
     "output_type": "stream",
     "text": [
      "Features Importances\n",
      "[0.07634917 0.07642423 0.06845393 0.07105887 0.05595637 0.03588033\n",
      " 0.0803694  0.05435869 0.04341766 0.03395501 0.04339371 0.03453557\n",
      " 0.03456537 0.04131962 0.03840608 0.03904269 0.04567461 0.04293519\n",
      " 0.04387275 0.04003075]\n",
      "Training Features Shape: (750, 20)\n",
      "Training Labels Shape: (750,)\n",
      "Testing Features Shape: (250, 20)\n",
      "Testing Labels Shape: (250,)\n"
     ]
    },
    {
     "name": "stderr",
     "output_type": "stream",
     "text": [
      "C:\\Users\\alvar\\anaconda3\\envs\\python37\\lib\\site-packages\\sklearn\\utils\\validation.py:70: FutureWarning: Pass labels=['Blues' 'Classical' 'Country' 'Disco' 'Hiphop' 'Jazz' 'Metal' 'Pop'\n",
      " 'Reggae' 'Rock'] as keyword args. From version 0.25 passing these as positional arguments will result in an error\n",
      "  FutureWarning)\n"
     ]
    },
    {
     "name": "stdout",
     "output_type": "stream",
     "text": [
      "Features Importances\n",
      "[0.07779108 0.07637896 0.063935   0.07460125 0.05701753 0.03542342\n",
      " 0.08360537 0.05008112 0.04468831 0.03244008 0.04019775 0.03570127\n",
      " 0.03610924 0.04171446 0.03795248 0.04113194 0.04505223 0.04318542\n",
      " 0.04284952 0.04014357]\n",
      "Training Features Shape: (750, 20)\n",
      "Training Labels Shape: (750,)\n",
      "Testing Features Shape: (250, 20)\n",
      "Testing Labels Shape: (250,)\n"
     ]
    },
    {
     "name": "stderr",
     "output_type": "stream",
     "text": [
      "C:\\Users\\alvar\\anaconda3\\envs\\python37\\lib\\site-packages\\sklearn\\utils\\validation.py:70: FutureWarning: Pass labels=['Blues' 'Classical' 'Country' 'Disco' 'Hiphop' 'Jazz' 'Metal' 'Pop'\n",
      " 'Reggae' 'Rock'] as keyword args. From version 0.25 passing these as positional arguments will result in an error\n",
      "  FutureWarning)\n"
     ]
    },
    {
     "name": "stdout",
     "output_type": "stream",
     "text": [
      "Features Importances\n",
      "[0.08075426 0.07656022 0.06459229 0.06930446 0.05584342 0.03588914\n",
      " 0.08281815 0.05252989 0.04429025 0.03226077 0.03853054 0.03599904\n",
      " 0.03515915 0.04344803 0.03977598 0.04321425 0.04223976 0.04385144\n",
      " 0.04285378 0.04008517]\n",
      "Training Features Shape: (750, 20)\n",
      "Training Labels Shape: (750,)\n",
      "Testing Features Shape: (250, 20)\n",
      "Testing Labels Shape: (250,)\n"
     ]
    },
    {
     "name": "stderr",
     "output_type": "stream",
     "text": [
      "C:\\Users\\alvar\\anaconda3\\envs\\python37\\lib\\site-packages\\sklearn\\utils\\validation.py:70: FutureWarning: Pass labels=['Blues' 'Classical' 'Country' 'Disco' 'Hiphop' 'Jazz' 'Metal' 'Pop'\n",
      " 'Reggae' 'Rock'] as keyword args. From version 0.25 passing these as positional arguments will result in an error\n",
      "  FutureWarning)\n"
     ]
    },
    {
     "name": "stdout",
     "output_type": "stream",
     "text": [
      "Features Importances\n",
      "[0.07428435 0.07246245 0.06166387 0.07318837 0.05735705 0.03432578\n",
      " 0.08295722 0.05097219 0.04612513 0.03364137 0.04172401 0.03832102\n",
      " 0.03594055 0.04208286 0.03962226 0.04380137 0.04404163 0.04232286\n",
      " 0.04259757 0.04256809]\n",
      "Training Features Shape: (750, 20)\n",
      "Training Labels Shape: (750,)\n",
      "Testing Features Shape: (250, 20)\n",
      "Testing Labels Shape: (250,)\n"
     ]
    },
    {
     "name": "stderr",
     "output_type": "stream",
     "text": [
      "C:\\Users\\alvar\\anaconda3\\envs\\python37\\lib\\site-packages\\sklearn\\utils\\validation.py:70: FutureWarning: Pass labels=['Blues' 'Classical' 'Country' 'Disco' 'Hiphop' 'Jazz' 'Metal' 'Pop'\n",
      " 'Reggae' 'Rock'] as keyword args. From version 0.25 passing these as positional arguments will result in an error\n",
      "  FutureWarning)\n"
     ]
    },
    {
     "name": "stdout",
     "output_type": "stream",
     "text": [
      "Features Importances\n",
      "[0.07663841 0.07216818 0.06349619 0.07341056 0.05865203 0.03568246\n",
      " 0.07910096 0.05496148 0.04265225 0.0333957  0.0409721  0.03719023\n",
      " 0.03560747 0.04304945 0.04070964 0.04195961 0.04304215 0.04131329\n",
      " 0.04574182 0.040256  ]\n",
      "Training Features Shape: (750, 20)\n",
      "Training Labels Shape: (750,)\n",
      "Testing Features Shape: (250, 20)\n",
      "Testing Labels Shape: (250,)\n"
     ]
    },
    {
     "name": "stderr",
     "output_type": "stream",
     "text": [
      "C:\\Users\\alvar\\anaconda3\\envs\\python37\\lib\\site-packages\\sklearn\\utils\\validation.py:70: FutureWarning: Pass labels=['Blues' 'Classical' 'Country' 'Disco' 'Hiphop' 'Jazz' 'Metal' 'Pop'\n",
      " 'Reggae' 'Rock'] as keyword args. From version 0.25 passing these as positional arguments will result in an error\n",
      "  FutureWarning)\n"
     ]
    },
    {
     "name": "stdout",
     "output_type": "stream",
     "text": [
      "Features Importances\n",
      "[0.07662719 0.07259573 0.06829204 0.06729948 0.05767295 0.0337519\n",
      " 0.08632147 0.05010725 0.04359013 0.03228102 0.04203095 0.03424488\n",
      " 0.03571988 0.0421178  0.03808064 0.03879276 0.04978635 0.04336435\n",
      " 0.04678221 0.04054101]\n",
      "Training Features Shape: (750, 20)\n",
      "Training Labels Shape: (750,)\n",
      "Testing Features Shape: (250, 20)\n",
      "Testing Labels Shape: (250,)\n"
     ]
    },
    {
     "name": "stderr",
     "output_type": "stream",
     "text": [
      "C:\\Users\\alvar\\anaconda3\\envs\\python37\\lib\\site-packages\\sklearn\\utils\\validation.py:70: FutureWarning: Pass labels=['Blues' 'Classical' 'Country' 'Disco' 'Hiphop' 'Jazz' 'Metal' 'Pop'\n",
      " 'Reggae' 'Rock'] as keyword args. From version 0.25 passing these as positional arguments will result in an error\n",
      "  FutureWarning)\n"
     ]
    },
    {
     "name": "stdout",
     "output_type": "stream",
     "text": [
      "Features Importances\n",
      "[0.07584726 0.07244737 0.06262594 0.07452211 0.05190328 0.03440883\n",
      " 0.08075154 0.05296913 0.05090721 0.03395399 0.04320731 0.03667585\n",
      " 0.03520459 0.04110052 0.03781513 0.04167864 0.04623355 0.04022827\n",
      " 0.04380119 0.0437183 ]\n",
      "Training Features Shape: (750, 20)\n",
      "Training Labels Shape: (750,)\n",
      "Testing Features Shape: (250, 20)\n",
      "Testing Labels Shape: (250,)\n"
     ]
    },
    {
     "name": "stderr",
     "output_type": "stream",
     "text": [
      "C:\\Users\\alvar\\anaconda3\\envs\\python37\\lib\\site-packages\\sklearn\\utils\\validation.py:70: FutureWarning: Pass labels=['Blues' 'Classical' 'Country' 'Disco' 'Hiphop' 'Jazz' 'Metal' 'Pop'\n",
      " 'Reggae' 'Rock'] as keyword args. From version 0.25 passing these as positional arguments will result in an error\n",
      "  FutureWarning)\n"
     ]
    },
    {
     "name": "stdout",
     "output_type": "stream",
     "text": [
      "Features Importances\n",
      "[0.07772603 0.07460334 0.06689974 0.06840882 0.05461927 0.03520314\n",
      " 0.08356777 0.05476438 0.04439554 0.03356867 0.04070899 0.03540591\n",
      " 0.03434157 0.04490619 0.03920203 0.04050848 0.04390951 0.04302621\n",
      " 0.04309146 0.04114297]\n",
      "Training Features Shape: (750, 20)\n",
      "Training Labels Shape: (750,)\n",
      "Testing Features Shape: (250, 20)\n",
      "Testing Labels Shape: (250,)\n"
     ]
    },
    {
     "name": "stderr",
     "output_type": "stream",
     "text": [
      "C:\\Users\\alvar\\anaconda3\\envs\\python37\\lib\\site-packages\\sklearn\\utils\\validation.py:70: FutureWarning: Pass labels=['Blues' 'Classical' 'Country' 'Disco' 'Hiphop' 'Jazz' 'Metal' 'Pop'\n",
      " 'Reggae' 'Rock'] as keyword args. From version 0.25 passing these as positional arguments will result in an error\n",
      "  FutureWarning)\n"
     ]
    },
    {
     "name": "stdout",
     "output_type": "stream",
     "text": [
      "Features Importances\n",
      "[0.07608315 0.06960522 0.06661945 0.07241596 0.060123   0.03296402\n",
      " 0.08588649 0.05182647 0.04553611 0.03225909 0.04008721 0.03526863\n",
      " 0.0355714  0.04314849 0.03812488 0.03931301 0.0425589  0.04348595\n",
      " 0.04792014 0.04120243]\n",
      "Training Features Shape: (750, 20)\n",
      "Training Labels Shape: (750,)\n",
      "Testing Features Shape: (250, 20)\n",
      "Testing Labels Shape: (250,)\n"
     ]
    },
    {
     "name": "stderr",
     "output_type": "stream",
     "text": [
      "C:\\Users\\alvar\\anaconda3\\envs\\python37\\lib\\site-packages\\sklearn\\utils\\validation.py:70: FutureWarning: Pass labels=['Blues' 'Classical' 'Country' 'Disco' 'Hiphop' 'Jazz' 'Metal' 'Pop'\n",
      " 'Reggae' 'Rock'] as keyword args. From version 0.25 passing these as positional arguments will result in an error\n",
      "  FutureWarning)\n"
     ]
    },
    {
     "name": "stdout",
     "output_type": "stream",
     "text": [
      "Features Importances\n",
      "[0.0787434  0.07446045 0.06530716 0.06990992 0.05799663 0.0352912\n",
      " 0.08162688 0.05186839 0.04251721 0.03238395 0.04543135 0.03526321\n",
      " 0.03620069 0.04230762 0.03592062 0.04048944 0.04275678 0.04598829\n",
      " 0.04487511 0.04066169]\n",
      "Training Features Shape: (750, 20)\n",
      "Training Labels Shape: (750,)\n",
      "Testing Features Shape: (250, 20)\n",
      "Testing Labels Shape: (250,)\n"
     ]
    },
    {
     "name": "stderr",
     "output_type": "stream",
     "text": [
      "C:\\Users\\alvar\\anaconda3\\envs\\python37\\lib\\site-packages\\sklearn\\utils\\validation.py:70: FutureWarning: Pass labels=['Blues' 'Classical' 'Country' 'Disco' 'Hiphop' 'Jazz' 'Metal' 'Pop'\n",
      " 'Reggae' 'Rock'] as keyword args. From version 0.25 passing these as positional arguments will result in an error\n",
      "  FutureWarning)\n"
     ]
    },
    {
     "name": "stdout",
     "output_type": "stream",
     "text": [
      "Features Importances\n",
      "[0.07261267 0.07330691 0.06722914 0.06906271 0.0571258  0.03301752\n",
      " 0.08650901 0.05515063 0.04307647 0.0317296  0.0436956  0.03535634\n",
      " 0.03475364 0.04079539 0.03695966 0.03977693 0.04568626 0.04478229\n",
      " 0.04470285 0.04467059]\n",
      "Training Features Shape: (750, 20)\n",
      "Training Labels Shape: (750,)\n",
      "Testing Features Shape: (250, 20)\n",
      "Testing Labels Shape: (250,)\n"
     ]
    },
    {
     "name": "stderr",
     "output_type": "stream",
     "text": [
      "C:\\Users\\alvar\\anaconda3\\envs\\python37\\lib\\site-packages\\sklearn\\utils\\validation.py:70: FutureWarning: Pass labels=['Blues' 'Classical' 'Country' 'Disco' 'Hiphop' 'Jazz' 'Metal' 'Pop'\n",
      " 'Reggae' 'Rock'] as keyword args. From version 0.25 passing these as positional arguments will result in an error\n",
      "  FutureWarning)\n"
     ]
    },
    {
     "name": "stdout",
     "output_type": "stream",
     "text": [
      "Features Importances\n",
      "[0.07866679 0.07601551 0.06570957 0.06836236 0.0523111  0.03390221\n",
      " 0.08328641 0.0499101  0.04603926 0.03323467 0.04189467 0.03754614\n",
      " 0.03650087 0.04400942 0.03953319 0.04068656 0.04406556 0.04446447\n",
      " 0.04298199 0.04087914]\n",
      "Training Features Shape: (750, 20)\n",
      "Training Labels Shape: (750,)\n",
      "Testing Features Shape: (250, 20)\n",
      "Testing Labels Shape: (250,)\n"
     ]
    },
    {
     "name": "stderr",
     "output_type": "stream",
     "text": [
      "C:\\Users\\alvar\\anaconda3\\envs\\python37\\lib\\site-packages\\sklearn\\utils\\validation.py:70: FutureWarning: Pass labels=['Blues' 'Classical' 'Country' 'Disco' 'Hiphop' 'Jazz' 'Metal' 'Pop'\n",
      " 'Reggae' 'Rock'] as keyword args. From version 0.25 passing these as positional arguments will result in an error\n",
      "  FutureWarning)\n"
     ]
    },
    {
     "name": "stdout",
     "output_type": "stream",
     "text": [
      "Features Importances\n",
      "[0.07563141 0.07448265 0.06391054 0.07516615 0.06156708 0.03229078\n",
      " 0.08065365 0.0514748  0.0449215  0.03214699 0.04061835 0.03743526\n",
      " 0.03350226 0.04192878 0.04054136 0.04037407 0.04389972 0.04355056\n",
      " 0.04404366 0.04186044]\n"
     ]
    },
    {
     "name": "stderr",
     "output_type": "stream",
     "text": [
      "C:\\Users\\alvar\\anaconda3\\envs\\python37\\lib\\site-packages\\sklearn\\utils\\validation.py:70: FutureWarning: Pass labels=['Blues' 'Classical' 'Country' 'Disco' 'Hiphop' 'Jazz' 'Metal' 'Pop'\n",
      " 'Reggae' 'Rock'] as keyword args. From version 0.25 passing these as positional arguments will result in an error\n",
      "  FutureWarning)\n"
     ]
    },
    {
     "name": "stdout",
     "output_type": "stream",
     "text": [
      "Training Features Shape: (750, 20)\n",
      "Training Labels Shape: (750,)\n",
      "Testing Features Shape: (250, 20)\n",
      "Testing Labels Shape: (250,)\n",
      "Features Importances\n",
      "[0.07332436 0.07446343 0.0634789  0.06930711 0.05646846 0.03475229\n",
      " 0.08563869 0.05063778 0.04534717 0.03363194 0.04052832 0.03829653\n",
      " 0.035355   0.04628562 0.03907992 0.04019496 0.04285643 0.04289145\n",
      " 0.04352079 0.04394086]\n"
     ]
    },
    {
     "name": "stderr",
     "output_type": "stream",
     "text": [
      "C:\\Users\\alvar\\anaconda3\\envs\\python37\\lib\\site-packages\\sklearn\\utils\\validation.py:70: FutureWarning: Pass labels=['Blues' 'Classical' 'Country' 'Disco' 'Hiphop' 'Jazz' 'Metal' 'Pop'\n",
      " 'Reggae' 'Rock'] as keyword args. From version 0.25 passing these as positional arguments will result in an error\n",
      "  FutureWarning)\n"
     ]
    }
   ],
   "source": [
    "# Import the model we are using\n",
    "from sklearn.ensemble import RandomForestClassifier\n",
    "from sklearn.metrics import plot_confusion_matrix\n",
    "from sklearn.metrics import classification_report\n",
    "from matplotlib.pyplot import figure\n",
    "from sklearn.model_selection import train_test_split\n",
    "\n",
    "def train_clasify():\n",
    "    \"\"\"\n",
    "    Method that train a RF Classifier and return a metrics report with\n",
    "        - Recall by label\n",
    "        - Precision by label\n",
    "        - F1-score by label\n",
    "        - Avg weighted recall\n",
    "        - Avg weighted precision\n",
    "        - Avg weighted f1-score\n",
    "        - Avg macro recall\n",
    "        - Avg macro recall\n",
    "        - Avg macro recall\n",
    "        - Avg total accuracy\n",
    "    \"\"\"\n",
    "\n",
    "    # Split the data into training and testing sets\n",
    "    train_features, test_features, train_labels, test_labels = train_test_split(features, labels, test_size = 0.25)\n",
    "\n",
    "    print('Training Features Shape:', train_features.shape)\n",
    "    print('Training Labels Shape:', train_labels.shape)\n",
    "    print('Testing Features Shape:', test_features.shape)\n",
    "    print('Testing Labels Shape:', test_labels.shape)\n",
    "\n",
    "    # Instantiate model with 1000 decision trees\n",
    "    rf = RandomForestClassifier(n_estimators = 1000)\n",
    "\n",
    "    # Train the model on training data\n",
    "    rf.fit(train_features, train_labels)\n",
    "\n",
    "    print(\"Features Importances\")\n",
    "    print(rf.feature_importances_)\n",
    "\n",
    "    predictions = rf.predict(test_features)\n",
    "\n",
    "\n",
    "    report = classification_report(test_labels, predictions, np.unique(labels))\n",
    "    return report\n",
    "\n",
    "def get_metrics(report, tag, start_point):\n",
    "    \"\"\"\n",
    "    Method that extract metrics from the string table returned by classification_report method from sklearn package\n",
    "    \"\"\"\n",
    "    avg_precision = report[report.index(tag)+start_point:report.index(tag)+start_point+4]\n",
    "    avg_recall = report[report.index(tag)+start_point+10:report.index(tag)+start_point+10+4]\n",
    "    avg_f1_score = report[report.index(tag)+start_point+20:report.index(tag)+start_point+20+4]\n",
    "    return avg_precision, avg_recall, avg_f1_score\n",
    "\n",
    "def get_metrics_avg(number_iterations):\n",
    "    \"\"\"\n",
    "    Method that make number_iterations training a RF classifier and return 2 dictionaires with metics\n",
    "    \n",
    "        - One with metrics by genre label\n",
    "        - The other with total metrics of all the genre labels\n",
    "    \"\"\"\n",
    "    \n",
    "    # Initializing the by genre and total metrics arrays necessaries to catch the data\n",
    "    \n",
    "    blues_precision_array = np.arange(number_iterations).astype(np.float32)\n",
    "    blues_recall_array = np.arange(number_iterations).astype(np.float32)\n",
    "    blues_f1_score_array = np.arange(number_iterations).astype(np.float32)\n",
    "    \n",
    "    classical_precision_array = np.arange(number_iterations).astype(np.float32)\n",
    "    classical_recall_array = np.arange(number_iterations).astype(np.float32)\n",
    "    classical_f1_score_array = np.arange(number_iterations).astype(np.float32)\n",
    "    \n",
    "    country_precision_array = np.arange(number_iterations).astype(np.float32)\n",
    "    country_recall_array = np.arange(number_iterations).astype(np.float32)\n",
    "    country_f1_score_array = np.arange(number_iterations).astype(np.float32)\n",
    "    \n",
    "    disco_precision_array = np.arange(number_iterations).astype(np.float32)\n",
    "    disco_recall_array = np.arange(number_iterations).astype(np.float32)\n",
    "    disco_f1_score_array = np.arange(number_iterations).astype(np.float32)\n",
    "    \n",
    "    hiphop_precision_array = np.arange(number_iterations).astype(np.float32)\n",
    "    hiphop_recall_array = np.arange(number_iterations).astype(np.float32)\n",
    "    hiphop_f1_score_array = np.arange(number_iterations).astype(np.float32)\n",
    "    \n",
    "    jazz_precision_array = np.arange(number_iterations).astype(np.float32)\n",
    "    jazz_recall_array = np.arange(number_iterations).astype(np.float32)\n",
    "    jazz_f1_score_array = np.arange(number_iterations).astype(np.float32)\n",
    "    \n",
    "    metal_precision_array = np.arange(number_iterations).astype(np.float32)\n",
    "    metal_recall_array = np.arange(number_iterations).astype(np.float32)\n",
    "    metal_f1_score_array = np.arange(number_iterations).astype(np.float32)\n",
    "    \n",
    "    pop_precision_array = np.arange(number_iterations).astype(np.float32)\n",
    "    pop_recall_array = np.arange(number_iterations).astype(np.float32)\n",
    "    pop_f1_score_array = np.arange(number_iterations).astype(np.float32)\n",
    "    \n",
    "    reggae_precision_array = np.arange(number_iterations).astype(np.float32)\n",
    "    reggae_recall_array = np.arange(number_iterations).astype(np.float32)\n",
    "    reggae_f1_score_array = np.arange(number_iterations).astype(np.float32)\n",
    "    \n",
    "    rock_precision_array = np.arange(number_iterations).astype(np.float32)\n",
    "    rock_recall_array = np.arange(number_iterations).astype(np.float32)\n",
    "    rock_f1_score_array = np.arange(number_iterations).astype(np.float32)\n",
    "    \n",
    "    macro_avg_precision_array = np.arange(number_iterations).astype(np.float32)\n",
    "    macro_avg_recall_array = np.arange(number_iterations).astype(np.float32)\n",
    "    macro_avg_f1_score_array = np.arange(number_iterations).astype(np.float32)\n",
    "    \n",
    "    weighted_avg_precision_array = np.arange(number_iterations).astype(np.float32)\n",
    "    weighted_avg_recall_array = np.arange(number_iterations).astype(np.float32)\n",
    "    weighted_avg_f1_score_array = np.arange(number_iterations).astype(np.float32)\n",
    "    \n",
    "    accuracy_avg_array = np.arange(number_iterations).astype(np.float32)\n",
    "    \n",
    "    labels = ['Blues','Classical','Country','Disco','Hiphop','Jazz','Metal','Pop','Reggae','Rock']\n",
    "    \n",
    "    # Loop with the training RF classiffier itrerations. We fill the arrays metrics in each iteration     \n",
    "    \n",
    "    for i in range(0, number_iterations):\n",
    "        report = train_clasify()\n",
    "        \n",
    "        # Metrics by Genre\n",
    "        (precision, recall, f1_score) = get_metrics(report, \"Blues\", 12)\n",
    "        blues_precision_array[i] = precision\n",
    "        blues_recall_array[i] = recall\n",
    "        blues_f1_score_array[i] = f1_score\n",
    "        \n",
    "        (precision, recall, f1_score) = get_metrics(report, \"Classical\", 16)\n",
    "        classical_precision_array[i] = precision\n",
    "        classical_recall_array[i] = recall\n",
    "        classical_f1_score_array[i] = f1_score\n",
    "        \n",
    "        (precision, recall, f1_score) = get_metrics(report, \"Country\", 14)\n",
    "        country_precision_array[i] = precision\n",
    "        country_recall_array[i] = recall\n",
    "        country_f1_score_array[i] = f1_score\n",
    "        \n",
    "        (precision, recall, f1_score) = get_metrics(report, \"Disco\", 12)\n",
    "        disco_precision_array[i] = precision\n",
    "        disco_recall_array[i] = recall\n",
    "        disco_f1_score_array[i] = f1_score\n",
    "        \n",
    "        (precision, recall, f1_score) = get_metrics(report, \"Hiphop\", 13)\n",
    "        hiphop_precision_array[i] = precision\n",
    "        hiphop_recall_array[i] = recall\n",
    "        hiphop_f1_score_array[i] = f1_score\n",
    "        \n",
    "        (precision, recall, f1_score) = get_metrics(report, \"Jazz\", 11)\n",
    "        jazz_precision_array[i] = precision\n",
    "        jazz_recall_array[i] = recall\n",
    "        jazz_f1_score_array[i] = f1_score\n",
    "        \n",
    "        (precision, recall, f1_score) = get_metrics(report, \"Metal\", 12)\n",
    "        metal_precision_array[i] = precision\n",
    "        metal_recall_array[i] = recall\n",
    "        metal_f1_score_array[i] = f1_score\n",
    "        \n",
    "        (precision, recall, f1_score) = get_metrics(report, \"Pop\", 10)\n",
    "        pop_precision_array[i] = precision\n",
    "        pop_recall_array[i] = recall\n",
    "        pop_f1_score_array[i] = f1_score\n",
    "        \n",
    "        (precision, recall, f1_score) = get_metrics(report, \"Reggae\", 13)\n",
    "        reggae_precision_array[i] = precision\n",
    "        reggae_recall_array[i] = recall\n",
    "        reggae_f1_score_array[i] = f1_score\n",
    "        \n",
    "        (precision, recall, f1_score) = get_metrics(report, \"Rock\", 11)\n",
    "        rock_precision_array[i] = precision\n",
    "        rock_recall_array[i] = recall\n",
    "        rock_f1_score_array[i] = f1_score\n",
    "        \n",
    "        # General metrics         \n",
    "        \n",
    "        (precision, recall, f1_score) = get_metrics(report, \"accuracy\", 15)\n",
    "        accuracy_avg_array[i] = f1_score\n",
    "        \n",
    "        (precision, recall, f1_score) = get_metrics(report, \"weighted\", 19)\n",
    "        weighted_avg_precision_array[i] = precision\n",
    "        weighted_avg_recall_array[i] = recall\n",
    "        weighted_avg_f1_score_array[i] = f1_score\n",
    "        \n",
    "        (precision, recall, f1_score) = get_metrics(report, \"macro avg\", 16)\n",
    "        macro_avg_precision_array[i] = precision\n",
    "        macro_avg_recall_array[i] = recall\n",
    "        macro_avg_f1_score_array[i] = f1_score\n",
    "        \n",
    "    # Now we fill the arrays that we are going to use to create the final dictionaries     \n",
    "    \n",
    "    precision_array = []\n",
    "    recall_array = []\n",
    "    f1_score_array = []\n",
    "    \n",
    "    precision_array.append(blues_precision_array.mean())\n",
    "    recall_array.append(blues_recall_array.mean())\n",
    "    f1_score_array.append(blues_f1_score_array.mean())\n",
    "    \n",
    "    precision_array.append(classical_precision_array.mean())\n",
    "    recall_array.append(classical_recall_array.mean())\n",
    "    f1_score_array.append(classical_f1_score_array.mean())\n",
    "    \n",
    "    precision_array.append(country_precision_array.mean())\n",
    "    recall_array.append(country_recall_array.mean())\n",
    "    f1_score_array.append(country_f1_score_array.mean())\n",
    "    \n",
    "    precision_array.append(disco_precision_array.mean())\n",
    "    recall_array.append(disco_recall_array.mean())\n",
    "    f1_score_array.append(disco_f1_score_array.mean())\n",
    "    \n",
    "    precision_array.append(hiphop_precision_array.mean())\n",
    "    recall_array.append(hiphop_recall_array.mean())\n",
    "    f1_score_array.append(hiphop_f1_score_array.mean())\n",
    "    \n",
    "    precision_array.append(jazz_precision_array.mean())\n",
    "    recall_array.append(jazz_recall_array.mean())\n",
    "    f1_score_array.append(jazz_f1_score_array.mean())\n",
    "    \n",
    "    precision_array.append(metal_precision_array.mean())\n",
    "    recall_array.append(metal_recall_array.mean())\n",
    "    f1_score_array.append(metal_f1_score_array.mean())\n",
    "    \n",
    "    precision_array.append(pop_precision_array.mean())\n",
    "    recall_array.append(pop_recall_array.mean())\n",
    "    f1_score_array.append(pop_f1_score_array.mean())\n",
    "    \n",
    "    precision_array.append(reggae_precision_array.mean())\n",
    "    recall_array.append(reggae_recall_array.mean())\n",
    "    f1_score_array.append(reggae_f1_score_array.mean())\n",
    "    \n",
    "    precision_array.append(rock_precision_array.mean())\n",
    "    recall_array.append(rock_recall_array.mean())\n",
    "    f1_score_array.append(rock_f1_score_array.mean())\n",
    "    \n",
    "    # Dictionaries creation     \n",
    "    \n",
    "    by_label_metrics_dict = {\n",
    "        \n",
    "        'Genre': labels,\n",
    "        'avg_precision': precision_array,\n",
    "        'avg_recall': recall_array,\n",
    "        'avg_f1_score': f1_score_array,\n",
    "        \n",
    "    }\n",
    "    \n",
    "    total_metrics_dict = {\n",
    "        \n",
    "        'avg_accuracy': accuracy_avg_array.mean(),\n",
    "        \n",
    "        'weighted_avg_precision': weighted_avg_precision_array.mean(),\n",
    "        'weighted_avg_recall': weighted_avg_recall_array.mean(),\n",
    "        'weighted_avg_f1_score': weighted_avg_f1_score_array.mean(),\n",
    "        \n",
    "        'macro_avg_precision': macro_avg_precision_array.mean(),\n",
    "        'macro_avg_recall': macro_avg_recall_array.mean(),\n",
    "        'macro_avg_f1_score': macro_avg_f1_score_array.mean(),\n",
    "        \n",
    "    }\n",
    "\n",
    "    return by_label_metrics_dict, total_metrics_dict\n",
    "\n",
    "\n",
    "def export_genre_result_dict_to_csv(by_label_metrics_dict, total_metrics_dict):\n",
    "    \"\"\"\n",
    "    Method that export two dictionaries to csv files using pandas dataframes\n",
    "    \n",
    "        - One with metrics by genre label\n",
    "        - The other with total metrics of all the genre labels\n",
    "    \"\"\"\n",
    "    by_label_metrics_dataframe_columns_tags = ['Genre', 'avg_precision', 'avg_recall', 'avg_f1_score']\n",
    "    total_metrics_dataframe_columns_tags = ['avg_accuracy', \n",
    "                                            'weighted_avg_precision', 'weighted_avg_recall', 'weighted_avg_f1_score',\n",
    "                                            'macro_avg_precision', 'macro_avg_recall', 'macro_avg_f1_score'\n",
    "                                           ]\n",
    "\n",
    "    df_by_label = pd.DataFrame(by_label_metrics_dict, columns = by_label_metrics_dataframe_columns_tags)\n",
    "    df_total = pd.DataFrame(total_metrics_dict, columns = total_metrics_dataframe_columns_tags, index=[0])\n",
    "\n",
    "    df_by_label.to_csv('metrics/by_label_metrics_first_prove.csv')\n",
    "    df_total.to_csv('metrics/total_metrics_first_prove.csv')\n",
    "    \n",
    "    \n",
    "(by_label_metrics_dict, total_metrics_dict) = get_metrics_avg(100)\n",
    "export_genre_result_dict_to_csv(by_label_metrics_dict, total_metrics_dict)\n"
   ]
  },
  {
   "cell_type": "code",
   "execution_count": 14,
   "metadata": {},
   "outputs": [],
   "source": [
    "import junix;\n",
    "junix.export_images(filepath= \"ClassificationTree.ipynb\")\n"
   ]
  },
  {
   "cell_type": "code",
   "execution_count": 15,
   "metadata": {},
   "outputs": [
    {
     "ename": "NameError",
     "evalue": "name 'rf' is not defined",
     "output_type": "error",
     "traceback": [
      "\u001b[1;31m---------------------------------------------------------------------------\u001b[0m",
      "\u001b[1;31mNameError\u001b[0m                                 Traceback (most recent call last)",
      "\u001b[1;32m<ipython-input-15-13692930308c>\u001b[0m in \u001b[0;36m<module>\u001b[1;34m\u001b[0m\n\u001b[1;32m----> 1\u001b[1;33m \u001b[0mplot_confusion_matrix\u001b[0m\u001b[1;33m(\u001b[0m\u001b[0mrf\u001b[0m\u001b[1;33m,\u001b[0m \u001b[0mtest_features\u001b[0m\u001b[1;33m,\u001b[0m \u001b[0mtest_labels\u001b[0m\u001b[1;33m)\u001b[0m\u001b[1;33m\u001b[0m\u001b[1;33m\u001b[0m\u001b[0m\n\u001b[0m\u001b[0;32m      2\u001b[0m \u001b[0mfig\u001b[0m \u001b[1;33m=\u001b[0m \u001b[0mplt\u001b[0m\u001b[1;33m.\u001b[0m\u001b[0mgcf\u001b[0m\u001b[1;33m(\u001b[0m\u001b[1;33m)\u001b[0m\u001b[1;33m\u001b[0m\u001b[1;33m\u001b[0m\u001b[0m\n\u001b[0;32m      3\u001b[0m \u001b[0mfig\u001b[0m\u001b[1;33m.\u001b[0m\u001b[0mset_size_inches\u001b[0m\u001b[1;33m(\u001b[0m\u001b[1;36m28.5\u001b[0m\u001b[1;33m,\u001b[0m \u001b[1;36m28.5\u001b[0m\u001b[1;33m)\u001b[0m\u001b[1;33m\u001b[0m\u001b[1;33m\u001b[0m\u001b[0m\n\u001b[0;32m      4\u001b[0m \u001b[0mplt\u001b[0m\u001b[1;33m.\u001b[0m\u001b[0mshow\u001b[0m\u001b[1;33m(\u001b[0m\u001b[1;33m)\u001b[0m\u001b[1;33m\u001b[0m\u001b[1;33m\u001b[0m\u001b[0m\n\u001b[0;32m      5\u001b[0m \u001b[1;33m\u001b[0m\u001b[0m\n",
      "\u001b[1;31mNameError\u001b[0m: name 'rf' is not defined"
     ]
    }
   ],
   "source": [
    "plot_confusion_matrix(rf, test_features, test_labels)\n",
    "fig = plt.gcf()\n",
    "fig.set_size_inches(28.5, 28.5)\n",
    "plt.show()\n",
    "\n",
    "import junix;\n",
    "junix.export_images(filepath= \"ClassificationTree.ipynb\")"
   ]
  },
  {
   "cell_type": "code",
   "execution_count": null,
   "metadata": {},
   "outputs": [],
   "source": []
  },
  {
   "cell_type": "code",
   "execution_count": null,
   "metadata": {},
   "outputs": [],
   "source": []
  }
 ],
 "metadata": {
  "kernelspec": {
   "display_name": "Python 3",
   "language": "python",
   "name": "python3"
  },
  "language_info": {
   "codemirror_mode": {
    "name": "ipython",
    "version": 3
   },
   "file_extension": ".py",
   "mimetype": "text/x-python",
   "name": "python",
   "nbconvert_exporter": "python",
   "pygments_lexer": "ipython3",
   "version": "3.7.9"
  }
 },
 "nbformat": 4,
 "nbformat_minor": 4
}
