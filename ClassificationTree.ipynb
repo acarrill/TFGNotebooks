{
 "cells": [
  {
   "cell_type": "code",
   "execution_count": 115,
   "metadata": {},
   "outputs": [
    {
     "data": {
      "text/plain": [
       "'\\nThis notebook is oriented to use a given dataset customized to contains 6 features and training a classification tree\\nThis features are: cqt, rmse, energy, mfccs, chromagram and spectral contrast\\nThis notebook is currently in development phase, so contains a considerably quantity of test code\\n\\n'"
      ]
     },
     "execution_count": 115,
     "metadata": {},
     "output_type": "execute_result"
    }
   ],
   "source": [
    "'''\n",
    "This notebook is oriented to use a given dataset customized to contains 6 features and training a classification tree\n",
    "This features are: cqt, rmse, energy, mfccs, chromagram and spectral contrast\n",
    "This notebook is currently in development phase, so contains a considerably quantity of test code\n",
    "\n",
    "'''"
   ]
  },
  {
   "cell_type": "code",
   "execution_count": 8,
   "metadata": {},
   "outputs": [
    {
     "name": "stdout",
     "output_type": "stream",
     "text": [
      "   Unnamed: 0  Genre  Energy_Mean  RMSE_Mean  ZCR_Mean  CQT_Mean  \\\n",
      "0           0  Blues    40.490492   0.130192     55050  0.001573   \n",
      "1           1  Blues    23.686239   0.095925     37156  0.003940   \n",
      "2           2  Blues    68.631996   0.175582     50560  0.007814   \n",
      "3           3  Blues    53.671735   0.141053     22060  0.003624   \n",
      "4           4  Blues    21.844622   0.091499     67244  0.001955   \n",
      "\n",
      "   Spectral_Contrast_Mean  Chromagram_Mean  Tempo_Mean  STFT_Mean  ...  \\\n",
      "0               20.526699         0.278385  123.046875   0.000037  ...   \n",
      "1               20.676128         0.266356  107.666016   0.000021  ...   \n",
      "2               22.197517         0.272697  161.499023   0.000009  ...   \n",
      "3               21.426268         0.252442  172.265625   0.000005  ...   \n",
      "4               21.466338         0.269720  135.999178   0.000014  ...   \n",
      "\n",
      "   MFCCS3  MFCCS4  MFCCS5  MFCCS6  MFCCS7  MFCCS8  MFCCS9  MFCCS10  MFCCS11  \\\n",
      "0     226     125     114      82      44      39      31       57       60   \n",
      "1     774     341     139      94      82      75      64       83       81   \n",
      "2     197     252      85      80      59      34      39       40       40   \n",
      "3     327     183     108      50      55      36      82       48       40   \n",
      "4     187     150      54      76      52      26     107       66       49   \n",
      "\n",
      "   MFCCS12  \n",
      "0       35  \n",
      "1       55  \n",
      "2       51  \n",
      "3       35  \n",
      "4       37  \n",
      "\n",
      "[5 rows x 39 columns]\n",
      "done\n"
     ]
    }
   ],
   "source": [
    "import tensorflow as tf\n",
    "import pandas as pd\n",
    "from pathlib import Path\n",
    "import librosa, librosa.display\n",
    "import matplotlib.pyplot as plt\n",
    "import numpy as np\n",
    "import gc\n",
    "\n",
    "# Reading Audio Data\n",
    "\n",
    "\n",
    "# features = pd.read_csv('Datasets/2000Spoti.csv', encoding='latin-1', thousands=',')\n",
    "\n",
    "features = pd.read_csv('Dataframes/var_mean_dict.csv', encoding='latin-1', thousands=',') # Media genera 0.62-0.67 con todas las caracteristicas **best result2**\n",
    "\n",
    "print(features.head(5))\n",
    "\n",
    "print('done')"
   ]
  },
  {
   "cell_type": "code",
   "execution_count": 9,
   "metadata": {},
   "outputs": [
    {
     "name": "stdout",
     "output_type": "stream",
     "text": [
      "['Blues' 'Classical' 'Country' 'Disco' 'Hiphop' 'Jazz' 'Metal' 'Pop'\n",
      " 'Reggae' 'Rock']\n",
      "The labels of out dataset are: ['Blues' 'Classical' 'Country' 'Disco' 'Hiphop' 'Jazz' 'Metal' 'Pop'\n",
      " 'Reggae' 'Rock']\n",
      "And their shape is: (1000,)\n",
      "The features of out dataset are:\n"
     ]
    },
    {
     "data": {
      "text/html": [
       "<div>\n",
       "<style scoped>\n",
       "    .dataframe tbody tr th:only-of-type {\n",
       "        vertical-align: middle;\n",
       "    }\n",
       "\n",
       "    .dataframe tbody tr th {\n",
       "        vertical-align: top;\n",
       "    }\n",
       "\n",
       "    .dataframe thead th {\n",
       "        text-align: right;\n",
       "    }\n",
       "</style>\n",
       "<table border=\"1\" class=\"dataframe\">\n",
       "  <thead>\n",
       "    <tr style=\"text-align: right;\">\n",
       "      <th></th>\n",
       "      <th>Energy_Mean</th>\n",
       "      <th>RMSE_Mean</th>\n",
       "      <th>ZCR_Mean</th>\n",
       "      <th>CQT_Mean</th>\n",
       "      <th>Spectral_Contrast_Mean</th>\n",
       "      <th>Chromagram_Mean</th>\n",
       "      <th>Tempo_Mean</th>\n",
       "      <th>STFT_Mean</th>\n",
       "      <th>Autocorrelation_Mean</th>\n",
       "      <th>Spectral_Centroid_Mean</th>\n",
       "      <th>...</th>\n",
       "      <th>MFCCS3</th>\n",
       "      <th>MFCCS4</th>\n",
       "      <th>MFCCS5</th>\n",
       "      <th>MFCCS6</th>\n",
       "      <th>MFCCS7</th>\n",
       "      <th>MFCCS8</th>\n",
       "      <th>MFCCS9</th>\n",
       "      <th>MFCCS10</th>\n",
       "      <th>MFCCS11</th>\n",
       "      <th>MFCCS12</th>\n",
       "    </tr>\n",
       "  </thead>\n",
       "  <tbody>\n",
       "    <tr>\n",
       "      <th>0</th>\n",
       "      <td>40.490492</td>\n",
       "      <td>0.130192</td>\n",
       "      <td>55050</td>\n",
       "      <td>0.001573</td>\n",
       "      <td>20.526699</td>\n",
       "      <td>0.278385</td>\n",
       "      <td>123.046875</td>\n",
       "      <td>0.000037</td>\n",
       "      <td>590.450073</td>\n",
       "      <td>1784.165850</td>\n",
       "      <td>...</td>\n",
       "      <td>226</td>\n",
       "      <td>125</td>\n",
       "      <td>114</td>\n",
       "      <td>82</td>\n",
       "      <td>44</td>\n",
       "      <td>39</td>\n",
       "      <td>31</td>\n",
       "      <td>57</td>\n",
       "      <td>60</td>\n",
       "      <td>35</td>\n",
       "    </tr>\n",
       "    <tr>\n",
       "      <th>1</th>\n",
       "      <td>23.686239</td>\n",
       "      <td>0.095925</td>\n",
       "      <td>37156</td>\n",
       "      <td>0.003940</td>\n",
       "      <td>20.676128</td>\n",
       "      <td>0.266356</td>\n",
       "      <td>107.666016</td>\n",
       "      <td>0.000021</td>\n",
       "      <td>1313.715454</td>\n",
       "      <td>1530.176679</td>\n",
       "      <td>...</td>\n",
       "      <td>774</td>\n",
       "      <td>341</td>\n",
       "      <td>139</td>\n",
       "      <td>94</td>\n",
       "      <td>82</td>\n",
       "      <td>75</td>\n",
       "      <td>64</td>\n",
       "      <td>83</td>\n",
       "      <td>81</td>\n",
       "      <td>55</td>\n",
       "    </tr>\n",
       "    <tr>\n",
       "      <th>2</th>\n",
       "      <td>68.631996</td>\n",
       "      <td>0.175582</td>\n",
       "      <td>50560</td>\n",
       "      <td>0.007814</td>\n",
       "      <td>22.197517</td>\n",
       "      <td>0.272697</td>\n",
       "      <td>161.499023</td>\n",
       "      <td>0.000009</td>\n",
       "      <td>577.048035</td>\n",
       "      <td>1552.811865</td>\n",
       "      <td>...</td>\n",
       "      <td>197</td>\n",
       "      <td>252</td>\n",
       "      <td>85</td>\n",
       "      <td>80</td>\n",
       "      <td>59</td>\n",
       "      <td>34</td>\n",
       "      <td>39</td>\n",
       "      <td>40</td>\n",
       "      <td>40</td>\n",
       "      <td>51</td>\n",
       "    </tr>\n",
       "    <tr>\n",
       "      <th>3</th>\n",
       "      <td>53.671735</td>\n",
       "      <td>0.141053</td>\n",
       "      <td>22060</td>\n",
       "      <td>0.003624</td>\n",
       "      <td>21.426268</td>\n",
       "      <td>0.252442</td>\n",
       "      <td>172.265625</td>\n",
       "      <td>0.000005</td>\n",
       "      <td>5695.121582</td>\n",
       "      <td>1070.106615</td>\n",
       "      <td>...</td>\n",
       "      <td>327</td>\n",
       "      <td>183</td>\n",
       "      <td>108</td>\n",
       "      <td>50</td>\n",
       "      <td>55</td>\n",
       "      <td>36</td>\n",
       "      <td>82</td>\n",
       "      <td>48</td>\n",
       "      <td>40</td>\n",
       "      <td>35</td>\n",
       "    </tr>\n",
       "    <tr>\n",
       "      <th>4</th>\n",
       "      <td>21.844622</td>\n",
       "      <td>0.091499</td>\n",
       "      <td>67244</td>\n",
       "      <td>0.001955</td>\n",
       "      <td>21.466338</td>\n",
       "      <td>0.269720</td>\n",
       "      <td>135.999178</td>\n",
       "      <td>0.000014</td>\n",
       "      <td>89.149872</td>\n",
       "      <td>1835.004266</td>\n",
       "      <td>...</td>\n",
       "      <td>187</td>\n",
       "      <td>150</td>\n",
       "      <td>54</td>\n",
       "      <td>76</td>\n",
       "      <td>52</td>\n",
       "      <td>26</td>\n",
       "      <td>107</td>\n",
       "      <td>66</td>\n",
       "      <td>49</td>\n",
       "      <td>37</td>\n",
       "    </tr>\n",
       "  </tbody>\n",
       "</table>\n",
       "<p>5 rows × 35 columns</p>\n",
       "</div>"
      ],
      "text/plain": [
       "   Energy_Mean  RMSE_Mean  ZCR_Mean  CQT_Mean  Spectral_Contrast_Mean  \\\n",
       "0    40.490492   0.130192     55050  0.001573               20.526699   \n",
       "1    23.686239   0.095925     37156  0.003940               20.676128   \n",
       "2    68.631996   0.175582     50560  0.007814               22.197517   \n",
       "3    53.671735   0.141053     22060  0.003624               21.426268   \n",
       "4    21.844622   0.091499     67244  0.001955               21.466338   \n",
       "\n",
       "   Chromagram_Mean  Tempo_Mean  STFT_Mean  Autocorrelation_Mean  \\\n",
       "0         0.278385  123.046875   0.000037            590.450073   \n",
       "1         0.266356  107.666016   0.000021           1313.715454   \n",
       "2         0.272697  161.499023   0.000009            577.048035   \n",
       "3         0.252442  172.265625   0.000005           5695.121582   \n",
       "4         0.269720  135.999178   0.000014             89.149872   \n",
       "\n",
       "   Spectral_Centroid_Mean  ...  MFCCS3  MFCCS4  MFCCS5  MFCCS6  MFCCS7  \\\n",
       "0             1784.165850  ...     226     125     114      82      44   \n",
       "1             1530.176679  ...     774     341     139      94      82   \n",
       "2             1552.811865  ...     197     252      85      80      59   \n",
       "3             1070.106615  ...     327     183     108      50      55   \n",
       "4             1835.004266  ...     187     150      54      76      52   \n",
       "\n",
       "   MFCCS8  MFCCS9  MFCCS10  MFCCS11  MFCCS12  \n",
       "0      39      31       57       60       35  \n",
       "1      75      64       83       81       55  \n",
       "2      34      39       40       40       51  \n",
       "3      36      82       48       40       35  \n",
       "4      26     107       66       49       37  \n",
       "\n",
       "[5 rows x 35 columns]"
      ]
     },
     "execution_count": 9,
     "metadata": {},
     "output_type": "execute_result"
    }
   ],
   "source": [
    "\n",
    "#extracting labels and features\n",
    "\n",
    "labelColumn = 'Genre'\n",
    "\n",
    "labels = np.array(features[labelColumn])\n",
    "print(np.unique(labels))\n",
    "\n",
    "print(\"The labels of out dataset are:\", np.unique(labels))\n",
    "print(\"And their shape is:\", labels.shape)\n",
    "\n",
    "\n",
    "# Only var no CQT\n",
    "# featureColumsToDrop = ['Unnamed: 0','STFT_Mean.1', 'CQT_Var', 'STFT_Var.1', 'Genre', 'Energy_Mean', 'RMSE_Mean', 'ZCR_Mean', 'CQT_Mean', 'Spectral_Contrast_Mean', 'Chromagram_Mean', 'Tempo_Mean', 'STFT_Mean', \n",
    "#                       'Autocorrelation_Mean', 'STFT_Mean', 'Spectral_Centroid_Mean', 'Rolloff_Mean']\n",
    "\n",
    "# Only var with CQT\n",
    "# featureColumsToDrop = ['Unnamed: 0', 'Energy_Mean', 'RMSE_Mean', 'ZCR_Mean', 'CQT_Mean', 'Spectral_Contrast_Mean', 'Chromagram_Mean', 'Tempo_Mean', 'STFT_Mean', \n",
    "#                       'Autocorrelation_Mean', 'STFT_Mean', 'Spectral_Centroid_Mean', 'Rolloff_Mean','STFT_Mean.1', 'STFT_Var.1', 'Genre']\n",
    "\n",
    "# Only mean no CQT\n",
    "\n",
    "# featureColumsToDrop = ['Unnamed: 0','Energy_Var', 'RMSE_Var', 'ZCR_Var', 'CQT_Var', 'Spectral_Contrast_Var', 'Chromagram_Var', 'Tempo_Var', 'STFT_Var',\n",
    "#                       'Autocorrelation_Var', 'STFT_Var', 'Spectral_Centroid_Var', 'Rolloff_Var', 'CQT_Mean', 'STFT_Mean.1', 'STFT_Var.1', 'Genre']\n",
    "\n",
    "# Only mean with CQT\n",
    "# featureColumsToDrop = ['Unnamed: 0', 'Energy_Var', 'RMSE_Var', 'ZCR_Var', 'CQT_Var', 'Spectral_Contrast_Var', 'Chromagram_Var', 'Tempo_Var', 'STFT_Var',\n",
    "#                       'Autocorrelation_Var', 'STFT_Var', 'Spectral_Centroid_Var', 'Rolloff_Var',  'STFT_Mean.1', 'STFT_Var.1', 'Genre']\n",
    "\n",
    "\n",
    "# Mean and var with CQT\n",
    "\n",
    "featureColumsToDrop = ['Unnamed: 0', 'STFT_Mean.1', 'STFT_Var.1', 'Genre']\n",
    "\n",
    "\n",
    "# NO MFCCS mean and var\n",
    "\n",
    "# featureColumsToDrop = ['Unnamed: 0', 'STFT_Mean.1', 'STFT_Var.1', 'Genre',\n",
    "#                        'Energy_Mean', 'RMSE_Mean', 'ZCR_Mean', 'CQT_Mean', 'Spectral_Contrast_Mean', 'Chromagram_Mean', 'Tempo_Mean', 'STFT_Mean', \n",
    "#                       'Autocorrelation_Mean', 'STFT_Mean', 'Spectral_Centroid_Mean', 'Rolloff_Mean',\n",
    "#                        'MFCCS0','MFCCS1','MFCCS2','MFCCS3','MFCCS4','MFCCS5','MFCCS6','MFCCS7','MFCCS8','MFCCS9','MFCCS10', 'CQT_Mean','MFCCS11','MFCCS12', 'CQT_Var', 'STFT_Var.1', 'Genre']  \n",
    "\n",
    "features = features.drop(featureColumsToDrop, 1)\n",
    "\n",
    "print(\"The features of out dataset are:\")\n",
    "\n",
    "features.head(5)"
   ]
  },
  {
   "cell_type": "code",
   "execution_count": 15,
   "metadata": {
    "collapsed": true,
    "jupyter": {
     "outputs_hidden": true
    }
   },
   "outputs": [
    {
     "name": "stdout",
     "output_type": "stream",
     "text": [
      "Training Features Shape: (750, 35)\n",
      "Training Labels Shape: (750,)\n",
      "Testing Features Shape: (250, 35)\n",
      "Testing Labels Shape: (250,)\n",
      "Features Importances\n",
      "[0.02664766 0.02943209 0.03437819 0.01651336 0.03994778 0.02268522\n",
      " 0.01540977 0.03033022 0.04200852 0.0397666  0.04074001 0.03770849\n",
      " 0.03743531 0.03407237 0.04256864 0.05043736 0.02375891 0.01520563\n",
      " 0.02774925 0.02896173 0.03834564 0.03515464 0.02490953 0.02118584\n",
      " 0.01697803 0.02167329 0.01949917 0.01805407 0.02289662 0.02042493\n",
      " 0.02206371 0.02809872 0.0247546  0.02576437 0.02443974]\n",
      "Training Features Shape: (750, 35)\n",
      "Training Labels Shape: (750,)\n",
      "Testing Features Shape: (250, 35)\n",
      "Testing Labels Shape: (250,)\n"
     ]
    },
    {
     "name": "stderr",
     "output_type": "stream",
     "text": [
      "C:\\Users\\alvar\\anaconda3\\envs\\python37\\lib\\site-packages\\sklearn\\utils\\validation.py:70: FutureWarning: Pass labels=['Blues' 'Classical' 'Country' 'Disco' 'Hiphop' 'Jazz' 'Metal' 'Pop'\n",
      " 'Reggae' 'Rock'] as keyword args. From version 0.25 passing these as positional arguments will result in an error\n",
      "  FutureWarning)\n"
     ]
    },
    {
     "name": "stdout",
     "output_type": "stream",
     "text": [
      "Features Importances\n",
      "[0.03020391 0.0300553  0.03182561 0.01597546 0.03827857 0.0271517\n",
      " 0.0165973  0.03009038 0.0400685  0.03349708 0.04234209 0.03575597\n",
      " 0.03389374 0.03170019 0.04140507 0.04773033 0.02706564 0.01586071\n",
      " 0.03084433 0.03039594 0.03994553 0.0358905  0.0268085  0.02405488\n",
      " 0.01601719 0.02142369 0.01850128 0.01796945 0.02065416 0.0205304\n",
      " 0.02056729 0.02425852 0.02536824 0.0311696  0.02610295]\n",
      "Training Features Shape: (750, 35)\n",
      "Training Labels Shape: (750,)\n",
      "Testing Features Shape: (250, 35)\n",
      "Testing Labels Shape: (250,)\n"
     ]
    },
    {
     "name": "stderr",
     "output_type": "stream",
     "text": [
      "C:\\Users\\alvar\\anaconda3\\envs\\python37\\lib\\site-packages\\sklearn\\utils\\validation.py:70: FutureWarning: Pass labels=['Blues' 'Classical' 'Country' 'Disco' 'Hiphop' 'Jazz' 'Metal' 'Pop'\n",
      " 'Reggae' 'Rock'] as keyword args. From version 0.25 passing these as positional arguments will result in an error\n",
      "  FutureWarning)\n"
     ]
    },
    {
     "name": "stdout",
     "output_type": "stream",
     "text": [
      "Features Importances\n",
      "[0.02736755 0.02835254 0.03179478 0.01555197 0.03772523 0.02775345\n",
      " 0.01564647 0.02897196 0.04232971 0.03466831 0.04544577 0.03598672\n",
      " 0.03554162 0.03076503 0.04300617 0.04805502 0.02700159 0.01619542\n",
      " 0.02870758 0.02992032 0.03836086 0.03751202 0.02363524 0.02240195\n",
      " 0.01628599 0.0214949  0.01823973 0.01729099 0.02173195 0.02096186\n",
      " 0.0226825  0.02791116 0.02756785 0.02825014 0.02488567]\n",
      "Training Features Shape: (750, 35)\n",
      "Training Labels Shape: (750,)\n",
      "Testing Features Shape: (250, 35)\n",
      "Testing Labels Shape: (250,)\n"
     ]
    },
    {
     "name": "stderr",
     "output_type": "stream",
     "text": [
      "C:\\Users\\alvar\\anaconda3\\envs\\python37\\lib\\site-packages\\sklearn\\utils\\validation.py:70: FutureWarning: Pass labels=['Blues' 'Classical' 'Country' 'Disco' 'Hiphop' 'Jazz' 'Metal' 'Pop'\n",
      " 'Reggae' 'Rock'] as keyword args. From version 0.25 passing these as positional arguments will result in an error\n",
      "  FutureWarning)\n"
     ]
    },
    {
     "name": "stdout",
     "output_type": "stream",
     "text": [
      "Features Importances\n",
      "[0.02864971 0.02965448 0.03108662 0.01633741 0.03618627 0.02546352\n",
      " 0.01562849 0.02769621 0.04337812 0.03749827 0.04611929 0.03759456\n",
      " 0.03774015 0.03102817 0.04426497 0.0478205  0.02588957 0.01531285\n",
      " 0.02890492 0.02971994 0.04022755 0.03849789 0.02351111 0.02186987\n",
      " 0.0165438  0.02302293 0.01820993 0.01778095 0.02106607 0.02058925\n",
      " 0.0238346  0.02563804 0.02271032 0.02536366 0.02516003]\n",
      "Training Features Shape: (750, 35)\n",
      "Training Labels Shape: (750,)\n",
      "Testing Features Shape: (250, 35)\n",
      "Testing Labels Shape: (250,)\n"
     ]
    },
    {
     "name": "stderr",
     "output_type": "stream",
     "text": [
      "C:\\Users\\alvar\\anaconda3\\envs\\python37\\lib\\site-packages\\sklearn\\utils\\validation.py:70: FutureWarning: Pass labels=['Blues' 'Classical' 'Country' 'Disco' 'Hiphop' 'Jazz' 'Metal' 'Pop'\n",
      " 'Reggae' 'Rock'] as keyword args. From version 0.25 passing these as positional arguments will result in an error\n",
      "  FutureWarning)\n"
     ]
    },
    {
     "name": "stdout",
     "output_type": "stream",
     "text": [
      "Features Importances\n",
      "[0.0283722  0.02787269 0.02975539 0.01536667 0.0378     0.02662481\n",
      " 0.01637904 0.02960398 0.04672636 0.03595383 0.04525744 0.03604445\n",
      " 0.0354614  0.03132343 0.04237931 0.05071336 0.02660059 0.01654831\n",
      " 0.02643552 0.02811951 0.03740704 0.0371891  0.02328169 0.02109409\n",
      " 0.01697194 0.02231049 0.02100086 0.01905399 0.02249909 0.01990901\n",
      " 0.02253656 0.02714609 0.02637001 0.02613943 0.02375232]\n",
      "Training Features Shape: (750, 35)\n",
      "Training Labels Shape: (750,)\n",
      "Testing Features Shape: (250, 35)\n",
      "Testing Labels Shape: (250,)\n"
     ]
    },
    {
     "name": "stderr",
     "output_type": "stream",
     "text": [
      "C:\\Users\\alvar\\anaconda3\\envs\\python37\\lib\\site-packages\\sklearn\\utils\\validation.py:70: FutureWarning: Pass labels=['Blues' 'Classical' 'Country' 'Disco' 'Hiphop' 'Jazz' 'Metal' 'Pop'\n",
      " 'Reggae' 'Rock'] as keyword args. From version 0.25 passing these as positional arguments will result in an error\n",
      "  FutureWarning)\n"
     ]
    },
    {
     "name": "stdout",
     "output_type": "stream",
     "text": [
      "Features Importances\n",
      "[0.02700089 0.03005746 0.0325322  0.01623317 0.03966271 0.02710796\n",
      " 0.01557423 0.0278399  0.04503127 0.03624316 0.04266781 0.03700401\n",
      " 0.03577136 0.03255496 0.04358183 0.04910514 0.02561552 0.01578233\n",
      " 0.02817699 0.02870165 0.03679809 0.03583611 0.02707889 0.02135924\n",
      " 0.01622741 0.02118188 0.01800253 0.01726888 0.02177717 0.02191307\n",
      " 0.02491409 0.02417267 0.02491052 0.02748667 0.02482823]\n",
      "Training Features Shape: (750, 35)\n",
      "Training Labels Shape: (750,)\n",
      "Testing Features Shape: (250, 35)\n",
      "Testing Labels Shape: (250,)\n"
     ]
    },
    {
     "name": "stderr",
     "output_type": "stream",
     "text": [
      "C:\\Users\\alvar\\anaconda3\\envs\\python37\\lib\\site-packages\\sklearn\\utils\\validation.py:70: FutureWarning: Pass labels=['Blues' 'Classical' 'Country' 'Disco' 'Hiphop' 'Jazz' 'Metal' 'Pop'\n",
      " 'Reggae' 'Rock'] as keyword args. From version 0.25 passing these as positional arguments will result in an error\n",
      "  FutureWarning)\n"
     ]
    },
    {
     "name": "stdout",
     "output_type": "stream",
     "text": [
      "Features Importances\n",
      "[0.02887037 0.02865924 0.03281883 0.01618826 0.03798938 0.02707868\n",
      " 0.01598097 0.02987191 0.04630996 0.03662392 0.04262145 0.03583597\n",
      " 0.03580928 0.03300893 0.04563453 0.0486542  0.02661229 0.01567034\n",
      " 0.02646331 0.02748639 0.03452905 0.03360821 0.02335785 0.02151574\n",
      " 0.01591208 0.02346176 0.01883337 0.01693026 0.02219581 0.02167593\n",
      " 0.02306304 0.02623981 0.02309122 0.03012762 0.02727006]\n",
      "Training Features Shape: (750, 35)\n",
      "Training Labels Shape: (750,)\n",
      "Testing Features Shape: (250, 35)\n",
      "Testing Labels Shape: (250,)\n"
     ]
    },
    {
     "name": "stderr",
     "output_type": "stream",
     "text": [
      "C:\\Users\\alvar\\anaconda3\\envs\\python37\\lib\\site-packages\\sklearn\\utils\\validation.py:70: FutureWarning: Pass labels=['Blues' 'Classical' 'Country' 'Disco' 'Hiphop' 'Jazz' 'Metal' 'Pop'\n",
      " 'Reggae' 'Rock'] as keyword args. From version 0.25 passing these as positional arguments will result in an error\n",
      "  FutureWarning)\n"
     ]
    },
    {
     "name": "stdout",
     "output_type": "stream",
     "text": [
      "Features Importances\n",
      "[0.02847287 0.02831456 0.03144439 0.01655791 0.0373413  0.02657246\n",
      " 0.01576335 0.03065523 0.04467452 0.0373974  0.0467123  0.03675357\n",
      " 0.03636573 0.03063367 0.0427178  0.04693235 0.02620937 0.01547759\n",
      " 0.03013836 0.02958531 0.03696458 0.03404278 0.02198177 0.02188041\n",
      " 0.016175   0.02155964 0.01973268 0.01692391 0.0226668  0.02187849\n",
      " 0.02344237 0.02603925 0.02713587 0.02737768 0.02347869]\n",
      "Training Features Shape: (750, 35)\n",
      "Training Labels Shape: (750,)\n",
      "Testing Features Shape: (250, 35)\n",
      "Testing Labels Shape: (250,)\n"
     ]
    },
    {
     "name": "stderr",
     "output_type": "stream",
     "text": [
      "C:\\Users\\alvar\\anaconda3\\envs\\python37\\lib\\site-packages\\sklearn\\utils\\validation.py:70: FutureWarning: Pass labels=['Blues' 'Classical' 'Country' 'Disco' 'Hiphop' 'Jazz' 'Metal' 'Pop'\n",
      " 'Reggae' 'Rock'] as keyword args. From version 0.25 passing these as positional arguments will result in an error\n",
      "  FutureWarning)\n"
     ]
    },
    {
     "name": "stdout",
     "output_type": "stream",
     "text": [
      "Features Importances\n",
      "[0.03022159 0.03004651 0.03167807 0.01665776 0.0382921  0.02537109\n",
      " 0.0164351  0.02758112 0.04311281 0.03591271 0.04227121 0.03835907\n",
      " 0.0353838  0.03351166 0.04515137 0.05088269 0.02473073 0.01654328\n",
      " 0.03096674 0.02789315 0.03776157 0.03343296 0.02449364 0.02302613\n",
      " 0.01540197 0.02111425 0.01932355 0.01648784 0.02099118 0.01996939\n",
      " 0.02142804 0.02833975 0.02630496 0.02773636 0.02318584]\n",
      "Training Features Shape: (750, 35)\n",
      "Training Labels Shape: (750,)\n",
      "Testing Features Shape: (250, 35)\n",
      "Testing Labels Shape: (250,)\n"
     ]
    },
    {
     "name": "stderr",
     "output_type": "stream",
     "text": [
      "C:\\Users\\alvar\\anaconda3\\envs\\python37\\lib\\site-packages\\sklearn\\utils\\validation.py:70: FutureWarning: Pass labels=['Blues' 'Classical' 'Country' 'Disco' 'Hiphop' 'Jazz' 'Metal' 'Pop'\n",
      " 'Reggae' 'Rock'] as keyword args. From version 0.25 passing these as positional arguments will result in an error\n",
      "  FutureWarning)\n"
     ]
    },
    {
     "name": "stdout",
     "output_type": "stream",
     "text": [
      "Features Importances\n",
      "[0.02828543 0.03097714 0.0295145  0.01673894 0.03691751 0.0242473\n",
      " 0.01674898 0.02908382 0.04325377 0.03510249 0.04269174 0.03409952\n",
      " 0.03749448 0.02988473 0.04250628 0.05192209 0.02437471 0.01707185\n",
      " 0.02779196 0.02818522 0.03971052 0.03517224 0.0222044  0.02381504\n",
      " 0.01573566 0.02183059 0.01905527 0.01811405 0.02124503 0.02069562\n",
      " 0.02323576 0.02982967 0.02714089 0.02831257 0.02701022]\n",
      "Training Features Shape: (750, 35)\n",
      "Training Labels Shape: (750,)\n",
      "Testing Features Shape: (250, 35)\n",
      "Testing Labels Shape: (250,)\n"
     ]
    },
    {
     "name": "stderr",
     "output_type": "stream",
     "text": [
      "C:\\Users\\alvar\\anaconda3\\envs\\python37\\lib\\site-packages\\sklearn\\utils\\validation.py:70: FutureWarning: Pass labels=['Blues' 'Classical' 'Country' 'Disco' 'Hiphop' 'Jazz' 'Metal' 'Pop'\n",
      " 'Reggae' 'Rock'] as keyword args. From version 0.25 passing these as positional arguments will result in an error\n",
      "  FutureWarning)\n"
     ]
    },
    {
     "name": "stdout",
     "output_type": "stream",
     "text": [
      "Features Importances\n",
      "[0.02914524 0.03134373 0.03130563 0.01633082 0.03655424 0.02644341\n",
      " 0.01631552 0.02901089 0.04248787 0.03655177 0.04453815 0.03819772\n",
      " 0.03670874 0.03151022 0.04376457 0.04690112 0.02581991 0.01609905\n",
      " 0.03020648 0.02949463 0.03896879 0.03672159 0.02250547 0.02151167\n",
      " 0.01592928 0.02143604 0.02006768 0.01618555 0.02052406 0.01940853\n",
      " 0.02103657 0.02625083 0.02893767 0.02857954 0.023207  ]\n",
      "Training Features Shape: (750, 35)\n",
      "Training Labels Shape: (750,)\n",
      "Testing Features Shape: (250, 35)\n",
      "Testing Labels Shape: (250,)\n"
     ]
    },
    {
     "name": "stderr",
     "output_type": "stream",
     "text": [
      "C:\\Users\\alvar\\anaconda3\\envs\\python37\\lib\\site-packages\\sklearn\\utils\\validation.py:70: FutureWarning: Pass labels=['Blues' 'Classical' 'Country' 'Disco' 'Hiphop' 'Jazz' 'Metal' 'Pop'\n",
      " 'Reggae' 'Rock'] as keyword args. From version 0.25 passing these as positional arguments will result in an error\n",
      "  FutureWarning)\n"
     ]
    },
    {
     "name": "stdout",
     "output_type": "stream",
     "text": [
      "Features Importances\n",
      "[0.02672668 0.02892164 0.03266199 0.01600358 0.03695306 0.02692215\n",
      " 0.01518676 0.02953951 0.04359548 0.037301   0.04551025 0.03639349\n",
      " 0.03869337 0.03138031 0.04245144 0.05006198 0.02699363 0.01494528\n",
      " 0.02845882 0.03014507 0.04131275 0.03677528 0.02555791 0.02113538\n",
      " 0.01568547 0.02021927 0.01897222 0.0166588  0.02043776 0.0183945\n",
      " 0.02281928 0.02553276 0.02637853 0.02701939 0.02425525]\n",
      "Training Features Shape: (750, 35)\n",
      "Training Labels Shape: (750,)\n",
      "Testing Features Shape: (250, 35)\n",
      "Testing Labels Shape: (250,)\n"
     ]
    },
    {
     "name": "stderr",
     "output_type": "stream",
     "text": [
      "C:\\Users\\alvar\\anaconda3\\envs\\python37\\lib\\site-packages\\sklearn\\utils\\validation.py:70: FutureWarning: Pass labels=['Blues' 'Classical' 'Country' 'Disco' 'Hiphop' 'Jazz' 'Metal' 'Pop'\n",
      " 'Reggae' 'Rock'] as keyword args. From version 0.25 passing these as positional arguments will result in an error\n",
      "  FutureWarning)\n"
     ]
    },
    {
     "name": "stdout",
     "output_type": "stream",
     "text": [
      "Features Importances\n",
      "[0.02927895 0.02934858 0.0325759  0.01685016 0.03671238 0.02706618\n",
      " 0.01613844 0.0281444  0.04123883 0.0366248  0.04604998 0.03748483\n",
      " 0.03572805 0.03176723 0.04468473 0.04899938 0.02745071 0.01589763\n",
      " 0.02939172 0.03067058 0.03653427 0.0353962  0.02454574 0.02082497\n",
      " 0.01627761 0.01949947 0.01868177 0.01791747 0.02165672 0.02006652\n",
      " 0.02542348 0.02485852 0.02377142 0.02755149 0.02489091]\n",
      "Training Features Shape: (750, 35)\n",
      "Training Labels Shape: (750,)\n",
      "Testing Features Shape: (250, 35)\n",
      "Testing Labels Shape: (250,)\n"
     ]
    },
    {
     "name": "stderr",
     "output_type": "stream",
     "text": [
      "C:\\Users\\alvar\\anaconda3\\envs\\python37\\lib\\site-packages\\sklearn\\utils\\validation.py:70: FutureWarning: Pass labels=['Blues' 'Classical' 'Country' 'Disco' 'Hiphop' 'Jazz' 'Metal' 'Pop'\n",
      " 'Reggae' 'Rock'] as keyword args. From version 0.25 passing these as positional arguments will result in an error\n",
      "  FutureWarning)\n"
     ]
    },
    {
     "name": "stdout",
     "output_type": "stream",
     "text": [
      "Features Importances\n",
      "[0.02761171 0.02789823 0.0313397  0.01552994 0.03647723 0.02805556\n",
      " 0.01635899 0.03048836 0.04335416 0.0344998  0.0401004  0.03824101\n",
      " 0.03756755 0.03098599 0.04418889 0.05001957 0.0281375  0.01624969\n",
      " 0.0265161  0.02940151 0.03828517 0.03656358 0.02451163 0.02222062\n",
      " 0.01596229 0.02183604 0.01806703 0.01785175 0.02192298 0.01985668\n",
      " 0.02310504 0.02588392 0.02783381 0.02902039 0.0240572 ]\n",
      "Training Features Shape: (750, 35)\n",
      "Training Labels Shape: (750,)\n",
      "Testing Features Shape: (250, 35)\n",
      "Testing Labels Shape: (250,)\n"
     ]
    },
    {
     "name": "stderr",
     "output_type": "stream",
     "text": [
      "C:\\Users\\alvar\\anaconda3\\envs\\python37\\lib\\site-packages\\sklearn\\utils\\validation.py:70: FutureWarning: Pass labels=['Blues' 'Classical' 'Country' 'Disco' 'Hiphop' 'Jazz' 'Metal' 'Pop'\n",
      " 'Reggae' 'Rock'] as keyword args. From version 0.25 passing these as positional arguments will result in an error\n",
      "  FutureWarning)\n"
     ]
    },
    {
     "name": "stdout",
     "output_type": "stream",
     "text": [
      "Features Importances\n",
      "[0.02886362 0.02806058 0.02943654 0.01681434 0.03812218 0.0277096\n",
      " 0.01632292 0.02757376 0.04227319 0.03503265 0.04409906 0.03634858\n",
      " 0.03423034 0.02842362 0.04147903 0.0494433  0.02737703 0.01638636\n",
      " 0.02978956 0.02954967 0.04342991 0.03936548 0.02524629 0.02283154\n",
      " 0.01552769 0.02160346 0.01829472 0.01805979 0.02030018 0.02154231\n",
      " 0.02372476 0.02647507 0.02643025 0.02783584 0.02199677]\n",
      "Training Features Shape: (750, 35)\n",
      "Training Labels Shape: (750,)\n",
      "Testing Features Shape: (250, 35)\n",
      "Testing Labels Shape: (250,)\n"
     ]
    },
    {
     "name": "stderr",
     "output_type": "stream",
     "text": [
      "C:\\Users\\alvar\\anaconda3\\envs\\python37\\lib\\site-packages\\sklearn\\utils\\validation.py:70: FutureWarning: Pass labels=['Blues' 'Classical' 'Country' 'Disco' 'Hiphop' 'Jazz' 'Metal' 'Pop'\n",
      " 'Reggae' 'Rock'] as keyword args. From version 0.25 passing these as positional arguments will result in an error\n",
      "  FutureWarning)\n"
     ]
    },
    {
     "name": "stdout",
     "output_type": "stream",
     "text": [
      "Features Importances\n",
      "[0.02824145 0.03008762 0.03107531 0.01599493 0.0350864  0.02766382\n",
      " 0.01578662 0.03174763 0.04706745 0.03629582 0.04330159 0.03493489\n",
      " 0.0364811  0.03070456 0.04351238 0.04730492 0.02701439 0.01585054\n",
      " 0.02732698 0.02817575 0.03886558 0.0367471  0.02400752 0.02287644\n",
      " 0.01583815 0.02160467 0.01967448 0.01797399 0.02198564 0.02049293\n",
      " 0.02389013 0.02479977 0.02511969 0.02781319 0.02465658]\n",
      "Training Features Shape: (750, 35)\n",
      "Training Labels Shape: (750,)\n",
      "Testing Features Shape: (250, 35)\n",
      "Testing Labels Shape: (250,)\n"
     ]
    },
    {
     "name": "stderr",
     "output_type": "stream",
     "text": [
      "C:\\Users\\alvar\\anaconda3\\envs\\python37\\lib\\site-packages\\sklearn\\utils\\validation.py:70: FutureWarning: Pass labels=['Blues' 'Classical' 'Country' 'Disco' 'Hiphop' 'Jazz' 'Metal' 'Pop'\n",
      " 'Reggae' 'Rock'] as keyword args. From version 0.25 passing these as positional arguments will result in an error\n",
      "  FutureWarning)\n"
     ]
    },
    {
     "name": "stdout",
     "output_type": "stream",
     "text": [
      "Features Importances\n",
      "[0.0272354  0.02821023 0.03082753 0.01607049 0.04108125 0.02468859\n",
      " 0.0157012  0.02760552 0.04487788 0.03504176 0.04325233 0.03894953\n",
      " 0.03565486 0.03179324 0.04352019 0.04751031 0.02481897 0.01581486\n",
      " 0.02865357 0.02879494 0.03998324 0.03393062 0.02494033 0.02288813\n",
      " 0.01736736 0.02204313 0.02000979 0.01787968 0.02163933 0.02038249\n",
      " 0.02347882 0.02826499 0.0282932  0.02626826 0.02252798]\n",
      "Training Features Shape: (750, 35)\n",
      "Training Labels Shape: (750,)\n",
      "Testing Features Shape: (250, 35)\n",
      "Testing Labels Shape: (250,)\n"
     ]
    },
    {
     "name": "stderr",
     "output_type": "stream",
     "text": [
      "C:\\Users\\alvar\\anaconda3\\envs\\python37\\lib\\site-packages\\sklearn\\utils\\validation.py:70: FutureWarning: Pass labels=['Blues' 'Classical' 'Country' 'Disco' 'Hiphop' 'Jazz' 'Metal' 'Pop'\n",
      " 'Reggae' 'Rock'] as keyword args. From version 0.25 passing these as positional arguments will result in an error\n",
      "  FutureWarning)\n"
     ]
    },
    {
     "name": "stdout",
     "output_type": "stream",
     "text": [
      "Features Importances\n",
      "[0.02841089 0.03072595 0.0326779  0.01853177 0.03756736 0.02658057\n",
      " 0.01564553 0.02774041 0.04612082 0.03453347 0.04256652 0.03864221\n",
      " 0.03643747 0.03328595 0.04100623 0.04880063 0.02701103 0.0151322\n",
      " 0.02751195 0.02992218 0.03841065 0.03680029 0.02574702 0.02175447\n",
      " 0.01612779 0.02175595 0.01868591 0.01818453 0.02124929 0.02037233\n",
      " 0.02308223 0.02545469 0.0236047  0.02571404 0.02420506]\n",
      "Training Features Shape: (750, 35)\n",
      "Training Labels Shape: (750,)\n",
      "Testing Features Shape: (250, 35)\n",
      "Testing Labels Shape: (250,)\n"
     ]
    },
    {
     "name": "stderr",
     "output_type": "stream",
     "text": [
      "C:\\Users\\alvar\\anaconda3\\envs\\python37\\lib\\site-packages\\sklearn\\utils\\validation.py:70: FutureWarning: Pass labels=['Blues' 'Classical' 'Country' 'Disco' 'Hiphop' 'Jazz' 'Metal' 'Pop'\n",
      " 'Reggae' 'Rock'] as keyword args. From version 0.25 passing these as positional arguments will result in an error\n",
      "  FutureWarning)\n"
     ]
    },
    {
     "name": "stdout",
     "output_type": "stream",
     "text": [
      "Features Importances\n",
      "[0.0280962  0.02931081 0.03030099 0.01657837 0.0365641  0.02711181\n",
      " 0.01671715 0.02990417 0.04517078 0.036837   0.04303703 0.03541413\n",
      " 0.03341045 0.03046726 0.04456393 0.04819388 0.0280907  0.01635226\n",
      " 0.02838504 0.02903114 0.036776   0.03322732 0.02518909 0.02195444\n",
      " 0.01590903 0.02122876 0.0188213  0.01782478 0.0231319  0.02046498\n",
      " 0.02296777 0.02589561 0.02629669 0.03160747 0.02516765]\n"
     ]
    },
    {
     "name": "stderr",
     "output_type": "stream",
     "text": [
      "C:\\Users\\alvar\\anaconda3\\envs\\python37\\lib\\site-packages\\sklearn\\utils\\validation.py:70: FutureWarning: Pass labels=['Blues' 'Classical' 'Country' 'Disco' 'Hiphop' 'Jazz' 'Metal' 'Pop'\n",
      " 'Reggae' 'Rock'] as keyword args. From version 0.25 passing these as positional arguments will result in an error\n",
      "  FutureWarning)\n"
     ]
    },
    {
     "name": "stdout",
     "output_type": "stream",
     "text": [
      "Training Features Shape: (750, 35)\n",
      "Training Labels Shape: (750,)\n",
      "Testing Features Shape: (250, 35)\n",
      "Testing Labels Shape: (250,)\n",
      "Features Importances\n",
      "[0.02772933 0.02949108 0.03148117 0.01645327 0.03947361 0.02598081\n",
      " 0.01571533 0.03014486 0.04352054 0.03604379 0.04468733 0.03303123\n",
      " 0.03208222 0.03166376 0.04225735 0.05135052 0.02627091 0.01597325\n",
      " 0.02846869 0.02790961 0.03608927 0.03629164 0.02357678 0.02245746\n",
      " 0.01671322 0.02272256 0.01973443 0.01704557 0.02058374 0.02002295\n",
      " 0.0236039  0.02671321 0.02751432 0.03123662 0.02596568]\n",
      "Training Features Shape: (750, 35)\n",
      "Training Labels Shape: (750,)\n",
      "Testing Features Shape: (250, 35)\n",
      "Testing Labels Shape: (250,)\n"
     ]
    },
    {
     "name": "stderr",
     "output_type": "stream",
     "text": [
      "C:\\Users\\alvar\\anaconda3\\envs\\python37\\lib\\site-packages\\sklearn\\utils\\validation.py:70: FutureWarning: Pass labels=['Blues' 'Classical' 'Country' 'Disco' 'Hiphop' 'Jazz' 'Metal' 'Pop'\n",
      " 'Reggae' 'Rock'] as keyword args. From version 0.25 passing these as positional arguments will result in an error\n",
      "  FutureWarning)\n"
     ]
    },
    {
     "name": "stdout",
     "output_type": "stream",
     "text": [
      "Features Importances\n",
      "[0.02768143 0.03052857 0.02941098 0.0166014  0.03779627 0.02698077\n",
      " 0.01536004 0.02907302 0.04478917 0.03627052 0.04290297 0.03577881\n",
      " 0.03526711 0.0307052  0.04262311 0.04844191 0.02662943 0.0150379\n",
      " 0.02742353 0.03095315 0.04069622 0.03597138 0.0255363  0.02296272\n",
      " 0.01791453 0.02149151 0.01740385 0.01707398 0.02085469 0.01963234\n",
      " 0.02208869 0.02855902 0.02542406 0.02948245 0.02465297]\n",
      "Training Features Shape: (750, 35)\n",
      "Training Labels Shape: (750,)\n",
      "Testing Features Shape: (250, 35)\n",
      "Testing Labels Shape: (250,)\n"
     ]
    },
    {
     "name": "stderr",
     "output_type": "stream",
     "text": [
      "C:\\Users\\alvar\\anaconda3\\envs\\python37\\lib\\site-packages\\sklearn\\utils\\validation.py:70: FutureWarning: Pass labels=['Blues' 'Classical' 'Country' 'Disco' 'Hiphop' 'Jazz' 'Metal' 'Pop'\n",
      " 'Reggae' 'Rock'] as keyword args. From version 0.25 passing these as positional arguments will result in an error\n",
      "  FutureWarning)\n"
     ]
    },
    {
     "name": "stdout",
     "output_type": "stream",
     "text": [
      "Features Importances\n",
      "[0.02874837 0.03058926 0.02962039 0.01728714 0.03976658 0.02544381\n",
      " 0.01583628 0.0289658  0.04889633 0.03580172 0.04403888 0.03639945\n",
      " 0.0382815  0.03004576 0.04538512 0.04760777 0.02575089 0.01484744\n",
      " 0.02929749 0.0313024  0.03282615 0.03467823 0.02231762 0.01978475\n",
      " 0.0165717  0.02246841 0.02034987 0.01829252 0.02338044 0.0192377\n",
      " 0.02135419 0.02602995 0.02448359 0.02865501 0.02565748]\n",
      "Training Features Shape: (750, 35)\n",
      "Training Labels Shape: (750,)\n",
      "Testing Features Shape: (250, 35)\n",
      "Testing Labels Shape: (250,)\n"
     ]
    },
    {
     "name": "stderr",
     "output_type": "stream",
     "text": [
      "C:\\Users\\alvar\\anaconda3\\envs\\python37\\lib\\site-packages\\sklearn\\utils\\validation.py:70: FutureWarning: Pass labels=['Blues' 'Classical' 'Country' 'Disco' 'Hiphop' 'Jazz' 'Metal' 'Pop'\n",
      " 'Reggae' 'Rock'] as keyword args. From version 0.25 passing these as positional arguments will result in an error\n",
      "  FutureWarning)\n"
     ]
    },
    {
     "name": "stdout",
     "output_type": "stream",
     "text": [
      "Features Importances\n",
      "[0.0290695  0.02959033 0.03470624 0.01718426 0.03634054 0.0256663\n",
      " 0.01661476 0.02926326 0.04723164 0.03436206 0.04210462 0.03440287\n",
      " 0.03675281 0.03415436 0.04462035 0.04458317 0.02584668 0.01719663\n",
      " 0.0297384  0.02912423 0.03877627 0.03452613 0.02388409 0.0222172\n",
      " 0.01561603 0.024236   0.01870208 0.01715637 0.02168756 0.02042853\n",
      " 0.02190102 0.0270267  0.02474925 0.02643152 0.02410825]\n",
      "Training Features Shape: (750, 35)\n",
      "Training Labels Shape: (750,)\n",
      "Testing Features Shape: (250, 35)\n",
      "Testing Labels Shape: (250,)\n"
     ]
    },
    {
     "name": "stderr",
     "output_type": "stream",
     "text": [
      "C:\\Users\\alvar\\anaconda3\\envs\\python37\\lib\\site-packages\\sklearn\\utils\\validation.py:70: FutureWarning: Pass labels=['Blues' 'Classical' 'Country' 'Disco' 'Hiphop' 'Jazz' 'Metal' 'Pop'\n",
      " 'Reggae' 'Rock'] as keyword args. From version 0.25 passing these as positional arguments will result in an error\n",
      "  FutureWarning)\n"
     ]
    },
    {
     "name": "stdout",
     "output_type": "stream",
     "text": [
      "Features Importances\n",
      "[0.02985526 0.03038637 0.03161242 0.01525031 0.03970899 0.0264566\n",
      " 0.01543872 0.02946718 0.04170162 0.03532065 0.04037616 0.03493259\n",
      " 0.03324746 0.03132853 0.04206974 0.05045943 0.02598947 0.01591641\n",
      " 0.02941761 0.03119458 0.03831356 0.03775391 0.02523007 0.02286535\n",
      " 0.01588383 0.0216941  0.01881455 0.01822633 0.02204246 0.01869121\n",
      " 0.02070854 0.02773811 0.0259097  0.03027756 0.02572063]\n",
      "Training Features Shape: (750, 35)\n",
      "Training Labels Shape: (750,)\n",
      "Testing Features Shape: (250, 35)\n",
      "Testing Labels Shape: (250,)\n"
     ]
    },
    {
     "name": "stderr",
     "output_type": "stream",
     "text": [
      "C:\\Users\\alvar\\anaconda3\\envs\\python37\\lib\\site-packages\\sklearn\\utils\\validation.py:70: FutureWarning: Pass labels=['Blues' 'Classical' 'Country' 'Disco' 'Hiphop' 'Jazz' 'Metal' 'Pop'\n",
      " 'Reggae' 'Rock'] as keyword args. From version 0.25 passing these as positional arguments will result in an error\n",
      "  FutureWarning)\n"
     ]
    },
    {
     "name": "stdout",
     "output_type": "stream",
     "text": [
      "Features Importances\n",
      "[0.02867148 0.02808227 0.03061595 0.01749021 0.04006948 0.02656054\n",
      " 0.01458744 0.02742984 0.04568539 0.03528728 0.04217918 0.03368136\n",
      " 0.03390679 0.02990322 0.04289014 0.04815475 0.0280004  0.01450072\n",
      " 0.02672621 0.02835153 0.04173566 0.03581656 0.02370251 0.02313387\n",
      " 0.01779595 0.02333171 0.01978919 0.01923503 0.02389838 0.02029895\n",
      " 0.02262031 0.0263262  0.0274757  0.02875076 0.02331505]\n",
      "Training Features Shape: (750, 35)\n",
      "Training Labels Shape: (750,)\n",
      "Testing Features Shape: (250, 35)\n",
      "Testing Labels Shape: (250,)\n"
     ]
    },
    {
     "name": "stderr",
     "output_type": "stream",
     "text": [
      "C:\\Users\\alvar\\anaconda3\\envs\\python37\\lib\\site-packages\\sklearn\\utils\\validation.py:70: FutureWarning: Pass labels=['Blues' 'Classical' 'Country' 'Disco' 'Hiphop' 'Jazz' 'Metal' 'Pop'\n",
      " 'Reggae' 'Rock'] as keyword args. From version 0.25 passing these as positional arguments will result in an error\n",
      "  FutureWarning)\n"
     ]
    },
    {
     "name": "stdout",
     "output_type": "stream",
     "text": [
      "Features Importances\n",
      "[0.02863482 0.02920364 0.02991283 0.01508672 0.03841508 0.02567626\n",
      " 0.016314   0.02948919 0.04339288 0.03516288 0.04298891 0.03864312\n",
      " 0.03803855 0.0301669  0.04437063 0.04666785 0.02623777 0.01611339\n",
      " 0.02965832 0.03080611 0.04087025 0.03700754 0.02439435 0.02138775\n",
      " 0.01729252 0.0203424  0.01860416 0.01838894 0.02212744 0.02034304\n",
      " 0.02246829 0.02640813 0.02620122 0.02731291 0.02187122]\n",
      "Training Features Shape: (750, 35)\n",
      "Training Labels Shape: (750,)\n",
      "Testing Features Shape: (250, 35)\n",
      "Testing Labels Shape: (250,)\n"
     ]
    },
    {
     "name": "stderr",
     "output_type": "stream",
     "text": [
      "C:\\Users\\alvar\\anaconda3\\envs\\python37\\lib\\site-packages\\sklearn\\utils\\validation.py:70: FutureWarning: Pass labels=['Blues' 'Classical' 'Country' 'Disco' 'Hiphop' 'Jazz' 'Metal' 'Pop'\n",
      " 'Reggae' 'Rock'] as keyword args. From version 0.25 passing these as positional arguments will result in an error\n",
      "  FutureWarning)\n"
     ]
    },
    {
     "name": "stdout",
     "output_type": "stream",
     "text": [
      "Features Importances\n",
      "[0.02808173 0.03172294 0.0311457  0.01696145 0.03533949 0.02656237\n",
      " 0.01507091 0.02701688 0.04687317 0.0371609  0.04481702 0.03508163\n",
      " 0.03364823 0.0309693  0.04201313 0.04672839 0.02571604 0.01569223\n",
      " 0.02875838 0.03029449 0.04132584 0.0379751  0.0231485  0.02141476\n",
      " 0.01647679 0.02252064 0.01954511 0.01772065 0.02230694 0.01974665\n",
      " 0.02091242 0.02767747 0.02621651 0.02832248 0.02503577]\n",
      "Training Features Shape: (750, 35)\n",
      "Training Labels Shape: (750,)\n",
      "Testing Features Shape: (250, 35)\n",
      "Testing Labels Shape: (250,)\n"
     ]
    },
    {
     "name": "stderr",
     "output_type": "stream",
     "text": [
      "C:\\Users\\alvar\\anaconda3\\envs\\python37\\lib\\site-packages\\sklearn\\utils\\validation.py:70: FutureWarning: Pass labels=['Blues' 'Classical' 'Country' 'Disco' 'Hiphop' 'Jazz' 'Metal' 'Pop'\n",
      " 'Reggae' 'Rock'] as keyword args. From version 0.25 passing these as positional arguments will result in an error\n",
      "  FutureWarning)\n"
     ]
    },
    {
     "name": "stdout",
     "output_type": "stream",
     "text": [
      "Features Importances\n",
      "[0.02830178 0.03061786 0.03032024 0.01577193 0.03991932 0.0230559\n",
      " 0.0181003  0.02924581 0.04467851 0.03620252 0.04242491 0.03504907\n",
      " 0.03757415 0.03067701 0.04174011 0.04944949 0.02444504 0.01787837\n",
      " 0.02797668 0.02755521 0.04106121 0.03520923 0.02345745 0.02175905\n",
      " 0.0170462  0.02412134 0.01913471 0.01768811 0.0217185  0.02138491\n",
      " 0.02044176 0.02687104 0.02692726 0.02865756 0.02353748]\n",
      "Training Features Shape: (750, 35)\n",
      "Training Labels Shape: (750,)\n",
      "Testing Features Shape: (250, 35)\n",
      "Testing Labels Shape: (250,)\n"
     ]
    },
    {
     "name": "stderr",
     "output_type": "stream",
     "text": [
      "C:\\Users\\alvar\\anaconda3\\envs\\python37\\lib\\site-packages\\sklearn\\utils\\validation.py:70: FutureWarning: Pass labels=['Blues' 'Classical' 'Country' 'Disco' 'Hiphop' 'Jazz' 'Metal' 'Pop'\n",
      " 'Reggae' 'Rock'] as keyword args. From version 0.25 passing these as positional arguments will result in an error\n",
      "  FutureWarning)\n"
     ]
    },
    {
     "name": "stdout",
     "output_type": "stream",
     "text": [
      "Features Importances\n",
      "[0.02819261 0.02840558 0.03127066 0.01568991 0.03716794 0.02514469\n",
      " 0.01589782 0.02733685 0.04203646 0.03607768 0.04400985 0.03390941\n",
      " 0.03538181 0.02984568 0.0449118  0.05382595 0.02505316 0.01599266\n",
      " 0.02938134 0.0290269  0.0401443  0.03850431 0.02401668 0.02033649\n",
      " 0.0164379  0.02185689 0.01788306 0.01839371 0.02176761 0.02047892\n",
      " 0.02455867 0.02939776 0.02637011 0.02755683 0.02373801]\n",
      "Training Features Shape: (750, 35)\n",
      "Training Labels Shape: (750,)\n",
      "Testing Features Shape: (250, 35)\n",
      "Testing Labels Shape: (250,)\n"
     ]
    },
    {
     "name": "stderr",
     "output_type": "stream",
     "text": [
      "C:\\Users\\alvar\\anaconda3\\envs\\python37\\lib\\site-packages\\sklearn\\utils\\validation.py:70: FutureWarning: Pass labels=['Blues' 'Classical' 'Country' 'Disco' 'Hiphop' 'Jazz' 'Metal' 'Pop'\n",
      " 'Reggae' 'Rock'] as keyword args. From version 0.25 passing these as positional arguments will result in an error\n",
      "  FutureWarning)\n"
     ]
    },
    {
     "name": "stdout",
     "output_type": "stream",
     "text": [
      "Features Importances\n",
      "[0.02890352 0.03014793 0.03179348 0.01570346 0.03467303 0.02652785\n",
      " 0.01632138 0.02817948 0.04264255 0.03813519 0.04260436 0.03988589\n",
      " 0.03549178 0.03072148 0.0458549  0.04869172 0.02729329 0.01615977\n",
      " 0.02843829 0.03035063 0.0362189  0.03509858 0.02331908 0.02222791\n",
      " 0.01582372 0.02139291 0.01872523 0.01663102 0.02025367 0.02097701\n",
      " 0.02123629 0.02674296 0.02843778 0.03082875 0.02356623]\n",
      "Training Features Shape: (750, 35)\n",
      "Training Labels Shape: (750,)\n",
      "Testing Features Shape: (250, 35)\n",
      "Testing Labels Shape: (250,)\n"
     ]
    },
    {
     "name": "stderr",
     "output_type": "stream",
     "text": [
      "C:\\Users\\alvar\\anaconda3\\envs\\python37\\lib\\site-packages\\sklearn\\utils\\validation.py:70: FutureWarning: Pass labels=['Blues' 'Classical' 'Country' 'Disco' 'Hiphop' 'Jazz' 'Metal' 'Pop'\n",
      " 'Reggae' 'Rock'] as keyword args. From version 0.25 passing these as positional arguments will result in an error\n",
      "  FutureWarning)\n"
     ]
    },
    {
     "name": "stdout",
     "output_type": "stream",
     "text": [
      "Features Importances\n",
      "[0.03017731 0.02926589 0.032357   0.01684921 0.03760047 0.02443948\n",
      " 0.01584177 0.02970048 0.04560286 0.03681359 0.04309514 0.03792497\n",
      " 0.03592327 0.03094363 0.04486057 0.04972359 0.02433735 0.01586465\n",
      " 0.02790707 0.02925353 0.0389177  0.03588342 0.02360723 0.02082589\n",
      " 0.01680166 0.02185198 0.01893868 0.01723041 0.02189722 0.02094462\n",
      " 0.02261532 0.02368997 0.025361   0.02890555 0.02404753]\n",
      "Training Features Shape: (750, 35)\n",
      "Training Labels Shape: (750,)\n",
      "Testing Features Shape: (250, 35)\n",
      "Testing Labels Shape: (250,)\n"
     ]
    },
    {
     "name": "stderr",
     "output_type": "stream",
     "text": [
      "C:\\Users\\alvar\\anaconda3\\envs\\python37\\lib\\site-packages\\sklearn\\utils\\validation.py:70: FutureWarning: Pass labels=['Blues' 'Classical' 'Country' 'Disco' 'Hiphop' 'Jazz' 'Metal' 'Pop'\n",
      " 'Reggae' 'Rock'] as keyword args. From version 0.25 passing these as positional arguments will result in an error\n",
      "  FutureWarning)\n"
     ]
    },
    {
     "name": "stdout",
     "output_type": "stream",
     "text": [
      "Features Importances\n",
      "[0.02922391 0.02943819 0.02821613 0.01632914 0.04288373 0.02598756\n",
      " 0.01682748 0.02740108 0.04164264 0.03544079 0.04290096 0.03225546\n",
      " 0.0345534  0.03008028 0.04466703 0.05030933 0.02621941 0.01715049\n",
      " 0.03040566 0.03061736 0.04282288 0.0357362  0.02372954 0.02294276\n",
      " 0.01672368 0.02146468 0.01737067 0.01752856 0.02003265 0.018805\n",
      " 0.02209476 0.02543925 0.0273723  0.03017289 0.0252141 ]\n",
      "Training Features Shape: (750, 35)\n",
      "Training Labels Shape: (750,)\n",
      "Testing Features Shape: (250, 35)\n",
      "Testing Labels Shape: (250,)\n"
     ]
    },
    {
     "name": "stderr",
     "output_type": "stream",
     "text": [
      "C:\\Users\\alvar\\anaconda3\\envs\\python37\\lib\\site-packages\\sklearn\\utils\\validation.py:70: FutureWarning: Pass labels=['Blues' 'Classical' 'Country' 'Disco' 'Hiphop' 'Jazz' 'Metal' 'Pop'\n",
      " 'Reggae' 'Rock'] as keyword args. From version 0.25 passing these as positional arguments will result in an error\n",
      "  FutureWarning)\n"
     ]
    },
    {
     "name": "stdout",
     "output_type": "stream",
     "text": [
      "Features Importances\n",
      "[0.02701123 0.0296167  0.03110804 0.01654074 0.03861504 0.02539205\n",
      " 0.01612552 0.02872387 0.04669581 0.03600691 0.045441   0.03523943\n",
      " 0.03622626 0.0322977  0.04254547 0.04550265 0.02521202 0.0164122\n",
      " 0.02603992 0.03177516 0.03937036 0.03420992 0.02480771 0.02095895\n",
      " 0.01690081 0.02147432 0.01803419 0.01772719 0.02274857 0.02146278\n",
      " 0.0248094  0.02900804 0.0237464  0.02663426 0.02557935]\n",
      "Training Features Shape: (750, 35)\n",
      "Training Labels Shape: (750,)\n",
      "Testing Features Shape: (250, 35)\n",
      "Testing Labels Shape: (250,)\n"
     ]
    },
    {
     "name": "stderr",
     "output_type": "stream",
     "text": [
      "C:\\Users\\alvar\\anaconda3\\envs\\python37\\lib\\site-packages\\sklearn\\utils\\validation.py:70: FutureWarning: Pass labels=['Blues' 'Classical' 'Country' 'Disco' 'Hiphop' 'Jazz' 'Metal' 'Pop'\n",
      " 'Reggae' 'Rock'] as keyword args. From version 0.25 passing these as positional arguments will result in an error\n",
      "  FutureWarning)\n"
     ]
    },
    {
     "name": "stdout",
     "output_type": "stream",
     "text": [
      "Features Importances\n",
      "[0.02561836 0.02856296 0.03200492 0.01744426 0.03720242 0.02406814\n",
      " 0.01573072 0.03090477 0.04626006 0.03774304 0.04207017 0.0367256\n",
      " 0.03730857 0.03274378 0.04255045 0.05008851 0.0245564  0.01521196\n",
      " 0.0270109  0.02768903 0.03848072 0.03578038 0.02528395 0.02415604\n",
      " 0.01741067 0.02152032 0.01796473 0.01954724 0.02202491 0.02036192\n",
      " 0.02151826 0.02626594 0.0224061  0.02763705 0.02814677]\n",
      "Training Features Shape: (750, 35)\n",
      "Training Labels Shape: (750,)\n",
      "Testing Features Shape: (250, 35)\n",
      "Testing Labels Shape: (250,)\n"
     ]
    },
    {
     "name": "stderr",
     "output_type": "stream",
     "text": [
      "C:\\Users\\alvar\\anaconda3\\envs\\python37\\lib\\site-packages\\sklearn\\utils\\validation.py:70: FutureWarning: Pass labels=['Blues' 'Classical' 'Country' 'Disco' 'Hiphop' 'Jazz' 'Metal' 'Pop'\n",
      " 'Reggae' 'Rock'] as keyword args. From version 0.25 passing these as positional arguments will result in an error\n",
      "  FutureWarning)\n"
     ]
    },
    {
     "name": "stdout",
     "output_type": "stream",
     "text": [
      "Features Importances\n",
      "[0.02619576 0.02615367 0.03167259 0.01655587 0.03680099 0.02581658\n",
      " 0.01851085 0.03183896 0.04537036 0.03503822 0.04115574 0.03732153\n",
      " 0.03849774 0.03236976 0.03996348 0.05079103 0.02605217 0.01843976\n",
      " 0.0281055  0.02809916 0.0373437  0.03539529 0.02452368 0.02234564\n",
      " 0.01726816 0.02100319 0.01880607 0.01799054 0.02215295 0.02070853\n",
      " 0.02225718 0.0264051  0.02474357 0.02903895 0.02526774]\n",
      "Training Features Shape: (750, 35)\n",
      "Training Labels Shape: (750,)\n",
      "Testing Features Shape: (250, 35)\n",
      "Testing Labels Shape: (250,)\n"
     ]
    },
    {
     "name": "stderr",
     "output_type": "stream",
     "text": [
      "C:\\Users\\alvar\\anaconda3\\envs\\python37\\lib\\site-packages\\sklearn\\utils\\validation.py:70: FutureWarning: Pass labels=['Blues' 'Classical' 'Country' 'Disco' 'Hiphop' 'Jazz' 'Metal' 'Pop'\n",
      " 'Reggae' 'Rock'] as keyword args. From version 0.25 passing these as positional arguments will result in an error\n",
      "  FutureWarning)\n"
     ]
    },
    {
     "name": "stdout",
     "output_type": "stream",
     "text": [
      "Features Importances\n",
      "[0.02948212 0.03021131 0.02946847 0.01690505 0.03793513 0.02791663\n",
      " 0.01616965 0.02878468 0.04498188 0.0331841  0.04379996 0.03524413\n",
      " 0.03687636 0.0306638  0.04273322 0.04597745 0.02755241 0.01619079\n",
      " 0.02850221 0.03095153 0.03728327 0.03817163 0.02518962 0.02191656\n",
      " 0.01697898 0.02189697 0.01879502 0.01768571 0.02152427 0.02120286\n",
      " 0.02002479 0.02760413 0.02594484 0.02883277 0.02341771]\n",
      "Training Features Shape: (750, 35)\n",
      "Training Labels Shape: (750,)\n",
      "Testing Features Shape: (250, 35)\n",
      "Testing Labels Shape: (250,)\n"
     ]
    },
    {
     "name": "stderr",
     "output_type": "stream",
     "text": [
      "C:\\Users\\alvar\\anaconda3\\envs\\python37\\lib\\site-packages\\sklearn\\utils\\validation.py:70: FutureWarning: Pass labels=['Blues' 'Classical' 'Country' 'Disco' 'Hiphop' 'Jazz' 'Metal' 'Pop'\n",
      " 'Reggae' 'Rock'] as keyword args. From version 0.25 passing these as positional arguments will result in an error\n",
      "  FutureWarning)\n"
     ]
    },
    {
     "name": "stdout",
     "output_type": "stream",
     "text": [
      "Features Importances\n",
      "[0.02881584 0.03005423 0.0316425  0.01685197 0.03923816 0.02439012\n",
      " 0.01684629 0.02852104 0.04702412 0.03385333 0.04063329 0.03688994\n",
      " 0.03376267 0.03043708 0.04646702 0.05244157 0.02497845 0.01717032\n",
      " 0.02937996 0.03108407 0.03455347 0.03566446 0.02410665 0.02314594\n",
      " 0.01557808 0.02165809 0.01868848 0.01796506 0.02257758 0.01894235\n",
      " 0.02103549 0.02688862 0.02607281 0.02761994 0.02502101]\n",
      "Training Features Shape: (750, 35)\n",
      "Training Labels Shape: (750,)\n",
      "Testing Features Shape: (250, 35)\n",
      "Testing Labels Shape: (250,)\n"
     ]
    },
    {
     "name": "stderr",
     "output_type": "stream",
     "text": [
      "C:\\Users\\alvar\\anaconda3\\envs\\python37\\lib\\site-packages\\sklearn\\utils\\validation.py:70: FutureWarning: Pass labels=['Blues' 'Classical' 'Country' 'Disco' 'Hiphop' 'Jazz' 'Metal' 'Pop'\n",
      " 'Reggae' 'Rock'] as keyword args. From version 0.25 passing these as positional arguments will result in an error\n",
      "  FutureWarning)\n"
     ]
    },
    {
     "name": "stdout",
     "output_type": "stream",
     "text": [
      "Features Importances\n",
      "[0.02639796 0.02885043 0.03396674 0.0161715  0.03990742 0.0261415\n",
      " 0.01602796 0.02667674 0.04471973 0.03388128 0.04268676 0.03499881\n",
      " 0.03490161 0.03215239 0.04376743 0.05215706 0.02539228 0.01655375\n",
      " 0.02660183 0.02998896 0.03844066 0.03688262 0.02289584 0.02288386\n",
      " 0.0154219  0.02289857 0.02015272 0.01887316 0.0218129  0.020587\n",
      " 0.0211583  0.02865749 0.02538625 0.02810699 0.02389963]\n",
      "Training Features Shape: (750, 35)\n",
      "Training Labels Shape: (750,)\n",
      "Testing Features Shape: (250, 35)\n",
      "Testing Labels Shape: (250,)\n"
     ]
    },
    {
     "name": "stderr",
     "output_type": "stream",
     "text": [
      "C:\\Users\\alvar\\anaconda3\\envs\\python37\\lib\\site-packages\\sklearn\\utils\\validation.py:70: FutureWarning: Pass labels=['Blues' 'Classical' 'Country' 'Disco' 'Hiphop' 'Jazz' 'Metal' 'Pop'\n",
      " 'Reggae' 'Rock'] as keyword args. From version 0.25 passing these as positional arguments will result in an error\n",
      "  FutureWarning)\n"
     ]
    },
    {
     "name": "stdout",
     "output_type": "stream",
     "text": [
      "Features Importances\n",
      "[0.03057626 0.03066148 0.03034153 0.016338   0.0364807  0.02706756\n",
      " 0.01730882 0.0299416  0.04050751 0.03577262 0.0448017  0.03265884\n",
      " 0.03251814 0.03232918 0.04145264 0.05282545 0.0273928  0.01653673\n",
      " 0.03001597 0.02947014 0.03691497 0.03604708 0.02354483 0.0211854\n",
      " 0.0160427  0.02151181 0.01857753 0.0181815  0.0201001  0.02054687\n",
      " 0.02278869 0.02675187 0.02735103 0.0298482  0.02560974]\n",
      "Training Features Shape: (750, 35)\n",
      "Training Labels Shape: (750,)\n",
      "Testing Features Shape: (250, 35)\n",
      "Testing Labels Shape: (250,)\n"
     ]
    },
    {
     "name": "stderr",
     "output_type": "stream",
     "text": [
      "C:\\Users\\alvar\\anaconda3\\envs\\python37\\lib\\site-packages\\sklearn\\utils\\validation.py:70: FutureWarning: Pass labels=['Blues' 'Classical' 'Country' 'Disco' 'Hiphop' 'Jazz' 'Metal' 'Pop'\n",
      " 'Reggae' 'Rock'] as keyword args. From version 0.25 passing these as positional arguments will result in an error\n",
      "  FutureWarning)\n"
     ]
    },
    {
     "name": "stdout",
     "output_type": "stream",
     "text": [
      "Features Importances\n",
      "[0.0294664  0.02851102 0.03083504 0.01524664 0.0375321  0.02668046\n",
      " 0.0153838  0.02756935 0.04594009 0.03488915 0.04075862 0.03552159\n",
      " 0.03613688 0.03118163 0.04207853 0.05228319 0.02643877 0.01647939\n",
      " 0.02765667 0.03002538 0.04063333 0.03968052 0.02676756 0.02157504\n",
      " 0.01694559 0.02084567 0.01886983 0.01731995 0.02051251 0.02248815\n",
      " 0.022868   0.02672863 0.02537096 0.02582968 0.02294988]\n",
      "Training Features Shape: (750, 35)\n",
      "Training Labels Shape: (750,)\n",
      "Testing Features Shape: (250, 35)\n",
      "Testing Labels Shape: (250,)\n"
     ]
    },
    {
     "name": "stderr",
     "output_type": "stream",
     "text": [
      "C:\\Users\\alvar\\anaconda3\\envs\\python37\\lib\\site-packages\\sklearn\\utils\\validation.py:70: FutureWarning: Pass labels=['Blues' 'Classical' 'Country' 'Disco' 'Hiphop' 'Jazz' 'Metal' 'Pop'\n",
      " 'Reggae' 'Rock'] as keyword args. From version 0.25 passing these as positional arguments will result in an error\n",
      "  FutureWarning)\n"
     ]
    },
    {
     "name": "stdout",
     "output_type": "stream",
     "text": [
      "Features Importances\n",
      "[0.02761631 0.03162234 0.03171556 0.0159252  0.03475586 0.02655988\n",
      " 0.01554643 0.03068351 0.04435074 0.03443989 0.0387999  0.0363217\n",
      " 0.03626705 0.0331103  0.0454641  0.04968991 0.02654866 0.01590968\n",
      " 0.02834867 0.03195426 0.03927141 0.03310247 0.02407485 0.02347062\n",
      " 0.01626566 0.02261789 0.01745419 0.01673444 0.02080223 0.02016557\n",
      " 0.02188068 0.02754393 0.02567929 0.03068822 0.02461859]\n",
      "Training Features Shape: (750, 35)\n",
      "Training Labels Shape: (750,)\n",
      "Testing Features Shape: (250, 35)\n",
      "Testing Labels Shape: (250,)\n"
     ]
    },
    {
     "name": "stderr",
     "output_type": "stream",
     "text": [
      "C:\\Users\\alvar\\anaconda3\\envs\\python37\\lib\\site-packages\\sklearn\\utils\\validation.py:70: FutureWarning: Pass labels=['Blues' 'Classical' 'Country' 'Disco' 'Hiphop' 'Jazz' 'Metal' 'Pop'\n",
      " 'Reggae' 'Rock'] as keyword args. From version 0.25 passing these as positional arguments will result in an error\n",
      "  FutureWarning)\n"
     ]
    },
    {
     "name": "stdout",
     "output_type": "stream",
     "text": [
      "Features Importances\n",
      "[0.02718637 0.03011978 0.0315091  0.01570925 0.03876443 0.02629943\n",
      " 0.01627775 0.02705515 0.04728116 0.03529599 0.04329265 0.03379635\n",
      " 0.03190451 0.03123688 0.04285941 0.05134105 0.02697766 0.01685048\n",
      " 0.02837766 0.03006158 0.04082059 0.03748537 0.02306306 0.02157086\n",
      " 0.01619033 0.02236051 0.01832253 0.01704527 0.02088822 0.01876239\n",
      " 0.02335693 0.02895498 0.02608218 0.02936222 0.02353795]\n",
      "Training Features Shape: (750, 35)\n",
      "Training Labels Shape: (750,)\n",
      "Testing Features Shape: (250, 35)\n",
      "Testing Labels Shape: (250,)\n"
     ]
    },
    {
     "name": "stderr",
     "output_type": "stream",
     "text": [
      "C:\\Users\\alvar\\anaconda3\\envs\\python37\\lib\\site-packages\\sklearn\\utils\\validation.py:70: FutureWarning: Pass labels=['Blues' 'Classical' 'Country' 'Disco' 'Hiphop' 'Jazz' 'Metal' 'Pop'\n",
      " 'Reggae' 'Rock'] as keyword args. From version 0.25 passing these as positional arguments will result in an error\n",
      "  FutureWarning)\n"
     ]
    },
    {
     "name": "stdout",
     "output_type": "stream",
     "text": [
      "Features Importances\n",
      "[0.02921791 0.03103517 0.03381393 0.01732587 0.03597818 0.02628319\n",
      " 0.01773152 0.02855561 0.04238593 0.03518041 0.0407721  0.03667333\n",
      " 0.03929687 0.03277247 0.04406915 0.04675028 0.02557429 0.01677741\n",
      " 0.02832342 0.03045243 0.03752215 0.03486512 0.02376909 0.02210159\n",
      " 0.0156216  0.02129372 0.01865906 0.01791021 0.0217864  0.01903631\n",
      " 0.02225949 0.02723665 0.02596689 0.02785458 0.02514767]\n",
      "Training Features Shape: (750, 35)\n",
      "Training Labels Shape: (750,)\n",
      "Testing Features Shape: (250, 35)\n",
      "Testing Labels Shape: (250,)\n"
     ]
    },
    {
     "name": "stderr",
     "output_type": "stream",
     "text": [
      "C:\\Users\\alvar\\anaconda3\\envs\\python37\\lib\\site-packages\\sklearn\\utils\\validation.py:70: FutureWarning: Pass labels=['Blues' 'Classical' 'Country' 'Disco' 'Hiphop' 'Jazz' 'Metal' 'Pop'\n",
      " 'Reggae' 'Rock'] as keyword args. From version 0.25 passing these as positional arguments will result in an error\n",
      "  FutureWarning)\n"
     ]
    },
    {
     "name": "stdout",
     "output_type": "stream",
     "text": [
      "Features Importances\n",
      "[0.02808989 0.03185017 0.0343842  0.01632761 0.03587222 0.02652138\n",
      " 0.01550194 0.02723213 0.04224168 0.03509665 0.04037302 0.03482334\n",
      " 0.03401753 0.03348829 0.04159384 0.04874425 0.02647235 0.01529558\n",
      " 0.02939173 0.02880466 0.03867308 0.03505932 0.02653971 0.02148923\n",
      " 0.01626722 0.02369794 0.01818002 0.01794162 0.02115757 0.02010981\n",
      " 0.0237113  0.02574778 0.02940521 0.03086112 0.0250366 ]\n",
      "Training Features Shape: (750, 35)\n",
      "Training Labels Shape: (750,)\n",
      "Testing Features Shape: (250, 35)\n",
      "Testing Labels Shape: (250,)\n"
     ]
    },
    {
     "name": "stderr",
     "output_type": "stream",
     "text": [
      "C:\\Users\\alvar\\anaconda3\\envs\\python37\\lib\\site-packages\\sklearn\\utils\\validation.py:70: FutureWarning: Pass labels=['Blues' 'Classical' 'Country' 'Disco' 'Hiphop' 'Jazz' 'Metal' 'Pop'\n",
      " 'Reggae' 'Rock'] as keyword args. From version 0.25 passing these as positional arguments will result in an error\n",
      "  FutureWarning)\n"
     ]
    },
    {
     "name": "stdout",
     "output_type": "stream",
     "text": [
      "Features Importances\n",
      "[0.02769529 0.03046112 0.03002451 0.01621752 0.04090293 0.02668569\n",
      " 0.01659968 0.02747694 0.04399819 0.03575858 0.04544357 0.03336811\n",
      " 0.0363765  0.02945115 0.03898449 0.04906147 0.02780665 0.01652324\n",
      " 0.02755518 0.0293321  0.03852385 0.0352388  0.02462736 0.02295375\n",
      " 0.01700585 0.02272955 0.01932848 0.01798392 0.022249   0.02276859\n",
      " 0.02157118 0.02537609 0.02728836 0.02866008 0.02397222]\n",
      "Training Features Shape: (750, 35)\n",
      "Training Labels Shape: (750,)\n",
      "Testing Features Shape: (250, 35)\n",
      "Testing Labels Shape: (250,)\n"
     ]
    },
    {
     "name": "stderr",
     "output_type": "stream",
     "text": [
      "C:\\Users\\alvar\\anaconda3\\envs\\python37\\lib\\site-packages\\sklearn\\utils\\validation.py:70: FutureWarning: Pass labels=['Blues' 'Classical' 'Country' 'Disco' 'Hiphop' 'Jazz' 'Metal' 'Pop'\n",
      " 'Reggae' 'Rock'] as keyword args. From version 0.25 passing these as positional arguments will result in an error\n",
      "  FutureWarning)\n"
     ]
    },
    {
     "name": "stdout",
     "output_type": "stream",
     "text": [
      "Features Importances\n",
      "[0.02868969 0.02777568 0.03462068 0.01643292 0.03648277 0.02591358\n",
      " 0.01641127 0.02886914 0.04498044 0.03616596 0.04117551 0.03594937\n",
      " 0.03471913 0.03472734 0.042455   0.04662859 0.02702017 0.01634354\n",
      " 0.02698932 0.02944672 0.04075385 0.0371734  0.02440135 0.02095834\n",
      " 0.01689981 0.02152123 0.01868864 0.01841939 0.02357752 0.02039879\n",
      " 0.02510063 0.0249199  0.02576757 0.02747492 0.02214784]\n",
      "Training Features Shape: (750, 35)\n",
      "Training Labels Shape: (750,)\n",
      "Testing Features Shape: (250, 35)\n",
      "Testing Labels Shape: (250,)\n"
     ]
    },
    {
     "name": "stderr",
     "output_type": "stream",
     "text": [
      "C:\\Users\\alvar\\anaconda3\\envs\\python37\\lib\\site-packages\\sklearn\\utils\\validation.py:70: FutureWarning: Pass labels=['Blues' 'Classical' 'Country' 'Disco' 'Hiphop' 'Jazz' 'Metal' 'Pop'\n",
      " 'Reggae' 'Rock'] as keyword args. From version 0.25 passing these as positional arguments will result in an error\n",
      "  FutureWarning)\n"
     ]
    },
    {
     "name": "stdout",
     "output_type": "stream",
     "text": [
      "Features Importances\n",
      "[0.02876348 0.02748579 0.03287288 0.01579628 0.03558448 0.02690631\n",
      " 0.0157531  0.02867919 0.04010816 0.03791701 0.04593744 0.03792348\n",
      " 0.03938323 0.03253341 0.04191333 0.04637372 0.02685004 0.01691415\n",
      " 0.0289226  0.03042669 0.03837106 0.03704928 0.02173677 0.02091059\n",
      " 0.01632618 0.02121867 0.01964066 0.0182986  0.02163277 0.02005937\n",
      " 0.02149435 0.02555675 0.02771667 0.02924126 0.02370227]\n",
      "Training Features Shape: (750, 35)\n",
      "Training Labels Shape: (750,)\n",
      "Testing Features Shape: (250, 35)\n",
      "Testing Labels Shape: (250,)\n"
     ]
    },
    {
     "name": "stderr",
     "output_type": "stream",
     "text": [
      "C:\\Users\\alvar\\anaconda3\\envs\\python37\\lib\\site-packages\\sklearn\\utils\\validation.py:70: FutureWarning: Pass labels=['Blues' 'Classical' 'Country' 'Disco' 'Hiphop' 'Jazz' 'Metal' 'Pop'\n",
      " 'Reggae' 'Rock'] as keyword args. From version 0.25 passing these as positional arguments will result in an error\n",
      "  FutureWarning)\n"
     ]
    },
    {
     "name": "stdout",
     "output_type": "stream",
     "text": [
      "Features Importances\n",
      "[0.0267805  0.02604608 0.03050652 0.01620815 0.03920234 0.02786778\n",
      " 0.0165898  0.02928083 0.04321761 0.03585491 0.04290835 0.03608997\n",
      " 0.03623341 0.0289086  0.04184973 0.04783229 0.02645951 0.01639378\n",
      " 0.02631536 0.02656868 0.04181187 0.03871773 0.0226123  0.02312013\n",
      " 0.01721089 0.0206958  0.02026166 0.01893353 0.02264096 0.02228422\n",
      " 0.02229681 0.02775122 0.02664618 0.02776065 0.02614183]\n",
      "Training Features Shape: (750, 35)\n",
      "Training Labels Shape: (750,)\n",
      "Testing Features Shape: (250, 35)\n",
      "Testing Labels Shape: (250,)\n"
     ]
    },
    {
     "name": "stderr",
     "output_type": "stream",
     "text": [
      "C:\\Users\\alvar\\anaconda3\\envs\\python37\\lib\\site-packages\\sklearn\\utils\\validation.py:70: FutureWarning: Pass labels=['Blues' 'Classical' 'Country' 'Disco' 'Hiphop' 'Jazz' 'Metal' 'Pop'\n",
      " 'Reggae' 'Rock'] as keyword args. From version 0.25 passing these as positional arguments will result in an error\n",
      "  FutureWarning)\n"
     ]
    },
    {
     "name": "stdout",
     "output_type": "stream",
     "text": [
      "Features Importances\n",
      "[0.02663062 0.03008066 0.03230472 0.01490789 0.03867657 0.02450947\n",
      " 0.01634678 0.02970029 0.04127764 0.03854012 0.04316747 0.03607498\n",
      " 0.03820339 0.03284109 0.04145951 0.05076784 0.0238325  0.01667958\n",
      " 0.02595581 0.02899877 0.0386769  0.03723574 0.0233681  0.02210619\n",
      " 0.01667405 0.02181796 0.01923082 0.01762089 0.02122941 0.02085617\n",
      " 0.02312161 0.02609302 0.02787639 0.03005686 0.02308016]\n",
      "Training Features Shape: (750, 35)\n",
      "Training Labels Shape: (750,)\n",
      "Testing Features Shape: (250, 35)\n",
      "Testing Labels Shape: (250,)\n"
     ]
    },
    {
     "name": "stderr",
     "output_type": "stream",
     "text": [
      "C:\\Users\\alvar\\anaconda3\\envs\\python37\\lib\\site-packages\\sklearn\\utils\\validation.py:70: FutureWarning: Pass labels=['Blues' 'Classical' 'Country' 'Disco' 'Hiphop' 'Jazz' 'Metal' 'Pop'\n",
      " 'Reggae' 'Rock'] as keyword args. From version 0.25 passing these as positional arguments will result in an error\n",
      "  FutureWarning)\n"
     ]
    },
    {
     "name": "stdout",
     "output_type": "stream",
     "text": [
      "Features Importances\n",
      "[0.02975534 0.03097065 0.03177695 0.0168759  0.03573003 0.02394215\n",
      " 0.01578574 0.02963174 0.0465811  0.0368371  0.0424135  0.03674333\n",
      " 0.0360642  0.03162464 0.04414377 0.05187622 0.02404117 0.01534373\n",
      " 0.02795224 0.02906388 0.03817073 0.03501376 0.02437139 0.02105126\n",
      " 0.01712655 0.02222305 0.01862871 0.01807581 0.02294869 0.02123687\n",
      " 0.02300772 0.02647341 0.02472542 0.02660298 0.02319027]\n",
      "Training Features Shape: (750, 35)\n",
      "Training Labels Shape: (750,)\n",
      "Testing Features Shape: (250, 35)\n",
      "Testing Labels Shape: (250,)\n"
     ]
    },
    {
     "name": "stderr",
     "output_type": "stream",
     "text": [
      "C:\\Users\\alvar\\anaconda3\\envs\\python37\\lib\\site-packages\\sklearn\\utils\\validation.py:70: FutureWarning: Pass labels=['Blues' 'Classical' 'Country' 'Disco' 'Hiphop' 'Jazz' 'Metal' 'Pop'\n",
      " 'Reggae' 'Rock'] as keyword args. From version 0.25 passing these as positional arguments will result in an error\n",
      "  FutureWarning)\n"
     ]
    },
    {
     "name": "stdout",
     "output_type": "stream",
     "text": [
      "Features Importances\n",
      "[0.02714123 0.0267928  0.03249389 0.0166274  0.03545443 0.02660323\n",
      " 0.01744329 0.02880715 0.04711424 0.03800007 0.04433187 0.03757452\n",
      " 0.0368205  0.03340739 0.04358828 0.04625677 0.0272142  0.01667024\n",
      " 0.02737221 0.02884392 0.03673142 0.0362719  0.02356835 0.02150125\n",
      " 0.01526628 0.01976968 0.01868665 0.01767923 0.0227424  0.01989116\n",
      " 0.02261564 0.02676609 0.02696711 0.02994709 0.02303812]\n",
      "Training Features Shape: (750, 35)\n",
      "Training Labels Shape: (750,)\n",
      "Testing Features Shape: (250, 35)\n",
      "Testing Labels Shape: (250,)\n"
     ]
    },
    {
     "name": "stderr",
     "output_type": "stream",
     "text": [
      "C:\\Users\\alvar\\anaconda3\\envs\\python37\\lib\\site-packages\\sklearn\\utils\\validation.py:70: FutureWarning: Pass labels=['Blues' 'Classical' 'Country' 'Disco' 'Hiphop' 'Jazz' 'Metal' 'Pop'\n",
      " 'Reggae' 'Rock'] as keyword args. From version 0.25 passing these as positional arguments will result in an error\n",
      "  FutureWarning)\n"
     ]
    },
    {
     "name": "stdout",
     "output_type": "stream",
     "text": [
      "Features Importances\n",
      "[0.02865746 0.03064971 0.02978742 0.01519826 0.03620172 0.02593137\n",
      " 0.01744304 0.02831179 0.04667912 0.03583414 0.04640107 0.03404263\n",
      " 0.03446665 0.02910501 0.04275689 0.04678056 0.02556981 0.016948\n",
      " 0.02830164 0.0298515  0.03850951 0.03659616 0.02734832 0.02190522\n",
      " 0.01630942 0.02222891 0.01862502 0.0159872  0.02199916 0.02120629\n",
      " 0.02538344 0.02658148 0.02569486 0.02917182 0.02353541]\n",
      "Training Features Shape: (750, 35)\n",
      "Training Labels Shape: (750,)\n",
      "Testing Features Shape: (250, 35)\n",
      "Testing Labels Shape: (250,)\n"
     ]
    },
    {
     "name": "stderr",
     "output_type": "stream",
     "text": [
      "C:\\Users\\alvar\\anaconda3\\envs\\python37\\lib\\site-packages\\sklearn\\utils\\validation.py:70: FutureWarning: Pass labels=['Blues' 'Classical' 'Country' 'Disco' 'Hiphop' 'Jazz' 'Metal' 'Pop'\n",
      " 'Reggae' 'Rock'] as keyword args. From version 0.25 passing these as positional arguments will result in an error\n",
      "  FutureWarning)\n"
     ]
    },
    {
     "name": "stdout",
     "output_type": "stream",
     "text": [
      "Features Importances\n",
      "[0.02703137 0.02822549 0.0305806  0.01548373 0.03790165 0.02707219\n",
      " 0.01655011 0.02838075 0.04250664 0.03733332 0.04362771 0.03588709\n",
      " 0.03578746 0.03111245 0.04442189 0.05112926 0.02796813 0.01640256\n",
      " 0.0282226  0.02832654 0.0385041  0.03445929 0.02459066 0.02189095\n",
      " 0.01719853 0.02320088 0.02014798 0.01750847 0.02314426 0.02105535\n",
      " 0.02166729 0.02638554 0.02428667 0.02740649 0.02460201]\n",
      "Training Features Shape: (750, 35)\n",
      "Training Labels Shape: (750,)\n",
      "Testing Features Shape: (250, 35)\n",
      "Testing Labels Shape: (250,)\n"
     ]
    },
    {
     "name": "stderr",
     "output_type": "stream",
     "text": [
      "C:\\Users\\alvar\\anaconda3\\envs\\python37\\lib\\site-packages\\sklearn\\utils\\validation.py:70: FutureWarning: Pass labels=['Blues' 'Classical' 'Country' 'Disco' 'Hiphop' 'Jazz' 'Metal' 'Pop'\n",
      " 'Reggae' 'Rock'] as keyword args. From version 0.25 passing these as positional arguments will result in an error\n",
      "  FutureWarning)\n"
     ]
    },
    {
     "name": "stdout",
     "output_type": "stream",
     "text": [
      "Features Importances\n",
      "[0.02985874 0.02938593 0.0305082  0.01644736 0.03862099 0.02648418\n",
      " 0.01470042 0.02931253 0.04601769 0.03485509 0.04095564 0.03718038\n",
      " 0.0357061  0.03072933 0.04239094 0.04868078 0.027167   0.01470562\n",
      " 0.02971772 0.0264591  0.04060283 0.04069391 0.02329215 0.02166716\n",
      " 0.0166532  0.02217033 0.01920615 0.01827732 0.02130641 0.02125567\n",
      " 0.02239844 0.02638008 0.02540811 0.02759945 0.02320505]\n",
      "Training Features Shape: (750, 35)\n",
      "Training Labels Shape: (750,)\n",
      "Testing Features Shape: (250, 35)\n",
      "Testing Labels Shape: (250,)\n"
     ]
    },
    {
     "name": "stderr",
     "output_type": "stream",
     "text": [
      "C:\\Users\\alvar\\anaconda3\\envs\\python37\\lib\\site-packages\\sklearn\\utils\\validation.py:70: FutureWarning: Pass labels=['Blues' 'Classical' 'Country' 'Disco' 'Hiphop' 'Jazz' 'Metal' 'Pop'\n",
      " 'Reggae' 'Rock'] as keyword args. From version 0.25 passing these as positional arguments will result in an error\n",
      "  FutureWarning)\n"
     ]
    },
    {
     "name": "stdout",
     "output_type": "stream",
     "text": [
      "Features Importances\n",
      "[0.02947199 0.03286779 0.03264106 0.01544953 0.03885142 0.02626343\n",
      " 0.01691963 0.03132731 0.04233108 0.03473302 0.04472211 0.03483792\n",
      " 0.0364233  0.03157484 0.04325898 0.05086841 0.02495371 0.01678833\n",
      " 0.02924578 0.02931108 0.03690459 0.03243814 0.02323249 0.02110949\n",
      " 0.01680727 0.02213666 0.0184649  0.01784854 0.02043648 0.02017086\n",
      " 0.02288458 0.0277033  0.02417706 0.0281768  0.02466814]\n",
      "Training Features Shape: (750, 35)\n",
      "Training Labels Shape: (750,)\n",
      "Testing Features Shape: (250, 35)\n",
      "Testing Labels Shape: (250,)\n"
     ]
    },
    {
     "name": "stderr",
     "output_type": "stream",
     "text": [
      "C:\\Users\\alvar\\anaconda3\\envs\\python37\\lib\\site-packages\\sklearn\\utils\\validation.py:70: FutureWarning: Pass labels=['Blues' 'Classical' 'Country' 'Disco' 'Hiphop' 'Jazz' 'Metal' 'Pop'\n",
      " 'Reggae' 'Rock'] as keyword args. From version 0.25 passing these as positional arguments will result in an error\n",
      "  FutureWarning)\n"
     ]
    },
    {
     "name": "stdout",
     "output_type": "stream",
     "text": [
      "Features Importances\n",
      "[0.02805196 0.02811611 0.03002462 0.01783858 0.03520512 0.02702828\n",
      " 0.01657971 0.02930218 0.05066511 0.03570041 0.04215925 0.03617665\n",
      " 0.03379156 0.03090105 0.04598542 0.04949676 0.02628386 0.01642125\n",
      " 0.02872915 0.029954   0.03847247 0.03280525 0.0225909  0.02169774\n",
      " 0.01636747 0.02214477 0.01897831 0.01761419 0.02013981 0.0202608\n",
      " 0.02264959 0.02694577 0.02937673 0.02749093 0.02405419]\n",
      "Training Features Shape: (750, 35)\n",
      "Training Labels Shape: (750,)\n",
      "Testing Features Shape: (250, 35)\n",
      "Testing Labels Shape: (250,)\n"
     ]
    },
    {
     "name": "stderr",
     "output_type": "stream",
     "text": [
      "C:\\Users\\alvar\\anaconda3\\envs\\python37\\lib\\site-packages\\sklearn\\utils\\validation.py:70: FutureWarning: Pass labels=['Blues' 'Classical' 'Country' 'Disco' 'Hiphop' 'Jazz' 'Metal' 'Pop'\n",
      " 'Reggae' 'Rock'] as keyword args. From version 0.25 passing these as positional arguments will result in an error\n",
      "  FutureWarning)\n"
     ]
    },
    {
     "name": "stdout",
     "output_type": "stream",
     "text": [
      "Features Importances\n",
      "[0.02710795 0.02926264 0.03088519 0.01511109 0.03963008 0.02376986\n",
      " 0.01697848 0.02849175 0.04288055 0.03817306 0.04414813 0.03565729\n",
      " 0.03454423 0.03122352 0.04383028 0.05271237 0.02498756 0.0174325\n",
      " 0.02982756 0.03061426 0.03612093 0.03441504 0.02366005 0.02114427\n",
      " 0.01600468 0.02140574 0.01825192 0.01729414 0.02147966 0.01959874\n",
      " 0.02249258 0.02679951 0.0292925  0.02895201 0.02581985]\n",
      "Training Features Shape: (750, 35)\n",
      "Training Labels Shape: (750,)\n",
      "Testing Features Shape: (250, 35)\n",
      "Testing Labels Shape: (250,)\n"
     ]
    },
    {
     "name": "stderr",
     "output_type": "stream",
     "text": [
      "C:\\Users\\alvar\\anaconda3\\envs\\python37\\lib\\site-packages\\sklearn\\utils\\validation.py:70: FutureWarning: Pass labels=['Blues' 'Classical' 'Country' 'Disco' 'Hiphop' 'Jazz' 'Metal' 'Pop'\n",
      " 'Reggae' 'Rock'] as keyword args. From version 0.25 passing these as positional arguments will result in an error\n",
      "  FutureWarning)\n"
     ]
    },
    {
     "name": "stdout",
     "output_type": "stream",
     "text": [
      "Features Importances\n",
      "[0.02632935 0.02856695 0.02949607 0.01470141 0.0365293  0.0268587\n",
      " 0.01805707 0.02936998 0.04405887 0.03575125 0.04621402 0.03655398\n",
      " 0.03817137 0.0294404  0.04326137 0.04994058 0.02670784 0.01854688\n",
      " 0.0283517  0.02863225 0.03901607 0.03461107 0.02432205 0.0212448\n",
      " 0.01591181 0.02004099 0.01742733 0.01754262 0.02148645 0.02274459\n",
      " 0.0230471  0.02592683 0.02624134 0.03015391 0.02474371]\n",
      "Training Features Shape: (750, 35)\n",
      "Training Labels Shape: (750,)\n",
      "Testing Features Shape: (250, 35)\n",
      "Testing Labels Shape: (250,)\n"
     ]
    },
    {
     "name": "stderr",
     "output_type": "stream",
     "text": [
      "C:\\Users\\alvar\\anaconda3\\envs\\python37\\lib\\site-packages\\sklearn\\utils\\validation.py:70: FutureWarning: Pass labels=['Blues' 'Classical' 'Country' 'Disco' 'Hiphop' 'Jazz' 'Metal' 'Pop'\n",
      " 'Reggae' 'Rock'] as keyword args. From version 0.25 passing these as positional arguments will result in an error\n",
      "  FutureWarning)\n"
     ]
    },
    {
     "name": "stdout",
     "output_type": "stream",
     "text": [
      "Features Importances\n",
      "[0.02748399 0.02801035 0.03179218 0.01632424 0.03857995 0.02702624\n",
      " 0.01597238 0.03253505 0.04287907 0.03440659 0.03939581 0.03523168\n",
      " 0.03489437 0.03178558 0.04345937 0.04862259 0.02737851 0.01602553\n",
      " 0.02688761 0.02893315 0.03937646 0.03459201 0.02507559 0.02297047\n",
      " 0.01663667 0.02246559 0.02018363 0.01929979 0.02339179 0.02101763\n",
      " 0.02303461 0.02493724 0.02634044 0.02738585 0.02566797]\n",
      "Training Features Shape: (750, 35)\n",
      "Training Labels Shape: (750,)\n",
      "Testing Features Shape: (250, 35)\n",
      "Testing Labels Shape: (250,)\n"
     ]
    },
    {
     "name": "stderr",
     "output_type": "stream",
     "text": [
      "C:\\Users\\alvar\\anaconda3\\envs\\python37\\lib\\site-packages\\sklearn\\utils\\validation.py:70: FutureWarning: Pass labels=['Blues' 'Classical' 'Country' 'Disco' 'Hiphop' 'Jazz' 'Metal' 'Pop'\n",
      " 'Reggae' 'Rock'] as keyword args. From version 0.25 passing these as positional arguments will result in an error\n",
      "  FutureWarning)\n"
     ]
    },
    {
     "name": "stdout",
     "output_type": "stream",
     "text": [
      "Features Importances\n",
      "[0.02801402 0.03034157 0.03166776 0.01545029 0.03808983 0.02604313\n",
      " 0.01566149 0.02971292 0.04406332 0.03776827 0.04602351 0.03464785\n",
      " 0.03185059 0.03293476 0.04435561 0.05051186 0.02494423 0.01687321\n",
      " 0.02893515 0.02969006 0.04040886 0.03504365 0.02339149 0.02143159\n",
      " 0.01579596 0.02296618 0.0179404  0.01807241 0.02160047 0.01842208\n",
      " 0.02202055 0.0292406  0.02332773 0.0280124  0.02474622]\n",
      "Training Features Shape: (750, 35)\n",
      "Training Labels Shape: (750,)\n",
      "Testing Features Shape: (250, 35)\n",
      "Testing Labels Shape: (250,)\n"
     ]
    },
    {
     "name": "stderr",
     "output_type": "stream",
     "text": [
      "C:\\Users\\alvar\\anaconda3\\envs\\python37\\lib\\site-packages\\sklearn\\utils\\validation.py:70: FutureWarning: Pass labels=['Blues' 'Classical' 'Country' 'Disco' 'Hiphop' 'Jazz' 'Metal' 'Pop'\n",
      " 'Reggae' 'Rock'] as keyword args. From version 0.25 passing these as positional arguments will result in an error\n",
      "  FutureWarning)\n"
     ]
    },
    {
     "name": "stdout",
     "output_type": "stream",
     "text": [
      "Features Importances\n",
      "[0.02766859 0.02772224 0.03059152 0.01599992 0.04008771 0.02445467\n",
      " 0.01906935 0.02998638 0.04367479 0.036063   0.04195131 0.03153285\n",
      " 0.03545717 0.03100549 0.04360196 0.05084652 0.02435773 0.01917009\n",
      " 0.02805572 0.02916815 0.04023944 0.03675241 0.02190251 0.02132691\n",
      " 0.01637124 0.02180425 0.01992145 0.01789225 0.02282419 0.02063493\n",
      " 0.02366633 0.02385126 0.02638614 0.02750613 0.0284554 ]\n",
      "Training Features Shape: (750, 35)\n",
      "Training Labels Shape: (750,)\n",
      "Testing Features Shape: (250, 35)\n",
      "Testing Labels Shape: (250,)\n"
     ]
    },
    {
     "name": "stderr",
     "output_type": "stream",
     "text": [
      "C:\\Users\\alvar\\anaconda3\\envs\\python37\\lib\\site-packages\\sklearn\\utils\\validation.py:70: FutureWarning: Pass labels=['Blues' 'Classical' 'Country' 'Disco' 'Hiphop' 'Jazz' 'Metal' 'Pop'\n",
      " 'Reggae' 'Rock'] as keyword args. From version 0.25 passing these as positional arguments will result in an error\n",
      "  FutureWarning)\n"
     ]
    },
    {
     "name": "stdout",
     "output_type": "stream",
     "text": [
      "Features Importances\n",
      "[0.02942375 0.02805196 0.0304139  0.01656389 0.04417546 0.02451015\n",
      " 0.01587415 0.02960575 0.04328466 0.03658541 0.04199129 0.03800017\n",
      " 0.03663596 0.03042431 0.04361825 0.05123869 0.02531744 0.01530065\n",
      " 0.02941418 0.02948634 0.03822073 0.03514215 0.02226027 0.02274546\n",
      " 0.0159447  0.02074203 0.01939874 0.01696313 0.02187342 0.02013784\n",
      " 0.02174881 0.02491175 0.02692223 0.02971872 0.02335365]\n",
      "Training Features Shape: (750, 35)\n",
      "Training Labels Shape: (750,)\n",
      "Testing Features Shape: (250, 35)\n",
      "Testing Labels Shape: (250,)\n"
     ]
    },
    {
     "name": "stderr",
     "output_type": "stream",
     "text": [
      "C:\\Users\\alvar\\anaconda3\\envs\\python37\\lib\\site-packages\\sklearn\\utils\\validation.py:70: FutureWarning: Pass labels=['Blues' 'Classical' 'Country' 'Disco' 'Hiphop' 'Jazz' 'Metal' 'Pop'\n",
      " 'Reggae' 'Rock'] as keyword args. From version 0.25 passing these as positional arguments will result in an error\n",
      "  FutureWarning)\n"
     ]
    },
    {
     "name": "stdout",
     "output_type": "stream",
     "text": [
      "Features Importances\n",
      "[0.0300943  0.03105887 0.02979349 0.0160338  0.03856364 0.02592471\n",
      " 0.01692322 0.02961132 0.0444268  0.03498502 0.04372481 0.03569311\n",
      " 0.03218726 0.0293899  0.04412866 0.04931076 0.02552299 0.01700281\n",
      " 0.02959058 0.02929006 0.04101404 0.03370208 0.02251614 0.0217964\n",
      " 0.0171352  0.02351879 0.01789389 0.01883569 0.02316861 0.02018756\n",
      " 0.02299828 0.02541018 0.02485927 0.02875314 0.02495461]\n",
      "Training Features Shape: (750, 35)\n",
      "Training Labels Shape: (750,)\n",
      "Testing Features Shape: (250, 35)\n",
      "Testing Labels Shape: (250,)\n"
     ]
    },
    {
     "name": "stderr",
     "output_type": "stream",
     "text": [
      "C:\\Users\\alvar\\anaconda3\\envs\\python37\\lib\\site-packages\\sklearn\\utils\\validation.py:70: FutureWarning: Pass labels=['Blues' 'Classical' 'Country' 'Disco' 'Hiphop' 'Jazz' 'Metal' 'Pop'\n",
      " 'Reggae' 'Rock'] as keyword args. From version 0.25 passing these as positional arguments will result in an error\n",
      "  FutureWarning)\n"
     ]
    },
    {
     "name": "stdout",
     "output_type": "stream",
     "text": [
      "Features Importances\n",
      "[0.02605757 0.02798364 0.03129189 0.01662838 0.03855888 0.02762541\n",
      " 0.01568095 0.02759873 0.04204882 0.03653776 0.04391129 0.03559832\n",
      " 0.03444601 0.03184668 0.04081617 0.04761474 0.02805048 0.01591034\n",
      " 0.02778337 0.02805632 0.039099   0.03810524 0.02663551 0.02289574\n",
      " 0.01634247 0.02240967 0.01905733 0.01727396 0.021995   0.02227567\n",
      " 0.02150589 0.02550079 0.02804293 0.02974357 0.02507148]\n",
      "Training Features Shape: (750, 35)\n",
      "Training Labels Shape: (750,)\n",
      "Testing Features Shape: (250, 35)\n",
      "Testing Labels Shape: (250,)\n"
     ]
    },
    {
     "name": "stderr",
     "output_type": "stream",
     "text": [
      "C:\\Users\\alvar\\anaconda3\\envs\\python37\\lib\\site-packages\\sklearn\\utils\\validation.py:70: FutureWarning: Pass labels=['Blues' 'Classical' 'Country' 'Disco' 'Hiphop' 'Jazz' 'Metal' 'Pop'\n",
      " 'Reggae' 'Rock'] as keyword args. From version 0.25 passing these as positional arguments will result in an error\n",
      "  FutureWarning)\n"
     ]
    },
    {
     "name": "stdout",
     "output_type": "stream",
     "text": [
      "Features Importances\n",
      "[0.02903419 0.02809921 0.02987578 0.01561642 0.03792069 0.0247003\n",
      " 0.01770798 0.03069061 0.04542548 0.03534948 0.04332362 0.03646124\n",
      " 0.03730288 0.03092707 0.04401435 0.04349056 0.02505836 0.01799532\n",
      " 0.02850146 0.02998349 0.0379687  0.03478353 0.02425051 0.0218058\n",
      " 0.0162574  0.02081539 0.01859176 0.01899966 0.02328341 0.02037977\n",
      " 0.02631593 0.02715016 0.02703398 0.02710466 0.02378087]\n",
      "Training Features Shape: (750, 35)\n",
      "Training Labels Shape: (750,)\n",
      "Testing Features Shape: (250, 35)\n",
      "Testing Labels Shape: (250,)\n"
     ]
    },
    {
     "name": "stderr",
     "output_type": "stream",
     "text": [
      "C:\\Users\\alvar\\anaconda3\\envs\\python37\\lib\\site-packages\\sklearn\\utils\\validation.py:70: FutureWarning: Pass labels=['Blues' 'Classical' 'Country' 'Disco' 'Hiphop' 'Jazz' 'Metal' 'Pop'\n",
      " 'Reggae' 'Rock'] as keyword args. From version 0.25 passing these as positional arguments will result in an error\n",
      "  FutureWarning)\n"
     ]
    },
    {
     "name": "stdout",
     "output_type": "stream",
     "text": [
      "Features Importances\n",
      "[0.02924893 0.03060335 0.03086529 0.0162518  0.03612944 0.02528296\n",
      " 0.01567634 0.03030406 0.04371864 0.03731567 0.03992934 0.03835158\n",
      " 0.03797084 0.03168926 0.04301896 0.05060751 0.02524023 0.01569439\n",
      " 0.02875257 0.02860119 0.03859216 0.03752447 0.02383691 0.02239983\n",
      " 0.0166643  0.02060161 0.01786523 0.01736728 0.02308248 0.02114767\n",
      " 0.02270282 0.02484798 0.02503545 0.02989091 0.02318856]\n",
      "Training Features Shape: (750, 35)\n",
      "Training Labels Shape: (750,)\n",
      "Testing Features Shape: (250, 35)\n",
      "Testing Labels Shape: (250,)\n"
     ]
    },
    {
     "name": "stderr",
     "output_type": "stream",
     "text": [
      "C:\\Users\\alvar\\anaconda3\\envs\\python37\\lib\\site-packages\\sklearn\\utils\\validation.py:70: FutureWarning: Pass labels=['Blues' 'Classical' 'Country' 'Disco' 'Hiphop' 'Jazz' 'Metal' 'Pop'\n",
      " 'Reggae' 'Rock'] as keyword args. From version 0.25 passing these as positional arguments will result in an error\n",
      "  FutureWarning)\n"
     ]
    },
    {
     "name": "stdout",
     "output_type": "stream",
     "text": [
      "Features Importances\n",
      "[0.02981053 0.02987611 0.02972014 0.01547858 0.03708128 0.02641496\n",
      " 0.01515989 0.02941823 0.04203717 0.03523281 0.04629017 0.03708873\n",
      " 0.03583734 0.02941877 0.04299821 0.05109651 0.02585487 0.01519611\n",
      " 0.02972523 0.02796622 0.04011366 0.0321023  0.02681724 0.02290889\n",
      " 0.01707039 0.02096659 0.01984528 0.01903946 0.02196569 0.01881957\n",
      " 0.02039997 0.02768887 0.02526917 0.02926579 0.02602525]\n",
      "Training Features Shape: (750, 35)\n",
      "Training Labels Shape: (750,)\n",
      "Testing Features Shape: (250, 35)\n",
      "Testing Labels Shape: (250,)\n"
     ]
    },
    {
     "name": "stderr",
     "output_type": "stream",
     "text": [
      "C:\\Users\\alvar\\anaconda3\\envs\\python37\\lib\\site-packages\\sklearn\\utils\\validation.py:70: FutureWarning: Pass labels=['Blues' 'Classical' 'Country' 'Disco' 'Hiphop' 'Jazz' 'Metal' 'Pop'\n",
      " 'Reggae' 'Rock'] as keyword args. From version 0.25 passing these as positional arguments will result in an error\n",
      "  FutureWarning)\n"
     ]
    },
    {
     "name": "stdout",
     "output_type": "stream",
     "text": [
      "Features Importances\n",
      "[0.02934877 0.03243337 0.03411289 0.01592857 0.04015206 0.02571657\n",
      " 0.01677481 0.02947417 0.04096096 0.03503483 0.04259435 0.03820667\n",
      " 0.03591292 0.03175815 0.04284058 0.04774606 0.02633899 0.0174342\n",
      " 0.02835001 0.02894265 0.03538016 0.03500448 0.02573299 0.02376107\n",
      " 0.01610303 0.02110725 0.01825591 0.01683344 0.02144619 0.01905009\n",
      " 0.02197412 0.02660392 0.02546979 0.02882413 0.02439182]\n",
      "Training Features Shape: (750, 35)\n",
      "Training Labels Shape: (750,)\n",
      "Testing Features Shape: (250, 35)\n",
      "Testing Labels Shape: (250,)\n"
     ]
    },
    {
     "name": "stderr",
     "output_type": "stream",
     "text": [
      "C:\\Users\\alvar\\anaconda3\\envs\\python37\\lib\\site-packages\\sklearn\\utils\\validation.py:70: FutureWarning: Pass labels=['Blues' 'Classical' 'Country' 'Disco' 'Hiphop' 'Jazz' 'Metal' 'Pop'\n",
      " 'Reggae' 'Rock'] as keyword args. From version 0.25 passing these as positional arguments will result in an error\n",
      "  FutureWarning)\n"
     ]
    },
    {
     "name": "stdout",
     "output_type": "stream",
     "text": [
      "Features Importances\n",
      "[0.02833949 0.03100946 0.0288959  0.01590226 0.03900282 0.02579968\n",
      " 0.01587874 0.02844948 0.04364075 0.0339226  0.04252605 0.03903283\n",
      " 0.03697376 0.02889172 0.04432672 0.05293292 0.02516762 0.0160584\n",
      " 0.02944501 0.02866583 0.03902763 0.03584194 0.02371757 0.02238011\n",
      " 0.01604713 0.02388946 0.01830378 0.01802864 0.0218438  0.02169652\n",
      " 0.02377938 0.02498447 0.02535141 0.02779438 0.02245175]\n",
      "Training Features Shape: (750, 35)\n",
      "Training Labels Shape: (750,)\n",
      "Testing Features Shape: (250, 35)\n",
      "Testing Labels Shape: (250,)\n"
     ]
    },
    {
     "name": "stderr",
     "output_type": "stream",
     "text": [
      "C:\\Users\\alvar\\anaconda3\\envs\\python37\\lib\\site-packages\\sklearn\\utils\\validation.py:70: FutureWarning: Pass labels=['Blues' 'Classical' 'Country' 'Disco' 'Hiphop' 'Jazz' 'Metal' 'Pop'\n",
      " 'Reggae' 'Rock'] as keyword args. From version 0.25 passing these as positional arguments will result in an error\n",
      "  FutureWarning)\n"
     ]
    },
    {
     "name": "stdout",
     "output_type": "stream",
     "text": [
      "Features Importances\n",
      "[0.02862612 0.03041517 0.03022877 0.01537077 0.03965936 0.02699875\n",
      " 0.0152438  0.02881368 0.04466536 0.03412128 0.04256015 0.03514631\n",
      " 0.0344176  0.03076146 0.04372195 0.0495145  0.02855395 0.01540626\n",
      " 0.02821943 0.02884928 0.03890249 0.03527696 0.02346965 0.02226827\n",
      " 0.016095   0.01923763 0.01938311 0.01797361 0.02186756 0.02075103\n",
      " 0.02553061 0.03021637 0.02582557 0.02793141 0.02397675]\n",
      "Training Features Shape: (750, 35)\n",
      "Training Labels Shape: (750,)\n",
      "Testing Features Shape: (250, 35)\n",
      "Testing Labels Shape: (250,)\n"
     ]
    },
    {
     "name": "stderr",
     "output_type": "stream",
     "text": [
      "C:\\Users\\alvar\\anaconda3\\envs\\python37\\lib\\site-packages\\sklearn\\utils\\validation.py:70: FutureWarning: Pass labels=['Blues' 'Classical' 'Country' 'Disco' 'Hiphop' 'Jazz' 'Metal' 'Pop'\n",
      " 'Reggae' 'Rock'] as keyword args. From version 0.25 passing these as positional arguments will result in an error\n",
      "  FutureWarning)\n"
     ]
    },
    {
     "name": "stdout",
     "output_type": "stream",
     "text": [
      "Features Importances\n",
      "[0.02911677 0.03007988 0.03430147 0.01549304 0.03564227 0.02531401\n",
      " 0.01616872 0.02798601 0.04270065 0.03795005 0.0469382  0.03647791\n",
      " 0.03610035 0.03427621 0.03954674 0.05300927 0.02504038 0.01560469\n",
      " 0.02753245 0.02848189 0.03829999 0.03462228 0.02397098 0.0224365\n",
      " 0.01721441 0.0214077  0.01897341 0.01804292 0.02152435 0.0198427\n",
      " 0.0235778  0.02686985 0.0261812  0.02667859 0.02259637]\n",
      "Training Features Shape: (750, 35)\n",
      "Training Labels Shape: (750,)\n",
      "Testing Features Shape: (250, 35)\n",
      "Testing Labels Shape: (250,)\n"
     ]
    },
    {
     "name": "stderr",
     "output_type": "stream",
     "text": [
      "C:\\Users\\alvar\\anaconda3\\envs\\python37\\lib\\site-packages\\sklearn\\utils\\validation.py:70: FutureWarning: Pass labels=['Blues' 'Classical' 'Country' 'Disco' 'Hiphop' 'Jazz' 'Metal' 'Pop'\n",
      " 'Reggae' 'Rock'] as keyword args. From version 0.25 passing these as positional arguments will result in an error\n",
      "  FutureWarning)\n"
     ]
    },
    {
     "name": "stdout",
     "output_type": "stream",
     "text": [
      "Features Importances\n",
      "[0.02902901 0.03013449 0.03295055 0.01672759 0.03608881 0.02457029\n",
      " 0.01538657 0.02731571 0.04662219 0.03742915 0.04218197 0.0355583\n",
      " 0.03452668 0.03402135 0.04217404 0.04850281 0.02426287 0.01504989\n",
      " 0.02799175 0.03202335 0.03806359 0.03607352 0.02282714 0.02352133\n",
      " 0.01593892 0.02220454 0.01868639 0.01686176 0.0226513  0.01862669\n",
      " 0.02341566 0.02617042 0.02646284 0.03020344 0.02574507]\n",
      "Training Features Shape: (750, 35)\n",
      "Training Labels Shape: (750,)\n",
      "Testing Features Shape: (250, 35)\n",
      "Testing Labels Shape: (250,)\n"
     ]
    },
    {
     "name": "stderr",
     "output_type": "stream",
     "text": [
      "C:\\Users\\alvar\\anaconda3\\envs\\python37\\lib\\site-packages\\sklearn\\utils\\validation.py:70: FutureWarning: Pass labels=['Blues' 'Classical' 'Country' 'Disco' 'Hiphop' 'Jazz' 'Metal' 'Pop'\n",
      " 'Reggae' 'Rock'] as keyword args. From version 0.25 passing these as positional arguments will result in an error\n",
      "  FutureWarning)\n"
     ]
    },
    {
     "name": "stdout",
     "output_type": "stream",
     "text": [
      "Features Importances\n",
      "[0.02823404 0.0289117  0.03142004 0.01713404 0.03861754 0.02538361\n",
      " 0.0175067  0.03145588 0.04403691 0.03577643 0.04165148 0.03629469\n",
      " 0.0359756  0.03099014 0.04381374 0.04973651 0.02435113 0.01742376\n",
      " 0.02820236 0.02827391 0.03938241 0.03453981 0.02252208 0.02311921\n",
      " 0.01745855 0.02067547 0.01906561 0.01807589 0.02172887 0.02050818\n",
      " 0.02221519 0.02559648 0.02792492 0.02726138 0.02473575]\n",
      "Training Features Shape: (750, 35)\n",
      "Training Labels Shape: (750,)\n",
      "Testing Features Shape: (250, 35)\n",
      "Testing Labels Shape: (250,)\n"
     ]
    },
    {
     "name": "stderr",
     "output_type": "stream",
     "text": [
      "C:\\Users\\alvar\\anaconda3\\envs\\python37\\lib\\site-packages\\sklearn\\utils\\validation.py:70: FutureWarning: Pass labels=['Blues' 'Classical' 'Country' 'Disco' 'Hiphop' 'Jazz' 'Metal' 'Pop'\n",
      " 'Reggae' 'Rock'] as keyword args. From version 0.25 passing these as positional arguments will result in an error\n",
      "  FutureWarning)\n"
     ]
    },
    {
     "name": "stdout",
     "output_type": "stream",
     "text": [
      "Features Importances\n",
      "[0.02903333 0.03222626 0.03155219 0.01618095 0.03723106 0.02694877\n",
      " 0.01803907 0.03004607 0.04149927 0.03659291 0.0433317  0.03897406\n",
      " 0.03828897 0.03218952 0.04380881 0.04833607 0.02503909 0.01800304\n",
      " 0.02812383 0.03008353 0.03814667 0.03623866 0.02410686 0.02115623\n",
      " 0.01603607 0.02133845 0.01988683 0.01779905 0.02163523 0.01769467\n",
      " 0.01999335 0.02478407 0.02445275 0.02746396 0.02373864]\n",
      "Training Features Shape: (750, 35)\n",
      "Training Labels Shape: (750,)\n",
      "Testing Features Shape: (250, 35)\n",
      "Testing Labels Shape: (250,)\n"
     ]
    },
    {
     "name": "stderr",
     "output_type": "stream",
     "text": [
      "C:\\Users\\alvar\\anaconda3\\envs\\python37\\lib\\site-packages\\sklearn\\utils\\validation.py:70: FutureWarning: Pass labels=['Blues' 'Classical' 'Country' 'Disco' 'Hiphop' 'Jazz' 'Metal' 'Pop'\n",
      " 'Reggae' 'Rock'] as keyword args. From version 0.25 passing these as positional arguments will result in an error\n",
      "  FutureWarning)\n"
     ]
    },
    {
     "name": "stdout",
     "output_type": "stream",
     "text": [
      "Features Importances\n",
      "[0.02858583 0.03023563 0.03166352 0.01557844 0.03532741 0.02626956\n",
      " 0.01575245 0.02725797 0.04383263 0.03693743 0.04233523 0.03537362\n",
      " 0.03699726 0.03242303 0.04565433 0.04769249 0.02543966 0.01543841\n",
      " 0.02784298 0.02877134 0.03955615 0.0350271  0.02454469 0.02214391\n",
      " 0.01756443 0.02119428 0.01849618 0.0172131  0.02078427 0.0208372\n",
      " 0.0233098  0.02856183 0.02710278 0.02798021 0.02627485]\n",
      "Training Features Shape: (750, 35)\n",
      "Training Labels Shape: (750,)\n",
      "Testing Features Shape: (250, 35)\n",
      "Testing Labels Shape: (250,)\n"
     ]
    },
    {
     "name": "stderr",
     "output_type": "stream",
     "text": [
      "C:\\Users\\alvar\\anaconda3\\envs\\python37\\lib\\site-packages\\sklearn\\utils\\validation.py:70: FutureWarning: Pass labels=['Blues' 'Classical' 'Country' 'Disco' 'Hiphop' 'Jazz' 'Metal' 'Pop'\n",
      " 'Reggae' 'Rock'] as keyword args. From version 0.25 passing these as positional arguments will result in an error\n",
      "  FutureWarning)\n"
     ]
    },
    {
     "name": "stdout",
     "output_type": "stream",
     "text": [
      "Features Importances\n",
      "[0.02779713 0.03055582 0.03366304 0.01653947 0.03740939 0.02526386\n",
      " 0.01524349 0.02966591 0.04364773 0.03684013 0.04541314 0.03438219\n",
      " 0.03361795 0.03211816 0.04396796 0.05305102 0.02580776 0.0154258\n",
      " 0.028092   0.02927268 0.03893335 0.0337956  0.02298148 0.02250846\n",
      " 0.01645999 0.02154464 0.01901389 0.01752379 0.02189391 0.02172371\n",
      " 0.02171438 0.02699586 0.02654617 0.02655685 0.02403325]\n",
      "Training Features Shape: (750, 35)\n",
      "Training Labels Shape: (750,)\n",
      "Testing Features Shape: (250, 35)\n",
      "Testing Labels Shape: (250,)\n"
     ]
    },
    {
     "name": "stderr",
     "output_type": "stream",
     "text": [
      "C:\\Users\\alvar\\anaconda3\\envs\\python37\\lib\\site-packages\\sklearn\\utils\\validation.py:70: FutureWarning: Pass labels=['Blues' 'Classical' 'Country' 'Disco' 'Hiphop' 'Jazz' 'Metal' 'Pop'\n",
      " 'Reggae' 'Rock'] as keyword args. From version 0.25 passing these as positional arguments will result in an error\n",
      "  FutureWarning)\n"
     ]
    },
    {
     "name": "stdout",
     "output_type": "stream",
     "text": [
      "Features Importances\n",
      "[0.02836122 0.02842807 0.03133909 0.01562098 0.03530062 0.02461474\n",
      " 0.01660532 0.02758003 0.04534914 0.03688135 0.04113213 0.03574766\n",
      " 0.03620484 0.0300986  0.0420013  0.05216469 0.0241087  0.01661111\n",
      " 0.02840935 0.0293865  0.03864318 0.03587789 0.02605823 0.02431376\n",
      " 0.01635695 0.02067054 0.01863019 0.017577   0.02211804 0.02109899\n",
      " 0.02456572 0.02684707 0.02631133 0.02964504 0.02534063]\n",
      "Training Features Shape: (750, 35)\n",
      "Training Labels Shape: (750,)\n",
      "Testing Features Shape: (250, 35)\n",
      "Testing Labels Shape: (250,)\n"
     ]
    },
    {
     "name": "stderr",
     "output_type": "stream",
     "text": [
      "C:\\Users\\alvar\\anaconda3\\envs\\python37\\lib\\site-packages\\sklearn\\utils\\validation.py:70: FutureWarning: Pass labels=['Blues' 'Classical' 'Country' 'Disco' 'Hiphop' 'Jazz' 'Metal' 'Pop'\n",
      " 'Reggae' 'Rock'] as keyword args. From version 0.25 passing these as positional arguments will result in an error\n",
      "  FutureWarning)\n"
     ]
    },
    {
     "name": "stdout",
     "output_type": "stream",
     "text": [
      "Features Importances\n",
      "[0.02708401 0.02862516 0.0308392  0.01686692 0.03760029 0.02530074\n",
      " 0.0153404  0.02926198 0.04527558 0.03581103 0.04337117 0.03595151\n",
      " 0.0360231  0.03136694 0.04336392 0.05309228 0.02476276 0.01487291\n",
      " 0.02687488 0.02924971 0.03947007 0.03760051 0.02370077 0.02170029\n",
      " 0.01696622 0.02238228 0.0197141  0.01794046 0.02003735 0.01914947\n",
      " 0.02100566 0.02721158 0.02739653 0.02819858 0.02659164]\n",
      "Training Features Shape: (750, 35)\n",
      "Training Labels Shape: (750,)\n",
      "Testing Features Shape: (250, 35)\n",
      "Testing Labels Shape: (250,)\n"
     ]
    },
    {
     "name": "stderr",
     "output_type": "stream",
     "text": [
      "C:\\Users\\alvar\\anaconda3\\envs\\python37\\lib\\site-packages\\sklearn\\utils\\validation.py:70: FutureWarning: Pass labels=['Blues' 'Classical' 'Country' 'Disco' 'Hiphop' 'Jazz' 'Metal' 'Pop'\n",
      " 'Reggae' 'Rock'] as keyword args. From version 0.25 passing these as positional arguments will result in an error\n",
      "  FutureWarning)\n"
     ]
    },
    {
     "name": "stdout",
     "output_type": "stream",
     "text": [
      "Features Importances\n",
      "[0.02973828 0.03215182 0.02961583 0.01571599 0.03891372 0.02450855\n",
      " 0.01687191 0.02835422 0.04601664 0.03825617 0.04119753 0.03703376\n",
      " 0.03208026 0.0306542  0.04667468 0.0491385  0.02470058 0.01715882\n",
      " 0.03057017 0.03090553 0.04023369 0.03440788 0.0221575  0.02120991\n",
      " 0.01703402 0.02242266 0.02026278 0.01845458 0.02119219 0.02026047\n",
      " 0.02127093 0.02639701 0.02517273 0.02638897 0.02287751]\n",
      "Training Features Shape: (750, 35)\n",
      "Training Labels Shape: (750,)\n",
      "Testing Features Shape: (250, 35)\n",
      "Testing Labels Shape: (250,)\n"
     ]
    },
    {
     "name": "stderr",
     "output_type": "stream",
     "text": [
      "C:\\Users\\alvar\\anaconda3\\envs\\python37\\lib\\site-packages\\sklearn\\utils\\validation.py:70: FutureWarning: Pass labels=['Blues' 'Classical' 'Country' 'Disco' 'Hiphop' 'Jazz' 'Metal' 'Pop'\n",
      " 'Reggae' 'Rock'] as keyword args. From version 0.25 passing these as positional arguments will result in an error\n",
      "  FutureWarning)\n"
     ]
    },
    {
     "name": "stdout",
     "output_type": "stream",
     "text": [
      "Features Importances\n",
      "[0.02880681 0.02877342 0.03059746 0.01640072 0.03576428 0.02461919\n",
      " 0.0168379  0.02917966 0.04590531 0.03500163 0.04211633 0.03669055\n",
      " 0.03792582 0.03160322 0.04687485 0.04893005 0.02496493 0.0167688\n",
      " 0.02945114 0.0308387  0.03659192 0.03545385 0.02198752 0.02278066\n",
      " 0.0165165  0.02163913 0.01892805 0.01832767 0.02296788 0.01996373\n",
      " 0.02248614 0.02460806 0.0240637  0.0291205  0.02651395]\n",
      "Training Features Shape: (750, 35)\n",
      "Training Labels Shape: (750,)\n",
      "Testing Features Shape: (250, 35)\n",
      "Testing Labels Shape: (250,)\n"
     ]
    },
    {
     "name": "stderr",
     "output_type": "stream",
     "text": [
      "C:\\Users\\alvar\\anaconda3\\envs\\python37\\lib\\site-packages\\sklearn\\utils\\validation.py:70: FutureWarning: Pass labels=['Blues' 'Classical' 'Country' 'Disco' 'Hiphop' 'Jazz' 'Metal' 'Pop'\n",
      " 'Reggae' 'Rock'] as keyword args. From version 0.25 passing these as positional arguments will result in an error\n",
      "  FutureWarning)\n"
     ]
    },
    {
     "name": "stdout",
     "output_type": "stream",
     "text": [
      "Features Importances\n",
      "[0.03109999 0.03043965 0.02957927 0.01624909 0.03772124 0.02479772\n",
      " 0.01712624 0.03017849 0.04940285 0.03421762 0.04370652 0.03625088\n",
      " 0.03318234 0.02924945 0.04556915 0.04710189 0.0246566  0.01702439\n",
      " 0.03082479 0.03112086 0.03638696 0.03484247 0.02217235 0.0216503\n",
      " 0.01649709 0.02115716 0.01952671 0.01889298 0.02085151 0.02014245\n",
      " 0.02191381 0.02601019 0.02444825 0.0305541  0.02545466]\n",
      "Training Features Shape: (750, 35)\n",
      "Training Labels Shape: (750,)\n",
      "Testing Features Shape: (250, 35)\n",
      "Testing Labels Shape: (250,)\n"
     ]
    },
    {
     "name": "stderr",
     "output_type": "stream",
     "text": [
      "C:\\Users\\alvar\\anaconda3\\envs\\python37\\lib\\site-packages\\sklearn\\utils\\validation.py:70: FutureWarning: Pass labels=['Blues' 'Classical' 'Country' 'Disco' 'Hiphop' 'Jazz' 'Metal' 'Pop'\n",
      " 'Reggae' 'Rock'] as keyword args. From version 0.25 passing these as positional arguments will result in an error\n",
      "  FutureWarning)\n"
     ]
    },
    {
     "name": "stdout",
     "output_type": "stream",
     "text": [
      "Features Importances\n",
      "[0.02766061 0.02864696 0.03221992 0.01716152 0.03720595 0.0272032\n",
      " 0.01517489 0.0285808  0.04274399 0.03549167 0.04317648 0.03514659\n",
      " 0.03462715 0.03167409 0.04325013 0.04715506 0.02755936 0.01540394\n",
      " 0.02883035 0.02880875 0.04191125 0.03690117 0.02260442 0.02284774\n",
      " 0.01664655 0.02253211 0.0205943  0.01693151 0.02164519 0.02145508\n",
      " 0.02148273 0.02550745 0.02727959 0.03033646 0.02360304]\n",
      "Training Features Shape: (750, 35)\n",
      "Training Labels Shape: (750,)\n",
      "Testing Features Shape: (250, 35)\n",
      "Testing Labels Shape: (250,)\n"
     ]
    },
    {
     "name": "stderr",
     "output_type": "stream",
     "text": [
      "C:\\Users\\alvar\\anaconda3\\envs\\python37\\lib\\site-packages\\sklearn\\utils\\validation.py:70: FutureWarning: Pass labels=['Blues' 'Classical' 'Country' 'Disco' 'Hiphop' 'Jazz' 'Metal' 'Pop'\n",
      " 'Reggae' 'Rock'] as keyword args. From version 0.25 passing these as positional arguments will result in an error\n",
      "  FutureWarning)\n"
     ]
    },
    {
     "name": "stdout",
     "output_type": "stream",
     "text": [
      "Features Importances\n",
      "[0.03030621 0.03096201 0.03071095 0.01589723 0.03573853 0.0252156\n",
      " 0.0175464  0.02825104 0.04213703 0.03711958 0.04584634 0.03815668\n",
      " 0.03659076 0.03156209 0.04143004 0.0500658  0.02601123 0.01685989\n",
      " 0.02909909 0.02923381 0.03967914 0.0349768  0.02164866 0.02172751\n",
      " 0.01572928 0.02191176 0.01954347 0.01861609 0.02164729 0.02174529\n",
      " 0.02066112 0.02599836 0.0257465  0.02811338 0.02351507]\n",
      "Training Features Shape: (750, 35)\n",
      "Training Labels Shape: (750,)\n",
      "Testing Features Shape: (250, 35)\n",
      "Testing Labels Shape: (250,)\n"
     ]
    },
    {
     "name": "stderr",
     "output_type": "stream",
     "text": [
      "C:\\Users\\alvar\\anaconda3\\envs\\python37\\lib\\site-packages\\sklearn\\utils\\validation.py:70: FutureWarning: Pass labels=['Blues' 'Classical' 'Country' 'Disco' 'Hiphop' 'Jazz' 'Metal' 'Pop'\n",
      " 'Reggae' 'Rock'] as keyword args. From version 0.25 passing these as positional arguments will result in an error\n",
      "  FutureWarning)\n"
     ]
    },
    {
     "name": "stdout",
     "output_type": "stream",
     "text": [
      "Features Importances\n",
      "[0.02887891 0.03050023 0.03079217 0.01480007 0.03496244 0.02505302\n",
      " 0.0167383  0.03015811 0.04593257 0.03492217 0.04595873 0.03698316\n",
      " 0.03853056 0.03144868 0.04381302 0.04941598 0.02516005 0.01656092\n",
      " 0.02714949 0.02900508 0.03513289 0.0349923  0.02253515 0.02227923\n",
      " 0.01721072 0.02217611 0.01852307 0.01827113 0.02107021 0.02307981\n",
      " 0.02251856 0.02645757 0.02483205 0.02856154 0.02559605]\n",
      "Training Features Shape: (750, 35)\n",
      "Training Labels Shape: (750,)\n",
      "Testing Features Shape: (250, 35)\n",
      "Testing Labels Shape: (250,)\n"
     ]
    },
    {
     "name": "stderr",
     "output_type": "stream",
     "text": [
      "C:\\Users\\alvar\\anaconda3\\envs\\python37\\lib\\site-packages\\sklearn\\utils\\validation.py:70: FutureWarning: Pass labels=['Blues' 'Classical' 'Country' 'Disco' 'Hiphop' 'Jazz' 'Metal' 'Pop'\n",
      " 'Reggae' 'Rock'] as keyword args. From version 0.25 passing these as positional arguments will result in an error\n",
      "  FutureWarning)\n"
     ]
    },
    {
     "name": "stdout",
     "output_type": "stream",
     "text": [
      "Features Importances\n",
      "[0.02708929 0.02967524 0.03346323 0.0173246  0.03573788 0.02702622\n",
      " 0.01576948 0.02811409 0.04165506 0.03672831 0.0420723  0.03516423\n",
      " 0.03815229 0.03408534 0.0432167  0.04785193 0.02653532 0.01552877\n",
      " 0.02845301 0.03096183 0.03906239 0.03412435 0.02394869 0.02065316\n",
      " 0.017629   0.02191225 0.01952623 0.01910737 0.02315081 0.0201945\n",
      " 0.02038937 0.02735818 0.02520207 0.02790368 0.0252328 ]\n",
      "Training Features Shape: (750, 35)\n",
      "Training Labels Shape: (750,)\n",
      "Testing Features Shape: (250, 35)\n",
      "Testing Labels Shape: (250,)\n"
     ]
    },
    {
     "name": "stderr",
     "output_type": "stream",
     "text": [
      "C:\\Users\\alvar\\anaconda3\\envs\\python37\\lib\\site-packages\\sklearn\\utils\\validation.py:70: FutureWarning: Pass labels=['Blues' 'Classical' 'Country' 'Disco' 'Hiphop' 'Jazz' 'Metal' 'Pop'\n",
      " 'Reggae' 'Rock'] as keyword args. From version 0.25 passing these as positional arguments will result in an error\n",
      "  FutureWarning)\n"
     ]
    },
    {
     "name": "stdout",
     "output_type": "stream",
     "text": [
      "Features Importances\n",
      "[0.02848681 0.03041898 0.03125577 0.01606065 0.03760307 0.02952844\n",
      " 0.01553934 0.02944259 0.04362258 0.03514673 0.04224286 0.03434588\n",
      " 0.03568309 0.03138021 0.0426914  0.04974818 0.02948415 0.01574147\n",
      " 0.02815746 0.02939666 0.03685715 0.03417624 0.02302397 0.02211435\n",
      " 0.01661072 0.02205388 0.01800991 0.0173135  0.02312022 0.02099129\n",
      " 0.02290006 0.0260858  0.02604307 0.02915946 0.02556405]\n",
      "Training Features Shape: (750, 35)\n",
      "Training Labels Shape: (750,)\n",
      "Testing Features Shape: (250, 35)\n",
      "Testing Labels Shape: (250,)\n"
     ]
    },
    {
     "name": "stderr",
     "output_type": "stream",
     "text": [
      "C:\\Users\\alvar\\anaconda3\\envs\\python37\\lib\\site-packages\\sklearn\\utils\\validation.py:70: FutureWarning: Pass labels=['Blues' 'Classical' 'Country' 'Disco' 'Hiphop' 'Jazz' 'Metal' 'Pop'\n",
      " 'Reggae' 'Rock'] as keyword args. From version 0.25 passing these as positional arguments will result in an error\n",
      "  FutureWarning)\n"
     ]
    },
    {
     "name": "stdout",
     "output_type": "stream",
     "text": [
      "Features Importances\n",
      "[0.02788531 0.02637191 0.03434697 0.01724472 0.03779421 0.02603401\n",
      " 0.01724837 0.02665325 0.04377317 0.03631015 0.04308204 0.03645346\n",
      " 0.03503016 0.03446828 0.0433491  0.0495573  0.02800597 0.01731776\n",
      " 0.02841749 0.0302142  0.03564551 0.03514962 0.02531241 0.02165879\n",
      " 0.01638141 0.02056688 0.01893947 0.01720907 0.0201412  0.0193004\n",
      " 0.02213271 0.02829366 0.02554897 0.02837609 0.02578597]\n",
      "Training Features Shape: (750, 35)\n",
      "Training Labels Shape: (750,)\n",
      "Testing Features Shape: (250, 35)\n",
      "Testing Labels Shape: (250,)\n"
     ]
    },
    {
     "name": "stderr",
     "output_type": "stream",
     "text": [
      "C:\\Users\\alvar\\anaconda3\\envs\\python37\\lib\\site-packages\\sklearn\\utils\\validation.py:70: FutureWarning: Pass labels=['Blues' 'Classical' 'Country' 'Disco' 'Hiphop' 'Jazz' 'Metal' 'Pop'\n",
      " 'Reggae' 'Rock'] as keyword args. From version 0.25 passing these as positional arguments will result in an error\n",
      "  FutureWarning)\n"
     ]
    },
    {
     "name": "stdout",
     "output_type": "stream",
     "text": [
      "Features Importances\n",
      "[0.02525368 0.0272368  0.03195158 0.01628675 0.03641238 0.02525473\n",
      " 0.01641577 0.0306183  0.04491129 0.036173   0.04161378 0.03905953\n",
      " 0.03593659 0.03036326 0.0447679  0.05150608 0.02466997 0.01722978\n",
      " 0.02685923 0.03096704 0.03908725 0.03808204 0.02540065 0.0238136\n",
      " 0.01534527 0.02055754 0.01848997 0.01845109 0.0210109  0.01994636\n",
      " 0.02145193 0.02471774 0.02598405 0.02864734 0.02552684]\n",
      "Training Features Shape: (750, 35)\n",
      "Training Labels Shape: (750,)\n",
      "Testing Features Shape: (250, 35)\n",
      "Testing Labels Shape: (250,)\n"
     ]
    },
    {
     "name": "stderr",
     "output_type": "stream",
     "text": [
      "C:\\Users\\alvar\\anaconda3\\envs\\python37\\lib\\site-packages\\sklearn\\utils\\validation.py:70: FutureWarning: Pass labels=['Blues' 'Classical' 'Country' 'Disco' 'Hiphop' 'Jazz' 'Metal' 'Pop'\n",
      " 'Reggae' 'Rock'] as keyword args. From version 0.25 passing these as positional arguments will result in an error\n",
      "  FutureWarning)\n"
     ]
    },
    {
     "name": "stdout",
     "output_type": "stream",
     "text": [
      "Features Importances\n",
      "[0.0277424  0.02673047 0.03253006 0.01656215 0.03625324 0.02453715\n",
      " 0.0175155  0.0302452  0.04439729 0.03990904 0.04525378 0.03743991\n",
      " 0.03553852 0.03390771 0.04496535 0.04852296 0.02479711 0.01731217\n",
      " 0.02587695 0.02791684 0.03917309 0.03734466 0.0220877  0.02185802\n",
      " 0.0161919  0.02245907 0.01988876 0.01796352 0.02107535 0.01955893\n",
      " 0.02255909 0.02492278 0.02761088 0.0273429  0.02200956]\n",
      "Training Features Shape: (750, 35)\n",
      "Training Labels Shape: (750,)\n",
      "Testing Features Shape: (250, 35)\n",
      "Testing Labels Shape: (250,)\n"
     ]
    },
    {
     "name": "stderr",
     "output_type": "stream",
     "text": [
      "C:\\Users\\alvar\\anaconda3\\envs\\python37\\lib\\site-packages\\sklearn\\utils\\validation.py:70: FutureWarning: Pass labels=['Blues' 'Classical' 'Country' 'Disco' 'Hiphop' 'Jazz' 'Metal' 'Pop'\n",
      " 'Reggae' 'Rock'] as keyword args. From version 0.25 passing these as positional arguments will result in an error\n",
      "  FutureWarning)\n"
     ]
    },
    {
     "name": "stdout",
     "output_type": "stream",
     "text": [
      "Features Importances\n",
      "[0.02834169 0.0298148  0.03247857 0.0166927  0.03743181 0.02575863\n",
      " 0.01606786 0.02913986 0.04455547 0.03584913 0.04307145 0.03717755\n",
      " 0.03632732 0.03247823 0.04678591 0.05012428 0.02517843 0.01656733\n",
      " 0.02822008 0.02795453 0.03559317 0.0351978  0.02263295 0.02187281\n",
      " 0.01654396 0.02293483 0.01882956 0.01762204 0.02260043 0.01967599\n",
      " 0.01958608 0.02720657 0.02504947 0.02975053 0.02488819]\n",
      "Training Features Shape: (750, 35)\n",
      "Training Labels Shape: (750,)\n",
      "Testing Features Shape: (250, 35)\n",
      "Testing Labels Shape: (250,)\n"
     ]
    },
    {
     "name": "stderr",
     "output_type": "stream",
     "text": [
      "C:\\Users\\alvar\\anaconda3\\envs\\python37\\lib\\site-packages\\sklearn\\utils\\validation.py:70: FutureWarning: Pass labels=['Blues' 'Classical' 'Country' 'Disco' 'Hiphop' 'Jazz' 'Metal' 'Pop'\n",
      " 'Reggae' 'Rock'] as keyword args. From version 0.25 passing these as positional arguments will result in an error\n",
      "  FutureWarning)\n"
     ]
    },
    {
     "name": "stdout",
     "output_type": "stream",
     "text": [
      "Features Importances\n",
      "[0.02806285 0.03103001 0.03110609 0.01563934 0.03672667 0.02478524\n",
      " 0.01543437 0.0281779  0.04347838 0.03713676 0.04256987 0.03941575\n",
      " 0.03749451 0.031789   0.04585322 0.04861587 0.023957   0.01536363\n",
      " 0.02841212 0.03207393 0.03998443 0.03586559 0.02426974 0.02226228\n",
      " 0.01611539 0.02180882 0.0182372  0.01664962 0.02122225 0.02053776\n",
      " 0.02241047 0.02598377 0.02514252 0.02782737 0.02456028]\n",
      "Training Features Shape: (750, 35)\n",
      "Training Labels Shape: (750,)\n",
      "Testing Features Shape: (250, 35)\n",
      "Testing Labels Shape: (250,)\n"
     ]
    },
    {
     "name": "stderr",
     "output_type": "stream",
     "text": [
      "C:\\Users\\alvar\\anaconda3\\envs\\python37\\lib\\site-packages\\sklearn\\utils\\validation.py:70: FutureWarning: Pass labels=['Blues' 'Classical' 'Country' 'Disco' 'Hiphop' 'Jazz' 'Metal' 'Pop'\n",
      " 'Reggae' 'Rock'] as keyword args. From version 0.25 passing these as positional arguments will result in an error\n",
      "  FutureWarning)\n"
     ]
    },
    {
     "name": "stdout",
     "output_type": "stream",
     "text": [
      "Features Importances\n",
      "[0.02718187 0.02903011 0.0316036  0.01697428 0.03609761 0.02590652\n",
      " 0.01579527 0.02707946 0.04284263 0.03580784 0.0443089  0.03642343\n",
      " 0.03752329 0.03030603 0.04569614 0.04902224 0.02626179 0.01578352\n",
      " 0.02833026 0.03009114 0.04065101 0.03628872 0.02371564 0.02335633\n",
      " 0.01651393 0.02174766 0.01781528 0.01827995 0.02331797 0.02102785\n",
      " 0.02138116 0.02514841 0.02635852 0.02992682 0.0224048 ]\n",
      "Training Features Shape: (750, 35)\n",
      "Training Labels Shape: (750,)\n",
      "Testing Features Shape: (250, 35)\n",
      "Testing Labels Shape: (250,)\n"
     ]
    },
    {
     "name": "stderr",
     "output_type": "stream",
     "text": [
      "C:\\Users\\alvar\\anaconda3\\envs\\python37\\lib\\site-packages\\sklearn\\utils\\validation.py:70: FutureWarning: Pass labels=['Blues' 'Classical' 'Country' 'Disco' 'Hiphop' 'Jazz' 'Metal' 'Pop'\n",
      " 'Reggae' 'Rock'] as keyword args. From version 0.25 passing these as positional arguments will result in an error\n",
      "  FutureWarning)\n"
     ]
    },
    {
     "name": "stdout",
     "output_type": "stream",
     "text": [
      "Features Importances\n",
      "[0.02546998 0.02583293 0.02956003 0.01558678 0.03844759 0.02615613\n",
      " 0.0158956  0.03006716 0.04034224 0.03693637 0.0427761  0.03787347\n",
      " 0.03864128 0.03067885 0.04015595 0.0550927  0.02664913 0.01661209\n",
      " 0.0254856  0.02664961 0.04076826 0.03634294 0.02381123 0.02546131\n",
      " 0.01680778 0.02256016 0.01889473 0.01875259 0.02285696 0.01979426\n",
      " 0.02384486 0.02792273 0.02487916 0.02789091 0.02450254]\n",
      "Training Features Shape: (750, 35)\n",
      "Training Labels Shape: (750,)\n",
      "Testing Features Shape: (250, 35)\n",
      "Testing Labels Shape: (250,)\n"
     ]
    },
    {
     "name": "stderr",
     "output_type": "stream",
     "text": [
      "C:\\Users\\alvar\\anaconda3\\envs\\python37\\lib\\site-packages\\sklearn\\utils\\validation.py:70: FutureWarning: Pass labels=['Blues' 'Classical' 'Country' 'Disco' 'Hiphop' 'Jazz' 'Metal' 'Pop'\n",
      " 'Reggae' 'Rock'] as keyword args. From version 0.25 passing these as positional arguments will result in an error\n",
      "  FutureWarning)\n"
     ]
    },
    {
     "name": "stdout",
     "output_type": "stream",
     "text": [
      "Features Importances\n",
      "[0.02846315 0.02869686 0.0306255  0.01473406 0.03674242 0.0272114\n",
      " 0.01662582 0.02902382 0.04484369 0.03726885 0.04704538 0.03470072\n",
      " 0.03384718 0.03000887 0.04435557 0.04689414 0.0278833  0.0164421\n",
      " 0.02930945 0.02885592 0.03911913 0.035412   0.0226162  0.02316222\n",
      " 0.01644477 0.0222007  0.01757217 0.0182671  0.022726   0.02092406\n",
      " 0.02157854 0.02872065 0.0239736  0.02855617 0.0251485 ]\n",
      "Training Features Shape: (750, 35)\n",
      "Training Labels Shape: (750,)\n",
      "Testing Features Shape: (250, 35)\n",
      "Testing Labels Shape: (250,)\n"
     ]
    },
    {
     "name": "stderr",
     "output_type": "stream",
     "text": [
      "C:\\Users\\alvar\\anaconda3\\envs\\python37\\lib\\site-packages\\sklearn\\utils\\validation.py:70: FutureWarning: Pass labels=['Blues' 'Classical' 'Country' 'Disco' 'Hiphop' 'Jazz' 'Metal' 'Pop'\n",
      " 'Reggae' 'Rock'] as keyword args. From version 0.25 passing these as positional arguments will result in an error\n",
      "  FutureWarning)\n"
     ]
    },
    {
     "name": "stdout",
     "output_type": "stream",
     "text": [
      "Features Importances\n",
      "[0.02809361 0.02997818 0.02843391 0.01689413 0.04023114 0.02486058\n",
      " 0.01567972 0.02685591 0.04513124 0.03686467 0.04745932 0.03807794\n",
      " 0.03455033 0.02890155 0.04466342 0.05078903 0.02429273 0.01532429\n",
      " 0.02952804 0.02771711 0.03962722 0.03835354 0.02293231 0.02239442\n",
      " 0.01718406 0.02128697 0.01925948 0.01778234 0.02234091 0.02125005\n",
      " 0.02163804 0.02431866 0.02538336 0.02814627 0.02377553]\n",
      "Training Features Shape: (750, 35)\n",
      "Training Labels Shape: (750,)\n",
      "Testing Features Shape: (250, 35)\n",
      "Testing Labels Shape: (250,)\n"
     ]
    },
    {
     "name": "stderr",
     "output_type": "stream",
     "text": [
      "C:\\Users\\alvar\\anaconda3\\envs\\python37\\lib\\site-packages\\sklearn\\utils\\validation.py:70: FutureWarning: Pass labels=['Blues' 'Classical' 'Country' 'Disco' 'Hiphop' 'Jazz' 'Metal' 'Pop'\n",
      " 'Reggae' 'Rock'] as keyword args. From version 0.25 passing these as positional arguments will result in an error\n",
      "  FutureWarning)\n"
     ]
    },
    {
     "name": "stdout",
     "output_type": "stream",
     "text": [
      "Features Importances\n",
      "[0.02760984 0.02898419 0.03210109 0.01691786 0.03599243 0.02471647\n",
      " 0.01793303 0.02926441 0.04563344 0.03388242 0.04235537 0.03702068\n",
      " 0.0362028  0.03273603 0.04504409 0.05158882 0.02482425 0.01817456\n",
      " 0.02716672 0.03086622 0.03538823 0.03425187 0.02516099 0.02240075\n",
      " 0.01615247 0.02004687 0.01756315 0.01764954 0.02218675 0.02048278\n",
      " 0.02133148 0.02549349 0.02796447 0.02913275 0.02577969]\n",
      "Training Features Shape: (750, 35)\n",
      "Training Labels Shape: (750,)\n",
      "Testing Features Shape: (250, 35)\n",
      "Testing Labels Shape: (250,)\n"
     ]
    },
    {
     "name": "stderr",
     "output_type": "stream",
     "text": [
      "C:\\Users\\alvar\\anaconda3\\envs\\python37\\lib\\site-packages\\sklearn\\utils\\validation.py:70: FutureWarning: Pass labels=['Blues' 'Classical' 'Country' 'Disco' 'Hiphop' 'Jazz' 'Metal' 'Pop'\n",
      " 'Reggae' 'Rock'] as keyword args. From version 0.25 passing these as positional arguments will result in an error\n",
      "  FutureWarning)\n"
     ]
    },
    {
     "name": "stdout",
     "output_type": "stream",
     "text": [
      "Features Importances\n",
      "[0.02613104 0.02996718 0.03138567 0.01637257 0.04067938 0.02592919\n",
      " 0.01892742 0.02875922 0.04316991 0.03533293 0.04628973 0.03239022\n",
      " 0.03395341 0.03115059 0.042656   0.04990495 0.0262041  0.01865853\n",
      " 0.0265221  0.02884742 0.0370565  0.03823341 0.02230012 0.02243052\n",
      " 0.01613084 0.0217453  0.02006774 0.0184044  0.02380684 0.01942405\n",
      " 0.02012617 0.02680862 0.02714542 0.02736677 0.02572176]\n",
      "Training Features Shape: (750, 35)\n",
      "Training Labels Shape: (750,)\n",
      "Testing Features Shape: (250, 35)\n",
      "Testing Labels Shape: (250,)\n"
     ]
    },
    {
     "name": "stderr",
     "output_type": "stream",
     "text": [
      "C:\\Users\\alvar\\anaconda3\\envs\\python37\\lib\\site-packages\\sklearn\\utils\\validation.py:70: FutureWarning: Pass labels=['Blues' 'Classical' 'Country' 'Disco' 'Hiphop' 'Jazz' 'Metal' 'Pop'\n",
      " 'Reggae' 'Rock'] as keyword args. From version 0.25 passing these as positional arguments will result in an error\n",
      "  FutureWarning)\n"
     ]
    },
    {
     "name": "stdout",
     "output_type": "stream",
     "text": [
      "Features Importances\n",
      "[0.02940601 0.0289048  0.03094657 0.01703056 0.03682985 0.02455541\n",
      " 0.01589331 0.02786448 0.0482636  0.0383953  0.04614274 0.03651762\n",
      " 0.03605275 0.0312085  0.04171398 0.04780428 0.0254659  0.01669589\n",
      " 0.0278557  0.0294709  0.03659668 0.0341669  0.02213961 0.02178624\n",
      " 0.01616475 0.02119637 0.01849745 0.01875614 0.02301082 0.02050249\n",
      " 0.02275604 0.02630355 0.02771732 0.03002175 0.02336571]\n",
      "Training Features Shape: (750, 35)\n",
      "Training Labels Shape: (750,)\n",
      "Testing Features Shape: (250, 35)\n",
      "Testing Labels Shape: (250,)\n"
     ]
    },
    {
     "name": "stderr",
     "output_type": "stream",
     "text": [
      "C:\\Users\\alvar\\anaconda3\\envs\\python37\\lib\\site-packages\\sklearn\\utils\\validation.py:70: FutureWarning: Pass labels=['Blues' 'Classical' 'Country' 'Disco' 'Hiphop' 'Jazz' 'Metal' 'Pop'\n",
      " 'Reggae' 'Rock'] as keyword args. From version 0.25 passing these as positional arguments will result in an error\n",
      "  FutureWarning)\n"
     ]
    },
    {
     "name": "stdout",
     "output_type": "stream",
     "text": [
      "Features Importances\n",
      "[0.0278063  0.02945346 0.03315984 0.01593958 0.03655023 0.02765584\n",
      " 0.01400072 0.02995497 0.04314904 0.03541782 0.04037559 0.03402418\n",
      " 0.03579133 0.03466447 0.04461888 0.04968486 0.02831043 0.01390026\n",
      " 0.02822233 0.02809697 0.04230793 0.03634625 0.02556359 0.02170875\n",
      " 0.01553458 0.02163743 0.01788278 0.0180943  0.02172192 0.0209978\n",
      " 0.0217691  0.02635024 0.02725485 0.02801293 0.02404043]\n",
      "Training Features Shape: (750, 35)\n",
      "Training Labels Shape: (750,)\n",
      "Testing Features Shape: (250, 35)\n",
      "Testing Labels Shape: (250,)\n"
     ]
    },
    {
     "name": "stderr",
     "output_type": "stream",
     "text": [
      "C:\\Users\\alvar\\anaconda3\\envs\\python37\\lib\\site-packages\\sklearn\\utils\\validation.py:70: FutureWarning: Pass labels=['Blues' 'Classical' 'Country' 'Disco' 'Hiphop' 'Jazz' 'Metal' 'Pop'\n",
      " 'Reggae' 'Rock'] as keyword args. From version 0.25 passing these as positional arguments will result in an error\n",
      "  FutureWarning)\n"
     ]
    },
    {
     "name": "stdout",
     "output_type": "stream",
     "text": [
      "Features Importances\n",
      "[0.03048487 0.03108689 0.02860215 0.01631857 0.03380734 0.02828506\n",
      " 0.01617205 0.0273322  0.04391472 0.03745756 0.04560507 0.03639296\n",
      " 0.03678839 0.03065348 0.04362546 0.04859012 0.02754103 0.01638638\n",
      " 0.02834787 0.02972584 0.03545756 0.03054468 0.02400955 0.02148679\n",
      " 0.01599881 0.02262007 0.01686782 0.01776774 0.02133117 0.02120345\n",
      " 0.02341079 0.03036525 0.02880114 0.02857832 0.02443883]\n"
     ]
    },
    {
     "name": "stderr",
     "output_type": "stream",
     "text": [
      "C:\\Users\\alvar\\anaconda3\\envs\\python37\\lib\\site-packages\\sklearn\\utils\\validation.py:70: FutureWarning: Pass labels=['Blues' 'Classical' 'Country' 'Disco' 'Hiphop' 'Jazz' 'Metal' 'Pop'\n",
      " 'Reggae' 'Rock'] as keyword args. From version 0.25 passing these as positional arguments will result in an error\n",
      "  FutureWarning)\n"
     ]
    }
   ],
   "source": [
    "# Import the model we are using\n",
    "from sklearn.ensemble import RandomForestClassifier\n",
    "from sklearn.metrics import plot_confusion_matrix\n",
    "from sklearn.metrics import classification_report\n",
    "from matplotlib.pyplot import figure\n",
    "from sklearn.model_selection import train_test_split\n",
    "\n",
    "def train_clasify():\n",
    "    \"\"\"\n",
    "    Method that train a RF Classifier and return a metrics report with\n",
    "        - Recall by label\n",
    "        - Precision by label\n",
    "        - F1-score by label\n",
    "        - Avg weighted recall\n",
    "        - Avg weighted precision\n",
    "        - Avg weighted f1-score\n",
    "        - Avg macro recall\n",
    "        - Avg macro recall\n",
    "        - Avg macro recall\n",
    "        - Avg total accuracy\n",
    "    \"\"\"\n",
    "\n",
    "    # Split the data into training and testing sets\n",
    "    train_features, test_features, train_labels, test_labels = train_test_split(features, labels, test_size = 0.25)\n",
    "\n",
    "    print('Training Features Shape:', train_features.shape)\n",
    "    print('Training Labels Shape:', train_labels.shape)\n",
    "    print('Testing Features Shape:', test_features.shape)\n",
    "    print('Testing Labels Shape:', test_labels.shape)\n",
    "\n",
    "    # Instantiate model with 1000 decision trees\n",
    "    rf = RandomForestClassifier(n_estimators = 1000)\n",
    "\n",
    "    # Train the model on training data\n",
    "    rf.fit(train_features, train_labels)\n",
    "\n",
    "    print(\"Features Importances\")\n",
    "    print(rf.feature_importances_)\n",
    "\n",
    "    predictions = rf.predict(test_features)\n",
    "\n",
    "\n",
    "    report = classification_report(test_labels, predictions, np.unique(labels))\n",
    "    return report\n",
    "\n",
    "def get_metrics(report, tag, start_point):\n",
    "    \"\"\"\n",
    "    Method that extract metrics from the string table returned by classification_report method from sklearn package\n",
    "    \"\"\"\n",
    "    avg_precision = report[report.index(tag)+start_point:report.index(tag)+start_point+4]\n",
    "    avg_recall = report[report.index(tag)+start_point+10:report.index(tag)+start_point+10+4]\n",
    "    avg_f1_score = report[report.index(tag)+start_point+20:report.index(tag)+start_point+20+4]\n",
    "    return avg_precision, avg_recall, avg_f1_score\n",
    "\n",
    "def get_metrics_avg(number_iterations):\n",
    "    \"\"\"\n",
    "    Method that make number_iterations training a RF classifier and return 2 dictionaires with metics\n",
    "    \n",
    "        - One with metrics by genre label\n",
    "        - The other with total metrics of all the genre labels\n",
    "    \"\"\"\n",
    "    \n",
    "    # Initializing the by genre and total metrics arrays necessaries to catch the data\n",
    "    \n",
    "    blues_precision_array = np.arange(number_iterations).astype(np.float32)\n",
    "    blues_recall_array = np.arange(number_iterations).astype(np.float32)\n",
    "    blues_f1_score_array = np.arange(number_iterations).astype(np.float32)\n",
    "    \n",
    "    classical_precision_array = np.arange(number_iterations).astype(np.float32)\n",
    "    classical_recall_array = np.arange(number_iterations).astype(np.float32)\n",
    "    classical_f1_score_array = np.arange(number_iterations).astype(np.float32)\n",
    "    \n",
    "    country_precision_array = np.arange(number_iterations).astype(np.float32)\n",
    "    country_recall_array = np.arange(number_iterations).astype(np.float32)\n",
    "    country_f1_score_array = np.arange(number_iterations).astype(np.float32)\n",
    "    \n",
    "    disco_precision_array = np.arange(number_iterations).astype(np.float32)\n",
    "    disco_recall_array = np.arange(number_iterations).astype(np.float32)\n",
    "    disco_f1_score_array = np.arange(number_iterations).astype(np.float32)\n",
    "    \n",
    "    hiphop_precision_array = np.arange(number_iterations).astype(np.float32)\n",
    "    hiphop_recall_array = np.arange(number_iterations).astype(np.float32)\n",
    "    hiphop_f1_score_array = np.arange(number_iterations).astype(np.float32)\n",
    "    \n",
    "    jazz_precision_array = np.arange(number_iterations).astype(np.float32)\n",
    "    jazz_recall_array = np.arange(number_iterations).astype(np.float32)\n",
    "    jazz_f1_score_array = np.arange(number_iterations).astype(np.float32)\n",
    "    \n",
    "    metal_precision_array = np.arange(number_iterations).astype(np.float32)\n",
    "    metal_recall_array = np.arange(number_iterations).astype(np.float32)\n",
    "    metal_f1_score_array = np.arange(number_iterations).astype(np.float32)\n",
    "    \n",
    "    pop_precision_array = np.arange(number_iterations).astype(np.float32)\n",
    "    pop_recall_array = np.arange(number_iterations).astype(np.float32)\n",
    "    pop_f1_score_array = np.arange(number_iterations).astype(np.float32)\n",
    "    \n",
    "    reggae_precision_array = np.arange(number_iterations).astype(np.float32)\n",
    "    reggae_recall_array = np.arange(number_iterations).astype(np.float32)\n",
    "    reggae_f1_score_array = np.arange(number_iterations).astype(np.float32)\n",
    "    \n",
    "    rock_precision_array = np.arange(number_iterations).astype(np.float32)\n",
    "    rock_recall_array = np.arange(number_iterations).astype(np.float32)\n",
    "    rock_f1_score_array = np.arange(number_iterations).astype(np.float32)\n",
    "    \n",
    "    macro_avg_precision_array = np.arange(number_iterations).astype(np.float32)\n",
    "    macro_avg_recall_array = np.arange(number_iterations).astype(np.float32)\n",
    "    macro_avg_f1_score_array = np.arange(number_iterations).astype(np.float32)\n",
    "    \n",
    "    weighted_avg_precision_array = np.arange(number_iterations).astype(np.float32)\n",
    "    weighted_avg_recall_array = np.arange(number_iterations).astype(np.float32)\n",
    "    weighted_avg_f1_score_array = np.arange(number_iterations).astype(np.float32)\n",
    "    \n",
    "    accuracy_avg_array = np.arange(number_iterations).astype(np.float32)\n",
    "    \n",
    "    labels = ['Blues','Classical','Country','Disco','Hiphop','Jazz','Metal','Pop','Reggae','Rock']\n",
    "    \n",
    "    # Loop with the training RF classiffier itrerations. We fill the arrays metrics in each iteration     \n",
    "    \n",
    "    for i in range(0, number_iterations):\n",
    "        report = train_clasify()\n",
    "        \n",
    "        # Metrics by Genre\n",
    "        (precision, recall, f1_score) = get_metrics(report, \"Blues\", 12)\n",
    "        blues_precision_array[i] = precision\n",
    "        blues_recall_array[i] = recall\n",
    "        blues_f1_score_array[i] = f1_score\n",
    "        \n",
    "        (precision, recall, f1_score) = get_metrics(report, \"Classical\", 16)\n",
    "        classical_precision_array[i] = precision\n",
    "        classical_recall_array[i] = recall\n",
    "        classical_f1_score_array[i] = f1_score\n",
    "        \n",
    "        (precision, recall, f1_score) = get_metrics(report, \"Country\", 14)\n",
    "        country_precision_array[i] = precision\n",
    "        country_recall_array[i] = recall\n",
    "        country_f1_score_array[i] = f1_score\n",
    "        \n",
    "        (precision, recall, f1_score) = get_metrics(report, \"Disco\", 12)\n",
    "        disco_precision_array[i] = precision\n",
    "        disco_recall_array[i] = recall\n",
    "        disco_f1_score_array[i] = f1_score\n",
    "        \n",
    "        (precision, recall, f1_score) = get_metrics(report, \"Hiphop\", 13)\n",
    "        hiphop_precision_array[i] = precision\n",
    "        hiphop_recall_array[i] = recall\n",
    "        hiphop_f1_score_array[i] = f1_score\n",
    "        \n",
    "        (precision, recall, f1_score) = get_metrics(report, \"Jazz\", 11)\n",
    "        jazz_precision_array[i] = precision\n",
    "        jazz_recall_array[i] = recall\n",
    "        jazz_f1_score_array[i] = f1_score\n",
    "        \n",
    "        (precision, recall, f1_score) = get_metrics(report, \"Metal\", 12)\n",
    "        metal_precision_array[i] = precision\n",
    "        metal_recall_array[i] = recall\n",
    "        metal_f1_score_array[i] = f1_score\n",
    "        \n",
    "        (precision, recall, f1_score) = get_metrics(report, \"Pop\", 10)\n",
    "        pop_precision_array[i] = precision\n",
    "        pop_recall_array[i] = recall\n",
    "        pop_f1_score_array[i] = f1_score\n",
    "        \n",
    "        (precision, recall, f1_score) = get_metrics(report, \"Reggae\", 13)\n",
    "        reggae_precision_array[i] = precision\n",
    "        reggae_recall_array[i] = recall\n",
    "        reggae_f1_score_array[i] = f1_score\n",
    "        \n",
    "        (precision, recall, f1_score) = get_metrics(report, \"Rock\", 11)\n",
    "        rock_precision_array[i] = precision\n",
    "        rock_recall_array[i] = recall\n",
    "        rock_f1_score_array[i] = f1_score\n",
    "        \n",
    "        # General metrics         \n",
    "        \n",
    "        (precision, recall, f1_score) = get_metrics(report, \"accuracy\", 15)\n",
    "        accuracy_avg_array[i] = f1_score\n",
    "        \n",
    "        (precision, recall, f1_score) = get_metrics(report, \"weighted\", 19)\n",
    "        weighted_avg_precision_array[i] = precision\n",
    "        weighted_avg_recall_array[i] = recall\n",
    "        weighted_avg_f1_score_array[i] = f1_score\n",
    "        \n",
    "        (precision, recall, f1_score) = get_metrics(report, \"macro avg\", 16)\n",
    "        macro_avg_precision_array[i] = precision\n",
    "        macro_avg_recall_array[i] = recall\n",
    "        macro_avg_f1_score_array[i] = f1_score\n",
    "        \n",
    "    # Now we fill the arrays that we are going to use to create the final dictionaries     \n",
    "    \n",
    "    precision_array = []\n",
    "    recall_array = []\n",
    "    f1_score_array = []\n",
    "    \n",
    "    precision_array.append(blues_precision_array.mean())\n",
    "    recall_array.append(blues_recall_array.mean())\n",
    "    f1_score_array.append(blues_f1_score_array.mean())\n",
    "    \n",
    "    precision_array.append(classical_precision_array.mean())\n",
    "    recall_array.append(classical_recall_array.mean())\n",
    "    f1_score_array.append(classical_f1_score_array.mean())\n",
    "    \n",
    "    precision_array.append(country_precision_array.mean())\n",
    "    recall_array.append(country_recall_array.mean())\n",
    "    f1_score_array.append(country_f1_score_array.mean())\n",
    "    \n",
    "    precision_array.append(disco_precision_array.mean())\n",
    "    recall_array.append(disco_recall_array.mean())\n",
    "    f1_score_array.append(disco_f1_score_array.mean())\n",
    "    \n",
    "    precision_array.append(hiphop_precision_array.mean())\n",
    "    recall_array.append(hiphop_recall_array.mean())\n",
    "    f1_score_array.append(hiphop_f1_score_array.mean())\n",
    "    \n",
    "    precision_array.append(jazz_precision_array.mean())\n",
    "    recall_array.append(jazz_recall_array.mean())\n",
    "    f1_score_array.append(jazz_f1_score_array.mean())\n",
    "    \n",
    "    precision_array.append(metal_precision_array.mean())\n",
    "    recall_array.append(metal_recall_array.mean())\n",
    "    f1_score_array.append(metal_f1_score_array.mean())\n",
    "    \n",
    "    precision_array.append(pop_precision_array.mean())\n",
    "    recall_array.append(pop_recall_array.mean())\n",
    "    f1_score_array.append(pop_f1_score_array.mean())\n",
    "    \n",
    "    precision_array.append(reggae_precision_array.mean())\n",
    "    recall_array.append(reggae_recall_array.mean())\n",
    "    f1_score_array.append(reggae_f1_score_array.mean())\n",
    "    \n",
    "    precision_array.append(rock_precision_array.mean())\n",
    "    recall_array.append(rock_recall_array.mean())\n",
    "    f1_score_array.append(rock_f1_score_array.mean())\n",
    "    \n",
    "    # Dictionaries creation     \n",
    "    \n",
    "    by_label_metrics_dict = {\n",
    "        \n",
    "        'Genre': labels,\n",
    "        'avg_precision': precision_array,\n",
    "        'avg_recall': recall_array,\n",
    "        'avg_f1_score': f1_score_array,\n",
    "        \n",
    "    }\n",
    "    \n",
    "    total_metrics_dict = {\n",
    "        \n",
    "        'avg_accuracy': accuracy_avg_array.mean(),\n",
    "        \n",
    "        'weighted_avg_precision': weighted_avg_precision_array.mean(),\n",
    "        'weighted_avg_recall': weighted_avg_recall_array.mean(),\n",
    "        'weighted_avg_f1_score': weighted_avg_f1_score_array.mean(),\n",
    "        \n",
    "        'macro_avg_precision': macro_avg_precision_array.mean(),\n",
    "        'macro_avg_recall': macro_avg_recall_array.mean(),\n",
    "        'macro_avg_f1_score': macro_avg_f1_score_array.mean(),\n",
    "        \n",
    "    }\n",
    "\n",
    "    return by_label_metrics_dict, total_metrics_dict\n",
    "\n",
    "\n",
    "def export_genre_result_dict_to_csv(by_label_metrics_dict, total_metrics_dict):\n",
    "    \"\"\"\n",
    "    Method that export two dictionaries to csv files using pandas dataframes\n",
    "    \n",
    "        - One with metrics by genre label\n",
    "        - The other with total metrics of all the genre labels\n",
    "    \"\"\"\n",
    "    by_label_metrics_dataframe_columns_tags = ['Genre', 'avg_precision', 'avg_recall', 'avg_f1_score']\n",
    "    total_metrics_dataframe_columns_tags = ['avg_accuracy', \n",
    "                                            'weighted_avg_precision', 'weighted_avg_recall', 'weighted_avg_f1_score',\n",
    "                                            'macro_avg_precision', 'macro_avg_recall', 'macro_avg_f1_score'\n",
    "                                           ]\n",
    "\n",
    "    df_by_label = pd.DataFrame(by_label_metrics_dict, columns = by_label_metrics_dataframe_columns_tags)\n",
    "    df_total = pd.DataFrame(total_metrics_dict, columns = total_metrics_dataframe_columns_tags, index=[0])\n",
    "\n",
    "    df_by_label.to_csv('by_label_metrics.csv')\n",
    "    df_total.to_csv('total_metrics.csv')\n",
    "    \n",
    "    \n",
    "(by_label_metrics_dict, total_metrics_dict) = get_metrics_avg(100)\n",
    "export_genre_result_dict_to_csv(by_label_metrics_dict, total_metrics_dict)\n"
   ]
  },
  {
   "cell_type": "code",
   "execution_count": null,
   "metadata": {},
   "outputs": [],
   "source": [
    "import junix;\n",
    "junix.export_images(filepath= \"ClassificationTree.ipynb\")\n"
   ]
  },
  {
   "cell_type": "code",
   "execution_count": 6,
   "metadata": {},
   "outputs": [
    {
     "ename": "NameError",
     "evalue": "name 'rf' is not defined",
     "output_type": "error",
     "traceback": [
      "\u001b[1;31m---------------------------------------------------------------------------\u001b[0m",
      "\u001b[1;31mNameError\u001b[0m                                 Traceback (most recent call last)",
      "\u001b[1;32m<ipython-input-6-13692930308c>\u001b[0m in \u001b[0;36m<module>\u001b[1;34m\u001b[0m\n\u001b[1;32m----> 1\u001b[1;33m \u001b[0mplot_confusion_matrix\u001b[0m\u001b[1;33m(\u001b[0m\u001b[0mrf\u001b[0m\u001b[1;33m,\u001b[0m \u001b[0mtest_features\u001b[0m\u001b[1;33m,\u001b[0m \u001b[0mtest_labels\u001b[0m\u001b[1;33m)\u001b[0m\u001b[1;33m\u001b[0m\u001b[1;33m\u001b[0m\u001b[0m\n\u001b[0m\u001b[0;32m      2\u001b[0m \u001b[0mfig\u001b[0m \u001b[1;33m=\u001b[0m \u001b[0mplt\u001b[0m\u001b[1;33m.\u001b[0m\u001b[0mgcf\u001b[0m\u001b[1;33m(\u001b[0m\u001b[1;33m)\u001b[0m\u001b[1;33m\u001b[0m\u001b[1;33m\u001b[0m\u001b[0m\n\u001b[0;32m      3\u001b[0m \u001b[0mfig\u001b[0m\u001b[1;33m.\u001b[0m\u001b[0mset_size_inches\u001b[0m\u001b[1;33m(\u001b[0m\u001b[1;36m28.5\u001b[0m\u001b[1;33m,\u001b[0m \u001b[1;36m28.5\u001b[0m\u001b[1;33m)\u001b[0m\u001b[1;33m\u001b[0m\u001b[1;33m\u001b[0m\u001b[0m\n\u001b[0;32m      4\u001b[0m \u001b[0mplt\u001b[0m\u001b[1;33m.\u001b[0m\u001b[0mshow\u001b[0m\u001b[1;33m(\u001b[0m\u001b[1;33m)\u001b[0m\u001b[1;33m\u001b[0m\u001b[1;33m\u001b[0m\u001b[0m\n\u001b[0;32m      5\u001b[0m \u001b[1;33m\u001b[0m\u001b[0m\n",
      "\u001b[1;31mNameError\u001b[0m: name 'rf' is not defined"
     ]
    }
   ],
   "source": [
    "plot_confusion_matrix(rf, test_features, test_labels)\n",
    "fig = plt.gcf()\n",
    "fig.set_size_inches(28.5, 28.5)\n",
    "plt.show()\n",
    "\n",
    "import junix;\n",
    "junix.export_images(filepath= \"ClassificationTree.ipynb\")"
   ]
  },
  {
   "cell_type": "code",
   "execution_count": null,
   "metadata": {},
   "outputs": [],
   "source": []
  },
  {
   "cell_type": "code",
   "execution_count": null,
   "metadata": {},
   "outputs": [],
   "source": []
  }
 ],
 "metadata": {
  "kernelspec": {
   "display_name": "Python 3",
   "language": "python",
   "name": "python3"
  },
  "language_info": {
   "codemirror_mode": {
    "name": "ipython",
    "version": 3
   },
   "file_extension": ".py",
   "mimetype": "text/x-python",
   "name": "python",
   "nbconvert_exporter": "python",
   "pygments_lexer": "ipython3",
   "version": "3.7.9"
  }
 },
 "nbformat": 4,
 "nbformat_minor": 4
}
