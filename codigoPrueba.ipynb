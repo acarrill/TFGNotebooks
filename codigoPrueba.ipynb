{
 "cells": [
  {
   "cell_type": "code",
   "execution_count": null,
   "metadata": {},
   "outputs": [],
   "source": [
    "# Visualization of extracted features\n",
    "\n",
    "rmse = get_rmse(audio_array, sr, hop_length, frame_length)\n",
    "short_time_energy = get_short_time_energy(audio_array, sr, hop_length, frame_length)\n",
    "\n",
    "plt.figure(figsize=(14, 5))\n",
    "# plt.plot(t, rmse, color='b')\n",
    "# plt.plot(t, short_time_energy, color='r')\n",
    "\n",
    "\n",
    "zero_crossings = librosa.zero_crossings(audio_array[:2586])\n",
    "plt.plot(zero_crossings[:100], color='b')\n",
    "print(sum(zero_crossings))\n",
    "\n",
    "\n",
    "C = get_cqt(audio_array, sr, fmin, 72, hop_length)\n",
    "print(cqt.shape)\n",
    "logC = librosa.amplitude_to_db(np.abs(C))\n",
    "plt.figure(figsize=(15, 5))\n",
    "librosa.display.specshow(logC, sr=sr, x_axis='time', y_axis='cqt_note', fmin=fmin, cmap='coolwarm')\n",
    "\n",
    "chromagram = get_chromagram(audio_array, sr, hop_length)\n",
    "plt.figure(figsize=(15, 5))\n",
    "librosa.display.specshow(chromagram, x_axis='time', y_axis='chroma', hop_length=hop_length, cmap='coolwarm')"
   ]
  },
  {
   "cell_type": "code",
   "execution_count": null,
   "metadata": {},
   "outputs": [],
   "source": [
    "# we must preprocessed length \n",
    "def replace_comma(array_list):\n",
    "    column_processed = []\n",
    "    for x in array_list:\n",
    "        column_processed.append(x.replace('[', ''))\n",
    "        column_processed.append(x.replace(']', ''))\n",
    "    return column_processed\n",
    "\n",
    "print(train_features['MFCCS'])\n",
    "train_features['Energy'] = replace_comma(train_features['Energy'][1])\n",
    "train_features['RMSE'] = replace_comma(train_features['RMSE'][1])\n",
    "train_features['MFCCS'] = replace_comma(train_features['MFCCS'][1])\n",
    "train_features['CQT'] = replace_comma(train_features['CQT'][1])\n",
    "train_features['Spectral_Contrast'] = replace_comma(train_features['Spectral_Contrast'][1])\n",
    "train_features['Chromagram'] = replace_comma(train_features['Chromagram'][1])\n",
    "\n",
    "print(train_features['Energy'])"
   ]
  }
 ],
 "metadata": {
  "kernelspec": {
   "display_name": "Python 3",
   "language": "python",
   "name": "python3"
  },
  "language_info": {
   "codemirror_mode": {
    "name": "ipython",
    "version": 3
   },
   "file_extension": ".py",
   "mimetype": "text/x-python",
   "name": "python",
   "nbconvert_exporter": "python",
   "pygments_lexer": "ipython3",
   "version": "3.7.9"
  }
 },
 "nbformat": 4,
 "nbformat_minor": 4
}
