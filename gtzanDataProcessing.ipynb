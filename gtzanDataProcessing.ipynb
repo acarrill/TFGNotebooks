{
 "cells": [
  {
   "cell_type": "code",
   "execution_count": null,
   "id": "17f4bb47-3916-4ae8-851c-508094dd201c",
   "metadata": {},
   "outputs": [],
   "source": [
    "# Directories creation for GTZAN\n",
    "genres = 'blues jazz classical country disco pop hiphop metal reggae rock'\n",
    "genres = genres.split()\n",
    "for g in genres:\n",
    "  path_audio = os.path.join('Datasets/GTZAN_GENRE_COLLECTION/audio3sec',f'{g}')\n",
    "  os.makedirs(path_audio)"
   ]
  },
  {
   "cell_type": "code",
   "execution_count": null,
   "id": "b6e2b934-5303-4fdd-a1f6-540f16636586",
   "metadata": {},
   "outputs": [],
   "source": [
    "# GTZAN --- DATA AUGMENTATION\n",
    "genres = 'blues jazz classical country disco pop hiphop metal reggae rock'\n",
    "genres = genres.split()\n",
    "for g in genres:\n",
    "    print(f\"{g}\")\n",
    "    songIndex = -1\n",
    "    for filename in os.listdir(os.path.join('Datasets/GTZAN_GENRE_COLLECTION/genres',f\"{g}\")):\n",
    "        song  =  os.path.join(r\"C:\\Users\\alvar\\github\\TFGa\\MyTFG\\python\\Datasets\\GTZAN_GENRE_COLLECTION\\genres\", f'{g}', f'{filename}')\n",
    "        print(song)\n",
    "        songIndex = songIndex + 1\n",
    "        for sliceIndex in range(0,10):\n",
    "            t1 = 3*(sliceIndex)*1000\n",
    "            t2 = 3*(sliceIndex+1)*1000\n",
    "            newAudio = pydub.AudioSegment.from_file(song)\n",
    "            new = newAudio[t1:t2]\n",
    "            new_filename = g + \"0\" + str(songIndex) + str(sliceIndex)\n",
    "            print(new_filename)\n",
    "            song_out = os.path.join(r\"C:\\Users\\alvar\\github\\TFGa\\MyTFG\\python\\Datasets\\GTZAN_GENRE_COLLECTION\\audio3sec\", f'{g}', f'{new_filename}')\n",
    "            new.export(song_out, format=\"au\")"
   ]
  }
 ],
 "metadata": {
  "kernelspec": {
   "display_name": "Python 3 (ipykernel)",
   "language": "python",
   "name": "python3"
  },
  "language_info": {
   "codemirror_mode": {
    "name": "ipython",
    "version": 3
   },
   "file_extension": ".py",
   "mimetype": "text/x-python",
   "name": "python",
   "nbconvert_exporter": "python",
   "pygments_lexer": "ipython3",
   "version": "3.7.11"
  }
 },
 "nbformat": 4,
 "nbformat_minor": 5
}
