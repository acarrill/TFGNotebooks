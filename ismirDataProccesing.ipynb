{
 "cells": [
  {
   "cell_type": "code",
   "execution_count": null,
   "id": "e5b72505-ad2c-4c4d-a779-7cdf6160eaee",
   "metadata": {},
   "outputs": [],
   "source": [
    "for filename in glob.glob('Datasets/ismir04_genre/audio/evaluation/classical/**/*.mp3', recursive=True):\n",
    "    new = pydub.AudioSegment.from_file(filename)\n",
    "    song_out  =  os.path.join(r\"C:\\Users\\alvar\\github\\gitTfgPy\\TFGNotebooks\\Datasets\\ismir04_genre\\audio\\evaluation\", f'{g}', f'')\n",
    "    new.export(song_out, format=\"au\")"
   ]
  },
  {
   "cell_type": "code",
   "execution_count": null,
   "id": "e40f4ae1-6eb5-4b86-b871-2faf5e0a117c",
   "metadata": {},
   "outputs": [],
   "source": [
    "# Audios subfolders extraction for ISMIR 04\n",
    "import glob\n",
    "genres = 'classical electronic jazz metal pop punk rock world'\n",
    "genres = genres.split()\n",
    "for g in genres:\n",
    "    print(f\"{g}\")\n",
    "    songIndex = -1\n",
    "    for filename in glob.glob(os.path.join('Datasets/ismir04_genre/audio/evaluation',f\"{g}\", '**/*.mp3'), recursive=True):\n",
    "        print(filename)\n",
    "        t1 = 3*1000\n",
    "        t2 = 3*(2)*1000\n",
    "        songIndex = songIndex + 1\n",
    "        newAudio = pydub.AudioSegment.from_file(filename)\n",
    "        new = newAudio[t1:t2]\n",
    "        new_filename = g + \"0\" + str(songIndex) + \".au\"\n",
    "        song_out  =  os.path.join(r\"C:\\Users\\alvar\\github\\gitTfgPy\\TFGNotebooks\\Datasets\\ismir04_genre\\audio\\evaluation\", f'{g}', f'{new_filename}')\n",
    "        new.export(song_out, format=\"au\")"
   ]
  }
 ],
 "metadata": {
  "kernelspec": {
   "display_name": "Python 3 (ipykernel)",
   "language": "python",
   "name": "python3"
  },
  "language_info": {
   "codemirror_mode": {
    "name": "ipython",
    "version": 3
   },
   "file_extension": ".py",
   "mimetype": "text/x-python",
   "name": "python",
   "nbconvert_exporter": "python",
   "pygments_lexer": "ipython3",
   "version": "3.7.11"
  }
 },
 "nbformat": 4,
 "nbformat_minor": 5
}
